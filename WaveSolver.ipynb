{
 "cells": [
  {
   "cell_type": "code",
   "execution_count": 10,
   "id": "2662a13d-ed45-442c-8575-09fb74911308",
   "metadata": {},
   "outputs": [],
   "source": [
    "import glob\n",
    "import segyio\n",
    "import segysak\n",
    "import pandas as pd\n",
    "import numpy as np\n",
    "import xarray as xr\n",
    "from devito import configuration, VectorTimeFunction, TensorTimeFunction\n",
    "from examples.seismic import AcquisitionGeometry\n",
    "from examples.seismic.elastic import ElasticWaveSolver\n",
    "from scratch.util import (\n",
    "                    CreateSeismicModel,\n",
    "                    nn_interp_coords,\n",
    "                    plot_rec_src,\n",
    "                    plot_seis_data)"
   ]
  },
  {
   "cell_type": "code",
   "execution_count": 2,
   "id": "caf411cf-89d3-42ad-ba40-2ec984655574",
   "metadata": {},
   "outputs": [],
   "source": [
    "configuration['ignore-unknowns'] = True"
   ]
  },
  {
   "cell_type": "code",
   "execution_count": 3,
   "id": "bc8f461e-18eb-437c-bd8d-bc835f7eb724",
   "metadata": {},
   "outputs": [],
   "source": [
    "#Закоменти, чтобы выполнять на CPU\n",
    "from devito import configuration\n",
    "\n",
    "#(a) using one GPU\n",
    "#(b) using multi-GPUs with MPI (requires turning the notebook into a python script)\n",
    "configuration['platform'] = 'nvidiaX'\n",
    "configuration['compiler'] = 'pgcc'\n",
    "configuration['language'] = 'openacc'"
   ]
  },
  {
   "cell_type": "code",
   "execution_count": 4,
   "id": "5937610b-b57d-497a-9bfb-d5d157b81682",
   "metadata": {},
   "outputs": [],
   "source": [
    "sc_path = '2D_Scenarios'\n",
    "scenarios = glob.glob(sc_path+'/sc*')\n",
    "\n",
    "df_ins = pd.read_csv(sc_path+'/instruments.txt', sep='\\t')\n",
    "df_ins['Z'] += 2\n",
    "df_ins['X'] = np.linspace(0,7950, 319)\n",
    "\n",
    "constraints = {\"Vp\": 1800, \"Vs\": 750, \"Rho\" : 1500}"
   ]
  },
  {
   "cell_type": "code",
   "execution_count": 5,
   "id": "345c751b-b8f1-4ed3-bcd9-0feebc89cc92",
   "metadata": {},
   "outputs": [
    {
     "data": {
      "application/vnd.jupyter.widget-view+json": {
       "model_id": "",
       "version_major": 2,
       "version_minor": 0
      },
      "text/plain": [
       "  0%|          | 0.00/1.00 [00:00<?, ? trace-chunks/s]"
      ]
     },
     "metadata": {},
     "output_type": "display_data"
    },
    {
     "data": {
      "application/vnd.jupyter.widget-view+json": {
       "model_id": "",
       "version_major": 2,
       "version_minor": 0
      },
      "text/plain": [
       "  0%|          | 0.00/319 [00:00<?, ? traces/s]"
      ]
     },
     "metadata": {},
     "output_type": "display_data"
    },
    {
     "data": {
      "application/vnd.jupyter.widget-view+json": {
       "model_id": "",
       "version_major": 2,
       "version_minor": 0
      },
      "text/plain": [
       "  0%|          | 0.00/1.00 [00:00<?, ? trace-chunks/s]"
      ]
     },
     "metadata": {},
     "output_type": "display_data"
    },
    {
     "data": {
      "application/vnd.jupyter.widget-view+json": {
       "model_id": "",
       "version_major": 2,
       "version_minor": 0
      },
      "text/plain": [
       "  0%|          | 0.00/319 [00:00<?, ? traces/s]"
      ]
     },
     "metadata": {},
     "output_type": "display_data"
    },
    {
     "data": {
      "application/vnd.jupyter.widget-view+json": {
       "model_id": "",
       "version_major": 2,
       "version_minor": 0
      },
      "text/plain": [
       "  0%|          | 0.00/1.00 [00:00<?, ? trace-chunks/s]"
      ]
     },
     "metadata": {},
     "output_type": "display_data"
    },
    {
     "data": {
      "application/vnd.jupyter.widget-view+json": {
       "model_id": "",
       "version_major": 2,
       "version_minor": 0
      },
      "text/plain": [
       "  0%|          | 0.00/319 [00:00<?, ? traces/s]"
      ]
     },
     "metadata": {},
     "output_type": "display_data"
    },
    {
     "data": {
      "application/vnd.jupyter.widget-view+json": {
       "model_id": "",
       "version_major": 2,
       "version_minor": 0
      },
      "text/plain": [
       "Loading Traces:   0%|          | 0.00/319 [00:00<?, ? traces/s]"
      ]
     },
     "metadata": {},
     "output_type": "display_data"
    },
    {
     "data": {
      "application/vnd.jupyter.widget-view+json": {
       "model_id": "",
       "version_major": 2,
       "version_minor": 0
      },
      "text/plain": [
       "Loading Traces:   0%|          | 0.00/319 [00:00<?, ? traces/s]"
      ]
     },
     "metadata": {},
     "output_type": "display_data"
    },
    {
     "data": {
      "application/vnd.jupyter.widget-view+json": {
       "model_id": "",
       "version_major": 2,
       "version_minor": 0
      },
      "text/plain": [
       "Loading Traces:   0%|          | 0.00/319 [00:00<?, ? traces/s]"
      ]
     },
     "metadata": {},
     "output_type": "display_data"
    },
    {
     "name": "stderr",
     "output_type": "stream",
     "text": [
      "Operator `initdamp` ran in 0.07 s\n",
      "Operator `ForwardElastic` ran in 28.97 s\n"
     ]
    }
   ],
   "source": [
    "for i, scenario in enumerate(scenarios[1:]): #single check\n",
    "# for i, scenario in enumerate(scenarios): #whole\n",
    "    readsgy = lambda x : xr.open_dataset(x,\n",
    "                                         dim_byte_fields={\"cdp\" : 1},\n",
    "                                         extra_byte_fields={'cdp_x':181, 'cdp_y':185}\n",
    "                                        )\n",
    "    el_pars = {file.split('/')[-1].split(' ')[0] : readsgy(file) for file in glob.glob(scenario+'/*.sgy')}\n",
    "    # plot_hist_pars(el_pars, ignore_zero=True) # гистограммы параметров перед корректировкой\n",
    "    for k, v in el_pars.items():\n",
    "        el_pars[k] = el_pars[k].where(((el_pars[k] > constraints[k]) | (el_pars[k].samples>100) | (el_pars[k] == 0)), constraints[k])\n",
    "    # plot_hist_pars(el_pars, ignore_zero=True)  # гистограммы параметров после корректировки\n",
    "\n",
    "    # привычный формат\n",
    "    rho_data = (el_pars[\"Rho\"].data/1000).to_numpy()\n",
    "    vp_data = (el_pars[\"Vp\"].data/1000).to_numpy()\n",
    "    vs_data = (el_pars[\"Vs\"].data/1000).to_numpy()\n",
    "\n",
    "    # Верхний слой со свойствами воды\n",
    "    rho_data[rho_data==0] = 1.\n",
    "    vp_data[vp_data==0] = 1.5\n",
    "    vs_data[vs_data==0] = 0.0\n",
    "\n",
    "    # сетка\n",
    "    dim_vectors = ((el_pars['Rho'].cdp.data-1)*25, (el_pars['Rho'].samples.data))\n",
    "    spacing = (1, 1) # z из header_rho.loc[\"TRACE_SAMPLE_INTERVAL\", \"mean\"]\n",
    "    origin = (0, 0)\n",
    "    nbl = 40\n",
    "    so = 8\n",
    "    \n",
    "    # инт данные\n",
    "    rho_data_int = nn_interp_coords(rho_data, origin, (7950, 1000), spacing, dim_vectors)\n",
    "    vp_data_int = nn_interp_coords(vp_data, origin, (7950, 1000), spacing, dim_vectors)\n",
    "    vs_data_int = nn_interp_coords(vs_data, origin, (7950, 1000), spacing, dim_vectors)\n",
    "\n",
    "    # модель\n",
    "    model = CreateSeismicModel(origin=origin,\n",
    "                           spacing=spacing,\n",
    "                           shape=vp_data_int.shape,\n",
    "                           vp=vp_data_int,\n",
    "                           vs=vs_data_int,\n",
    "                           rho=rho_data_int,\n",
    "                           so=so,\n",
    "                           nbl=nbl,\n",
    "                           bcs='mask',\n",
    "                          )\n",
    "    \n",
    "    # геометрия\n",
    "    t0=0.\n",
    "    tn=2000.\n",
    "    f0=0.015\n",
    "\n",
    "    nsrc = 1\n",
    "    src_coordinates = np.empty((nsrc, 2))\n",
    "    src_coordinates[:] = ([df_ins['X'][159], 0])\n",
    "\n",
    "    nrec = df_ins.shape[0]\n",
    "    rec_coordinates = np.empty((nrec, 2))\n",
    "    rec_coordinates[:,0] = df_ins['X']\n",
    "    rec_coordinates[:,1] = df_ins['Z'] \n",
    "\n",
    "    geometry = AcquisitionGeometry(model, rec_coordinates, src_coordinates, t0, tn, f0=f0, src_type='Ricker')\n",
    "    \n",
    "    # солвер\n",
    "    v = VectorTimeFunction(name='v', grid=model.grid, space_order=so, time_order=2)\n",
    "    tau = TensorTimeFunction(name='t', grid=model.grid, space_order=so, time_order=2)\n",
    "    solver = ElasticWaveSolver(model, geometry, space_order=so, v=v, tau=tau)\n",
    "    \n",
    "    # оператор\n",
    "    rec_p, rec_v, v, tau, summary = solver.forward()\n",
    "    \n",
    "    # выгрузка в sgy\n",
    "    dt_r = 1\n",
    "    inheader = segysak.segy.segy_header_scrape(scenarios[1]+'/Vs 2D 1.sgy')\n",
    "    rec_v = rec_v.resample(dt=dt_r)\n",
    "    \n",
    "    segyio.tools.from_array2D('Results/2d_vankor_'+scenarios[1].split('/')[1]+'.sgy', rec_v.data.T, dt=dt_r*10**3)\n",
    "    with segyio.open('Results/2d_vankor'+scenarios[1].split('/')[1]+'.sgy', 'r+') as f:\n",
    "        for j in range(len(f.header)):\n",
    "            f.header[j] = {segyio.TraceField.CDP: j,\n",
    "                           segyio.TraceField.CDP_X: np.array(inheader['CDP_X'][j]),\n",
    "                           segyio.TraceField.CDP_Y: np.array(inheader['CDP_Y'][j]),\n",
    "                           segyio.TraceField.ReceiverGroupElevation: np.array(df_ins['Z'][j], dtype = int),\n",
    "                           segyio.TraceField.ElevationScalar : np.array(inheader['ElevationScalar'][j]),\n",
    "                           segyio.TraceField.SourceGroupScalar : 1,\n",
    "                           segyio.TraceField.SourceX : np.array(df_ins['X'][159], dtype = int)\n",
    "                          }\n",
    "    #Доделать, чтобы шот отображался еще и в названии"
   ]
  },
  {
   "cell_type": "code",
   "execution_count": null,
   "id": "3850fd9e-b193-47ea-9487-b6f4d975e72d",
   "metadata": {},
   "outputs": [],
   "source": [
    "plot_rec_src(model=model, data_type='lam', src_coords=src_coordinates, rec_coords=rec_coordinates, xrange=(0,2), yrange=(0.1,0))"
   ]
  },
  {
   "cell_type": "code",
   "execution_count": null,
   "id": "5510d73c-60ff-4dca-8fea-c167811942d7",
   "metadata": {},
   "outputs": [],
   "source": [
    "plot_seis_data(rec_coordinates=rec_coordinates,rec_data=rec1.data, t0=t0, tn=tn)"
   ]
  }
 ],
 "metadata": {
  "kernelspec": {
   "display_name": "Python 3 (ipykernel)",
   "language": "python",
   "name": "python3"
  },
  "language_info": {
   "codemirror_mode": {
    "name": "ipython",
    "version": 3
   },
   "file_extension": ".py",
   "mimetype": "text/x-python",
   "name": "python",
   "nbconvert_exporter": "python",
   "pygments_lexer": "ipython3",
   "version": "3.12.3"
  }
 },
 "nbformat": 4,
 "nbformat_minor": 5
}
