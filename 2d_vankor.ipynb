{
 "cells": [
  {
   "cell_type": "code",
   "execution_count": 1,
   "id": "f9f118cd-e9d1-4f1a-b3e3-c1e504ebedcc",
   "metadata": {},
   "outputs": [],
   "source": [
    "import pandas as pd\n",
    "import segysak\n",
    "import xarray as xr\n",
    "import numpy as np\n",
    "from matplotlib import pyplot as plt\n",
    "import glob"
   ]
  },
  {
   "cell_type": "code",
   "execution_count": 2,
   "id": "eb3d4899-9bf8-4f7a-84cb-a053db49af66",
   "metadata": {},
   "outputs": [],
   "source": [
    "def plot_hist_pars(el_pars, ignore_zero=False):\n",
    "    fig, axs = plt.subplots(1, 3, figsize=(12, 3), dpi=150)\n",
    "    \n",
    "    for (k, v), ax in zip(el_pars.items(), axs):\n",
    "        data = v.data.to_numpy().flatten()\n",
    "        if ignore_zero:\n",
    "            data = data[data != 0]\n",
    "        ax.set_title(k)\n",
    "        ax.hist(data, bins=20)\n",
    "        ax.set_ylim([0, 20])\n",
    "    plt.show()"
   ]
  },
  {
   "cell_type": "code",
   "execution_count": 3,
   "id": "4aa2ec9e-f8f5-4ee5-bd3a-c7776a5614b1",
   "metadata": {},
   "outputs": [
    {
     "data": {
      "text/plain": [
       "['.\\\\2D_Scenarios\\\\sc_1', '.\\\\2D_Scenarios\\\\sc_2', '.\\\\2D_Scenarios\\\\sc_3']"
      ]
     },
     "execution_count": 3,
     "metadata": {},
     "output_type": "execute_result"
    }
   ],
   "source": [
    "sc_path = r'.\\2D_Scenarios'\n",
    "scenarios = glob.glob(sc_path+'\\sc*')\n",
    "scenarios"
   ]
  },
  {
   "cell_type": "markdown",
   "id": "ac73d113-890e-486d-b56a-1fc0c4908a5e",
   "metadata": {},
   "source": [
    "Эту модель будут варьировать на предмет наличия талых зон, поэтому будет несколько сценариев, для каждого сценария своя моделька"
   ]
  },
  {
   "cell_type": "markdown",
   "id": "bac5d48a-0177-4ad9-84e8-abfc1c7aa3cd",
   "metadata": {},
   "source": [
    "Ниже датафрейм с координатами приборов. Это и приемники, и источники одновременно, т.е. всего будет 319 сейсмограмм по 319 трасс"
   ]
  },
  {
   "cell_type": "code",
   "execution_count": 4,
   "id": "45150a71-da15-46fa-b061-5c05916ef624",
   "metadata": {},
   "outputs": [
    {
     "data": {
      "text/html": [
       "<div>\n",
       "<style scoped>\n",
       "    .dataframe tbody tr th:only-of-type {\n",
       "        vertical-align: middle;\n",
       "    }\n",
       "\n",
       "    .dataframe tbody tr th {\n",
       "        vertical-align: top;\n",
       "    }\n",
       "\n",
       "    .dataframe thead th {\n",
       "        text-align: right;\n",
       "    }\n",
       "</style>\n",
       "<table border=\"1\" class=\"dataframe\">\n",
       "  <thead>\n",
       "    <tr style=\"text-align: right;\">\n",
       "      <th></th>\n",
       "      <th>X</th>\n",
       "      <th>Surf_idx</th>\n",
       "      <th>Z</th>\n",
       "    </tr>\n",
       "  </thead>\n",
       "  <tbody>\n",
       "    <tr>\n",
       "      <th>0</th>\n",
       "      <td>0.00</td>\n",
       "      <td>26</td>\n",
       "      <td>50.0</td>\n",
       "    </tr>\n",
       "    <tr>\n",
       "      <th>1</th>\n",
       "      <td>25.96</td>\n",
       "      <td>26</td>\n",
       "      <td>50.0</td>\n",
       "    </tr>\n",
       "    <tr>\n",
       "      <th>2</th>\n",
       "      <td>50.96</td>\n",
       "      <td>27</td>\n",
       "      <td>52.0</td>\n",
       "    </tr>\n",
       "    <tr>\n",
       "      <th>3</th>\n",
       "      <td>77.21</td>\n",
       "      <td>27</td>\n",
       "      <td>52.0</td>\n",
       "    </tr>\n",
       "    <tr>\n",
       "      <th>4</th>\n",
       "      <td>102.21</td>\n",
       "      <td>27</td>\n",
       "      <td>52.0</td>\n",
       "    </tr>\n",
       "    <tr>\n",
       "      <th>...</th>\n",
       "      <td>...</td>\n",
       "      <td>...</td>\n",
       "      <td>...</td>\n",
       "    </tr>\n",
       "    <tr>\n",
       "      <th>314</th>\n",
       "      <td>7999.83</td>\n",
       "      <td>34</td>\n",
       "      <td>66.0</td>\n",
       "    </tr>\n",
       "    <tr>\n",
       "      <th>315</th>\n",
       "      <td>8024.83</td>\n",
       "      <td>34</td>\n",
       "      <td>66.0</td>\n",
       "    </tr>\n",
       "    <tr>\n",
       "      <th>316</th>\n",
       "      <td>8049.83</td>\n",
       "      <td>34</td>\n",
       "      <td>66.0</td>\n",
       "    </tr>\n",
       "    <tr>\n",
       "      <th>317</th>\n",
       "      <td>8076.08</td>\n",
       "      <td>34</td>\n",
       "      <td>66.0</td>\n",
       "    </tr>\n",
       "    <tr>\n",
       "      <th>318</th>\n",
       "      <td>8101.08</td>\n",
       "      <td>34</td>\n",
       "      <td>66.0</td>\n",
       "    </tr>\n",
       "  </tbody>\n",
       "</table>\n",
       "<p>319 rows × 3 columns</p>\n",
       "</div>"
      ],
      "text/plain": [
       "           X  Surf_idx     Z\n",
       "0       0.00        26  50.0\n",
       "1      25.96        26  50.0\n",
       "2      50.96        27  52.0\n",
       "3      77.21        27  52.0\n",
       "4     102.21        27  52.0\n",
       "..       ...       ...   ...\n",
       "314  7999.83        34  66.0\n",
       "315  8024.83        34  66.0\n",
       "316  8049.83        34  66.0\n",
       "317  8076.08        34  66.0\n",
       "318  8101.08        34  66.0\n",
       "\n",
       "[319 rows x 3 columns]"
      ]
     },
     "execution_count": 4,
     "metadata": {},
     "output_type": "execute_result"
    }
   ],
   "source": [
    "df_ins = pd.read_csv(sc_path+r'\\instruments.txt', sep='\\t')\n",
    "df_ins"
   ]
  },
  {
   "cell_type": "code",
   "execution_count": 5,
   "id": "bb10d5a9-c72b-410d-a212-38185388a713",
   "metadata": {},
   "outputs": [],
   "source": [
    "constraints = {\"Vp\": 1800, \"Vs\": 750, \"Rho\" : 1500}"
   ]
  },
  {
   "attachments": {},
   "cell_type": "markdown",
   "id": "f4c77397-0afe-47c2-b130-3a4642225c0e",
   "metadata": {},
   "source": [
    "В изначальных моделях есть корявые ячейки у самой поверхности, где Vp очень низкие, контраст с соседними ячейками достигает 2000+. Когда волновой процесс доходит до этих ячеек, очень часто вылезает вычислительная неустойчивость. Не хочется ради них задирать порядок аппроксимации и улучшать дискретизацию<br>\n",
    "Код ниже позволяет убрать их"
   ]
  },
  {
   "cell_type": "code",
   "execution_count": 8,
   "id": "9296497b-7507-4585-a7f8-c4043b63130d",
   "metadata": {},
   "outputs": [
    {
     "data": {
      "application/vnd.jupyter.widget-view+json": {
       "model_id": "",
       "version_major": 2,
       "version_minor": 0
      },
      "text/plain": [
       "  0%|          | 0.00/1.00 [00:00<?, ? trace-chunks/s]"
      ]
     },
     "metadata": {},
     "output_type": "display_data"
    },
    {
     "data": {
      "application/vnd.jupyter.widget-view+json": {
       "model_id": "",
       "version_major": 2,
       "version_minor": 0
      },
      "text/plain": [
       "  0%|          | 0.00/319 [00:00<?, ? traces/s]"
      ]
     },
     "metadata": {},
     "output_type": "display_data"
    },
    {
     "data": {
      "application/vnd.jupyter.widget-view+json": {
       "model_id": "",
       "version_major": 2,
       "version_minor": 0
      },
      "text/plain": [
       "  0%|          | 0.00/1.00 [00:00<?, ? trace-chunks/s]"
      ]
     },
     "metadata": {},
     "output_type": "display_data"
    },
    {
     "data": {
      "application/vnd.jupyter.widget-view+json": {
       "model_id": "",
       "version_major": 2,
       "version_minor": 0
      },
      "text/plain": [
       "  0%|          | 0.00/319 [00:00<?, ? traces/s]"
      ]
     },
     "metadata": {},
     "output_type": "display_data"
    },
    {
     "data": {
      "application/vnd.jupyter.widget-view+json": {
       "model_id": "",
       "version_major": 2,
       "version_minor": 0
      },
      "text/plain": [
       "  0%|          | 0.00/1.00 [00:00<?, ? trace-chunks/s]"
      ]
     },
     "metadata": {},
     "output_type": "display_data"
    },
    {
     "data": {
      "application/vnd.jupyter.widget-view+json": {
       "model_id": "",
       "version_major": 2,
       "version_minor": 0
      },
      "text/plain": [
       "  0%|          | 0.00/319 [00:00<?, ? traces/s]"
      ]
     },
     "metadata": {},
     "output_type": "display_data"
    },
    {
     "data": {
      "application/vnd.jupyter.widget-view+json": {
       "model_id": "",
       "version_major": 2,
       "version_minor": 0
      },
      "text/plain": [
       "Loading Traces:   0%|          | 0.00/319 [00:00<?, ? traces/s]"
      ]
     },
     "metadata": {},
     "output_type": "display_data"
    },
    {
     "data": {
      "application/vnd.jupyter.widget-view+json": {
       "model_id": "",
       "version_major": 2,
       "version_minor": 0
      },
      "text/plain": [
       "Loading Traces:   0%|          | 0.00/319 [00:00<?, ? traces/s]"
      ]
     },
     "metadata": {},
     "output_type": "display_data"
    },
    {
     "data": {
      "application/vnd.jupyter.widget-view+json": {
       "model_id": "",
       "version_major": 2,
       "version_minor": 0
      },
      "text/plain": [
       "Loading Traces:   0%|          | 0.00/319 [00:00<?, ? traces/s]"
      ]
     },
     "metadata": {},
     "output_type": "display_data"
    },
    {
     "data": {
      "image/png": "[encoded data removed]",
      "text/plain": [
       "<Figure size 1800x450 with 3 Axes>"
      ]
     },
     "metadata": {},
     "output_type": "display_data"
    },
    {
     "data": {
      "image/png": "[encoded data removed]",
      "text/plain": [
       "<Figure size 1800x450 with 3 Axes>"
      ]
     },
     "metadata": {},
     "output_type": "display_data"
    }
   ],
   "source": [
    "for i, scenario in enumerate(scenarios[:1]): #single check\n",
    "# for i, scenario in enumerate(scenarios): #whole\n",
    "    readsgy = lambda x : xr.open_dataset(x,\n",
    "                                         dim_byte_fields={\"cdp\" : 21},\n",
    "                                         extra_byte_fields={'cdp_x':181, 'cdp_y':185}\n",
    "                                        )\n",
    "    el_pars = {file.split('\\\\')[-1].split(' ')[0] : readsgy(file) for file in glob.glob(scenario+'\\*.sgy')}\n",
    "    plot_hist_pars(el_pars, ignore_zero=True) # гистограммы параметров перед корректировкой\n",
    "    for k, v in el_pars.items():\n",
    "        el_pars[k] = el_pars[k].where(((el_pars[k] > constraints[k]) | (el_pars[k] == 0)) | (el_pars[k].samples>100), constraints[k])\n",
    "    plot_hist_pars(el_pars, ignore_zero=True)  # гистограммы параметров после корректировки\n",
    "\n",
    "    # привычный формат\n",
    "    rho_data = (el_pars[\"Rho\"].data/1000).to_numpy()\n",
    "    vp_data = (el_pars[\"Vp\"].data/1000).to_numpy()\n",
    "    vs_data = (el_pars[\"Vs\"].data/1000).to_numpy()\n",
    "\n",
    "    # твой код\n",
    "    # for i, row in df_ins.iterrows():\n",
    "    #     sou_x = row.X\n",
    "    #     sou_z = row.Z\n",
    "        # сетка\n",
    "    \n",
    "        # модель\n",
    "    \n",
    "        # оператор\n",
    "    \n",
    "        # выгрузка в sgy"
   ]
  },
  {
   "cell_type": "code",
   "execution_count": null,
   "id": "6f19fb5d-db1c-463e-aeaf-f8c1ca583450",
   "metadata": {},
   "outputs": [],
   "source": []
  }
 ],
 "metadata": {
  "kernelspec": {
   "display_name": "Python [conda env:base] *",
   "language": "python",
   "name": "conda-base-py"
  },
  "language_info": {
   "codemirror_mode": {
    "name": "ipython",
    "version": 3
   },
   "file_extension": ".py",
   "mimetype": "text/x-python",
   "name": "python",
   "nbconvert_exporter": "python",
   "pygments_lexer": "ipython3",
   "version": "3.9.18"
  }
 },
 "nbformat": 4,
 "nbformat_minor": 5
}
