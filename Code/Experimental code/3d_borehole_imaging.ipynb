{
 "cells": [
  {
   "cell_type": "code",
   "execution_count": 2,
   "id": "f469af13-5861-44dc-ade7-1b5b3f81f70c",
   "metadata": {},
   "outputs": [],
   "source": [
    "import numpy as np\n",
    "%matplotlib inline\n",
    "import matplotlib as mpl\n",
    "import matplotlib.pyplot as plt\n",
    "from matplotlib import cm\n",
    "from mpl_toolkits.axes_grid1 import make_axes_locatable\n",
    "import pyvista as pv\n",
    "\n",
    "mpl.rc('font', size=16)\n",
    "mpl.rc('figure', figsize=(8, 6))"
   ]
  },
  {
   "cell_type": "markdown",
   "id": "54235ace-89f1-4ff7-acec-6389d5bdedaf",
   "metadata": {},
   "source": [
    "# Model"
   ]
  },
  {
   "cell_type": "code",
   "execution_count": 4,
   "id": "a9826117-0260-4290-9be7-c1f6d825d8b1",
   "metadata": {},
   "outputs": [],
   "source": [
    "#load model\n",
    "kimb_model = np.load('Results/test_model.npy')"
   ]
  },
  {
   "cell_type": "code",
   "execution_count": null,
   "id": "21fdd612-ebcf-4a41-b9d4-c4433703fc02",
   "metadata": {},
   "outputs": [],
   "source": [
    "def plot_3d_pyvista(model :numpy.ndarray):\n",
    "    "
   ]
  },
  {
   "cell_type": "code",
   "execution_count": 6,
   "id": "9ce2d32c-6972-495f-b1b0-48d8de7457d3",
   "metadata": {},
   "outputs": [
    {
     "data": {
      "text/plain": [
       "numpy.ndarray"
      ]
     },
     "execution_count": 6,
     "metadata": {},
     "output_type": "execute_result"
    }
   ],
   "source": [
    "type(kimb_model)"
   ]
  },
  {
   "cell_type": "code",
   "execution_count": null,
   "id": "53b7d650-5398-4db8-83a6-11e1d9e93d1d",
   "metadata": {},
   "outputs": [],
   "source": []
  }
 ],
 "metadata": {
  "kernelspec": {
   "display_name": "Python 3 (ipykernel)",
   "language": "python",
   "name": "python3"
  },
  "language_info": {
   "codemirror_mode": {
    "name": "ipython",
    "version": 3
   },
   "file_extension": ".py",
   "mimetype": "text/x-python",
   "name": "python",
   "nbconvert_exporter": "python",
   "pygments_lexer": "ipython3",
   "version": "3.12.3"
  }
 },
 "nbformat": 4,
 "nbformat_minor": 5
}
