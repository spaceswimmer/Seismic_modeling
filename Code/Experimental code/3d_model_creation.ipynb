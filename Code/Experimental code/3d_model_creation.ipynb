{
 "cells": [
  {
   "cell_type": "code",
   "execution_count": 1,
   "id": "7fa90643-489e-4673-8015-a2e1555891ca",
   "metadata": {},
   "outputs": [],
   "source": [
    "%matplotlib inline\n",
    "from pyvista import set_plot_theme\n",
    "set_plot_theme('document')"
   ]
  },
  {
   "cell_type": "code",
   "execution_count": 2,
   "id": "931b2b92-0592-4e54-bbf9-288d85172cd7",
   "metadata": {},
   "outputs": [
    {
     "name": "stdout",
     "output_type": "stream",
     "text": [
      "Setting Backend To: AvailableBackends.numpy\n"
     ]
    }
   ],
   "source": [
    "# Import necessary libraries\n",
    "import gempy as gp\n",
    "import gempy_viewer as gpv\n",
    "\n",
    "\n",
    "# sphinx_gallery_thumbnail_number = 2"
   ]
  },
  {
   "cell_type": "code",
   "execution_count": 3,
   "id": "9d5c7ca2-e76b-44e3-93f2-03132c805a5e",
   "metadata": {},
   "outputs": [
    {
     "data": {
      "text/html": [
       "\n",
       "        <table>\n",
       "          <tr><td>Structural Groups:</td><td>\n",
       "    <table style=\"border-left:1.2px solid black;>\n",
       "      <tr><th colspan=\"2\"><b>StructuralGroup:</b></th></tr>\n",
       "      <tr><td>Name:</td><td>Kimberlite</td></tr>\n",
       "      <tr><td>Structural Relation:</td><td>StackRelationType.ERODE</td></tr>\n",
       "      <tr><td>Elements:</td><td>\n",
       "    <table width=\"50%\" style=\"border-left:15px solid #015482;\">\n",
       "      <tr><th colspan=\"2\"><b>StructuralElement:</b></th></tr>\n",
       "      <tr><td>Name:</td><td>kimb1</td></tr>\n",
       "    </table>\n",
       "        </td></tr>\n",
       "    </table>\n",
       "        <br>\n",
       "    <table style=\"border-left:1.2px solid black;>\n",
       "      <tr><th colspan=\"2\"><b>StructuralGroup:</b></th></tr>\n",
       "      <tr><td>Name:</td><td>Strat_Series</td></tr>\n",
       "      <tr><td>Structural Relation:</td><td>StackRelationType.ERODE</td></tr>\n",
       "      <tr><td>Elements:</td><td>\n",
       "    <table width=\"50%\" style=\"border-left:15px solid #9f0052;\">\n",
       "      <tr><th colspan=\"2\"><b>StructuralElement:</b></th></tr>\n",
       "      <tr><td>Name:</td><td>layer1</td></tr>\n",
       "    </table>\n",
       "        <br>\n",
       "    <table width=\"50%\" style=\"border-left:15px solid #ffbe00;\">\n",
       "      <tr><th colspan=\"2\"><b>StructuralElement:</b></th></tr>\n",
       "      <tr><td>Name:</td><td>layer2</td></tr>\n",
       "    </table>\n",
       "        </td></tr>\n",
       "    </table>\n",
       "        </td></tr>\n",
       "          <tr><td>Fault Relations:</td><td><table style=\"border-collapse: collapse; table-layout: fixed;\"><th></th><th style=\"transform: rotate(-35deg); height:150px; vertical-align: bottom; text-align: center;\">Kimberlite</th><th style=\"transform: rotate(-35deg); height:150px; vertical-align: bottom; text-align: center;\">Strat_Seri...</th><tr><th>Kimberlite</th><td style=\"background-color: #FFB6C1; width: 20px; height: 20px; border: 1px solid black;\"></td><td style=\"background-color: #FFB6C1; width: 20px; height: 20px; border: 1px solid black;\"></td></tr><tr><th>Strat_Series</th><td style=\"background-color: #FFB6C1; width: 20px; height: 20px; border: 1px solid black;\"></td><td style=\"background-color: #FFB6C1; width: 20px; height: 20px; border: 1px solid black;\"></td></tr></table></td></tr>\n",
       "          <tr><td></td><td>\n",
       "        <table>\n",
       "          <tr>\n",
       "            <td><div style=\"display: inline-block; background-color: #527682; width: 20px; height: 20px; border: 1px solid black;\"></div> True</td>\n",
       "            <td><div style=\"display: inline-block; background-color: #FFB6C1; width: 20px; height: 20px; border: 1px solid black;\"></div> False</td>\n",
       "          </tr>\n",
       "        </table>\n",
       "        </td></tr>\n",
       "        </table>\n",
       "        "
      ],
      "text/plain": [
       "StructuralFrame(\n",
       "\tstructural_groups=[\n",
       "StructuralGroup(\n",
       "\tname=Kimberlite,\n",
       "\tstructural_relation=StackRelationType.ERODE,\n",
       "\telements=[\n",
       "Element(\n",
       "\tname=kimb1,\n",
       "\tcolor=\u001b[38;2;1;84;130m#015482\u001b[0m,\n",
       "\tis_active=True\n",
       ")\n",
       "]\n",
       "),\n",
       "StructuralGroup(\n",
       "\tname=Strat_Series,\n",
       "\tstructural_relation=StackRelationType.ERODE,\n",
       "\telements=[\n",
       "Element(\n",
       "\tname=layer1,\n",
       "\tcolor=\u001b[38;2;159;0;82m#9f0052\u001b[0m,\n",
       "\tis_active=True\n",
       "),\n",
       "Element(\n",
       "\tname=layer2,\n",
       "\tcolor=\u001b[38;2;255;190;0m#ffbe00\u001b[0m,\n",
       "\tis_active=True\n",
       ")\n",
       "]\n",
       ")\n",
       "],\n",
       "\tfault_relations=\n",
       "[[False, False],\n",
       " [False, False]],"
      ]
     },
     "execution_count": 3,
     "metadata": {},
     "output_type": "execute_result"
    }
   ],
   "source": [
    "data_path = 'Modeling_data/'\n",
    "# Create a GeoModel instance\n",
    "data = gp.create_geomodel(\n",
    "    project_name='3d-test',\n",
    "    extent=[0, 100, 0, 100, -100, 0],\n",
    "    refinement=6,\n",
    "    importer_helper=gp.data.ImporterHelper(\n",
    "        path_to_orientations=data_path + \"test_vect.csv\",\n",
    "        path_to_surface_points=data_path + \"Test_points.csv\"\n",
    "    )\n",
    ")\n",
    "# Map geological series to surfaces\n",
    "gp.map_stack_to_surfaces(\n",
    "    gempy_model=data,\n",
    "    #Нужен правильный порядок \n",
    "    mapping_object={\"Kimberlite\": 'kimb1',\n",
    "                    \"Strat_Series\": ('layer1', 'layer2')\n",
    "                   }\n",
    ")"
   ]
  },
  {
   "cell_type": "code",
   "execution_count": 5,
   "id": "69fb6288-2f85-4ca0-99fb-da2ab6d886c0",
   "metadata": {},
   "outputs": [
    {
     "name": "stdout",
     "output_type": "stream",
     "text": [
      "Setting Backend To: AvailableBackends.numpy\n",
      "Chunking done: 18 chunks\n",
      "Chunking done: 13 chunks\n",
      "Chunking done: 18 chunks\n",
      "Chunking done: 12 chunks\n"
     ]
    }
   ],
   "source": [
    "# Compute the geological model\n",
    "geo_data = gp.compute_model(data)"
   ]
  },
  {
   "cell_type": "code",
   "execution_count": 41,
   "id": "d3636d7b-1c4f-42d3-9949-5a29f95a4a42",
   "metadata": {},
   "outputs": [
    {
     "data": {
      "text/plain": [
       "<gempy_viewer.modules.plot_3d.vista.GemPyToVista at 0x7042c4514f80>"
      ]
     },
     "execution_count": 41,
     "metadata": {},
     "output_type": "execute_result"
    }
   ],
   "source": [
    "# gpv.plot_2d(geo_data, direction=['y'], show_results=False)\n",
    "\n",
    "# Plot the result of the model in the x and y direction with data and without boundaries\n",
    "# gpv.plot_2d(geo_data, direction=['x'], show_data=True, show_boundaries=False)\n",
    "# gpv.plot_2d(geo_data, direction=['y'], show_data=True, show_boundaries=False)\n",
    "gpv.plot_3d(data, Image=False)"
   ]
  },
  {
   "cell_type": "code",
   "execution_count": 8,
   "id": "54f0e09c-6fd6-4aca-b63f-b0e1dc6d5553",
   "metadata": {},
   "outputs": [
    {
     "data": {
      "text/plain": [
       "(262144,)"
      ]
     },
     "execution_count": 8,
     "metadata": {},
     "output_type": "execute_result"
    }
   ],
   "source": [
    "geo_data.raw_arrays.lith_block.shape"
   ]
  },
  {
   "cell_type": "code",
   "execution_count": 12,
   "id": "5f9179fa-56ad-4f37-946a-9c041ec12a7e",
   "metadata": {},
   "outputs": [
    {
     "data": {
      "text/plain": [
       "array([64, 64, 64])"
      ]
     },
     "execution_count": 12,
     "metadata": {},
     "output_type": "execute_result"
    }
   ],
   "source": [
    "data.grid._octree_grid.resolution"
   ]
  },
  {
   "cell_type": "code",
   "execution_count": 44,
   "id": "381ba0c2-5575-4839-84e6-0bad13ebdf38",
   "metadata": {},
   "outputs": [],
   "source": [
    "import numpy as np\n",
    "result_model = np.reshape(geo_data.raw_arrays.lith_block, data.grid._octree_grid.resolution)\n",
    "np.save('Results/test_model', result_model)"
   ]
  },
  {
   "cell_type": "code",
   "execution_count": 40,
   "id": "98972924-ac4d-409b-bbab-5fb3764d2caa",
   "metadata": {},
   "outputs": [
    {
     "data": {
      "text/plain": [
       "<matplotlib.image.AxesImage at 0x7042c43064e0>"
      ]
     },
     "execution_count": 40,
     "metadata": {},
     "output_type": "execute_result"
    },
    {
     "data": {
      "image/png": "[encoded data removed]",
      "text/plain": [
       "<Figure size 1040x715 with 1 Axes>"
      ]
     },
     "metadata": {},
     "output_type": "display_data"
    }
   ],
   "source": [
    "import matplotlib.pyplot as plt\n",
    "import matplotlib as mpl\n",
    "\n",
    "fig, ax1 = plt.subplots()\n",
    "ax1.imshow(np.flip(np.transpose(result_model[:,43,:])))"
   ]
  },
  {
   "cell_type": "code",
   "execution_count": null,
   "id": "ba775411-c67f-4021-b6fb-716c26f0057e",
   "metadata": {},
   "outputs": [],
   "source": []
  }
 ],
 "metadata": {
  "kernelspec": {
   "display_name": "Python 3 (ipykernel)",
   "language": "python",
   "name": "python3"
  },
  "language_info": {
   "codemirror_mode": {
    "name": "ipython",
    "version": 3
   },
   "file_extension": ".py",
   "mimetype": "text/x-python",
   "name": "python",
   "nbconvert_exporter": "python",
   "pygments_lexer": "ipython3",
   "version": "3.12.3"
  }
 },
 "nbformat": 4,
 "nbformat_minor": 5
}
