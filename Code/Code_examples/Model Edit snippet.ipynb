{
 "cells": [
  {
   "cell_type": "code",
   "execution_count": null,
   "id": "fd87b748-7c2a-4f35-80e4-b2957847871f",
   "metadata": {},
   "outputs": [],
   "source": [
    "def init_model():\n",
    "#     n_x = np.random.randint(40, 40)\n",
    "    n_x = 40\n",
    "    if (n_x % 2) == 0: \n",
    "        n_x += 1\n",
    "#     n_y = np.random.randint(150, 150)\n",
    "    n_y = 150\n",
    "    if (n_y % 2) == 0: \n",
    "        n_y += 1\n",
    "#     nlayers = np.random.randint(8, 12)\n",
    "    nlayers = 6\n",
    "    so = 4\n",
    "    spacing=1.\n",
    "    model = demo_model(preset='layers-elastic', nlayers=nlayers, shape=(n_x, n_y), spacing=(spacing, spacing),\n",
    "                   space_order=so, nbl=200)\n",
    "    return model, n_x, n_y, so, spacing\n",
    "\n",
    "def augment_model(model):\n",
    "    lam = model.lam.data\n",
    "    mu = model.mu.data\n",
    "    b = model.b.data\n",
    "    model_cs = [lam, mu, b]\n",
    "    model_cs = shuffle_layers(model_cs)\n",
    "    model_cs = aug_vertshift(model_cs)\n",
    "    model_cs = aug_horshift(model_cs)\n",
    "#     model_cs[0:2] = aug_blur(model_cs[0:2])\n",
    "#     model_cs[0] = aug_vgrad_single(model_cs[0])\n",
    "#     model_cs[0] = aug_hgrad_single(model_cs[0])\n",
    "    model_cs[0] = check_lam(model_cs[0])\n",
    "    model_cs[1] = check_g(model_cs[1])\n",
    "    model_cs[2] = check_ro(model_cs[2])\n",
    "    model.lam.data[:] = model_cs[0]\n",
    "    model.mu.data[:] = model_cs[1]\n",
    "    model.b.data[:] = model_cs[2]\n",
    "    return model"
   ]
  }
 ],
 "metadata": {
  "kernelspec": {
   "display_name": "Python 3 (ipykernel)",
   "language": "python",
   "name": "python3"
  },
  "language_info": {
   "codemirror_mode": {
    "name": "ipython",
    "version": 3
   },
   "file_extension": ".py",
   "mimetype": "text/x-python",
   "name": "python",
   "nbconvert_exporter": "python",
   "pygments_lexer": "ipython3",
   "version": "3.12.3"
  }
 },
 "nbformat": 4,
 "nbformat_minor": 5
}
