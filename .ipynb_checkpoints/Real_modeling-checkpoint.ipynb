{
 "cells": [
  {
   "cell_type": "code",
   "execution_count": 1,
   "id": "db1e9ae1-531e-44e0-8c43-bb6ac8878b34",
   "metadata": {},
   "outputs": [],
   "source": [
    "from devito import *\n",
    "import pyvista as pv\n",
    "import numpy as np\n",
    "import matplotlib.pyplot as plt\n",
    "from segysak.segy import (\n",
    "    segy_loader,\n",
    "    get_segy_texthead,\n",
    "    segy_header_scan,\n",
    "    segy_header_scrape,\n",
    "    well_known_byte_locs,\n",
    ")\n",
    "import xarray as xr\n",
    "from examples.seismic import SeismicModel, plot_velocity, demo_model\n",
    "from examples.seismic.source import RickerSource, Receiver, TimeAxis\n",
    "\n",
    "# Some ploting setup\n",
    "plt.rc('text', usetex=True)\n",
    "plt.rc('font', family='serif')\n",
    "plt.rc('xtick', labelsize=20) \n",
    "plt.rc('ytick', labelsize=20)"
   ]
  },
  {
   "cell_type": "code",
   "execution_count": 2,
   "id": "f25676cd-5368-4402-ab74-1405e252d18e",
   "metadata": {
    "editable": true,
    "slideshow": {
     "slide_type": ""
    },
    "tags": []
   },
   "outputs": [],
   "source": [
    "filepath = {'rho' : 'Modeling_data/Rho_model3D-cut.sgy',\n",
    "            'vp' : 'Modeling_data/Vp_model3D-cut.sgy', \n",
    "            'vs' : 'Modeling_data/Vs_model3D-cut.sgy'}"
   ]
  },
  {
   "cell_type": "code",
   "execution_count": 3,
   "id": "a55b5e53-d9d9-4aa8-8b78-c91151f39cf2",
   "metadata": {},
   "outputs": [
    {
     "name": "stderr",
     "output_type": "stream",
     "text": [
      "/tmp/ipykernel_16973/3294394779.py:2: DeprecationWarning: segy_loader will be removed in v0.6, please use the Xarray engine ds = xr.open_dataset(segy_file) method instead.\n",
      "  cube_rho = segy_loader(filepath['rho'], **well_known_byte_locs('petrel_3d'))\n"
     ]
    },
    {
     "data": {
      "application/vnd.jupyter.widget-view+json": {
       "model_id": "",
       "version_major": 2,
       "version_minor": 0
      },
      "text/plain": [
       "  0%|          | 0.00/1.00 [00:00<?, ? trace-chunks/s]"
      ]
     },
     "metadata": {},
     "output_type": "display_data"
    },
    {
     "data": {
      "application/vnd.jupyter.widget-view+json": {
       "model_id": "",
       "version_major": 2,
       "version_minor": 0
      },
      "text/plain": [
       "  0%|          | 0.00/10.2k [00:00<?, ? traces/s]"
      ]
     },
     "metadata": {},
     "output_type": "display_data"
    },
    {
     "name": "stdout",
     "output_type": "stream",
     "text": [
      "Loading as 3D\n",
      "Fast direction is CDP\n"
     ]
    },
    {
     "data": {
      "application/vnd.jupyter.widget-view+json": {
       "model_id": "861434344cff436fa11857300b7c426f",
       "version_major": 2,
       "version_minor": 0
      },
      "text/plain": [
       "Converting SEGY:   0%|          | 0.00/10.2k [00:00<?, ? traces/s]"
      ]
     },
     "metadata": {},
     "output_type": "display_data"
    },
    {
     "name": "stderr",
     "output_type": "stream",
     "text": [
      "/tmp/ipykernel_16973/3294394779.py:3: DeprecationWarning: segy_loader will be removed in v0.6, please use the Xarray engine ds = xr.open_dataset(segy_file) method instead.\n",
      "  cube_vp = segy_loader(filepath['vp'], **well_known_byte_locs('petrel_3d'))\n"
     ]
    },
    {
     "data": {
      "application/vnd.jupyter.widget-view+json": {
       "model_id": "",
       "version_major": 2,
       "version_minor": 0
      },
      "text/plain": [
       "  0%|          | 0.00/1.00 [00:00<?, ? trace-chunks/s]"
      ]
     },
     "metadata": {},
     "output_type": "display_data"
    },
    {
     "data": {
      "application/vnd.jupyter.widget-view+json": {
       "model_id": "",
       "version_major": 2,
       "version_minor": 0
      },
      "text/plain": [
       "  0%|          | 0.00/10.2k [00:00<?, ? traces/s]"
      ]
     },
     "metadata": {},
     "output_type": "display_data"
    },
    {
     "name": "stdout",
     "output_type": "stream",
     "text": [
      "Loading as 3D\n",
      "Fast direction is CDP\n"
     ]
    },
    {
     "data": {
      "application/vnd.jupyter.widget-view+json": {
       "model_id": "576bcf03895a430fad91c5ed98c83994",
       "version_major": 2,
       "version_minor": 0
      },
      "text/plain": [
       "Converting SEGY:   0%|          | 0.00/10.2k [00:00<?, ? traces/s]"
      ]
     },
     "metadata": {},
     "output_type": "display_data"
    },
    {
     "name": "stderr",
     "output_type": "stream",
     "text": [
      "/tmp/ipykernel_16973/3294394779.py:4: DeprecationWarning: segy_loader will be removed in v0.6, please use the Xarray engine ds = xr.open_dataset(segy_file) method instead.\n",
      "  cube_vs = segy_loader(filepath['vs'], **well_known_byte_locs('petrel_3d'))\n"
     ]
    },
    {
     "data": {
      "application/vnd.jupyter.widget-view+json": {
       "model_id": "",
       "version_major": 2,
       "version_minor": 0
      },
      "text/plain": [
       "  0%|          | 0.00/1.00 [00:00<?, ? trace-chunks/s]"
      ]
     },
     "metadata": {},
     "output_type": "display_data"
    },
    {
     "data": {
      "application/vnd.jupyter.widget-view+json": {
       "model_id": "",
       "version_major": 2,
       "version_minor": 0
      },
      "text/plain": [
       "  0%|          | 0.00/10.2k [00:00<?, ? traces/s]"
      ]
     },
     "metadata": {},
     "output_type": "display_data"
    },
    {
     "name": "stdout",
     "output_type": "stream",
     "text": [
      "Loading as 3D\n",
      "Fast direction is CDP\n"
     ]
    },
    {
     "data": {
      "application/vnd.jupyter.widget-view+json": {
       "model_id": "556071e767984169a5c5fc5880083266",
       "version_major": 2,
       "version_minor": 0
      },
      "text/plain": [
       "Converting SEGY:   0%|          | 0.00/10.2k [00:00<?, ? traces/s]"
      ]
     },
     "metadata": {},
     "output_type": "display_data"
    }
   ],
   "source": [
    "#сегваи\n",
    "cube_rho = segy_loader(filepath['rho'], **well_known_byte_locs('petrel_3d'))\n",
    "cube_vp = segy_loader(filepath['vp'], **well_known_byte_locs('petrel_3d'))\n",
    "cube_vs = segy_loader(filepath['vs'], **well_known_byte_locs('petrel_3d'))"
   ]
  },
  {
   "cell_type": "code",
   "execution_count": 4,
   "id": "22d943b7-ffa4-497d-ae0b-ad6034eddc4a",
   "metadata": {},
   "outputs": [
    {
     "data": {
      "application/vnd.jupyter.widget-view+json": {
       "model_id": "",
       "version_major": 2,
       "version_minor": 0
      },
      "text/plain": [
       "  0%|          | 0.00/1.00 [00:00<?, ? trace-chunks/s]"
      ]
     },
     "metadata": {},
     "output_type": "display_data"
    },
    {
     "data": {
      "application/vnd.jupyter.widget-view+json": {
       "model_id": "",
       "version_major": 2,
       "version_minor": 0
      },
      "text/plain": [
       "  0%|          | 0.00/1.00k [00:00<?, ? traces/s]"
      ]
     },
     "metadata": {},
     "output_type": "display_data"
    },
    {
     "data": {
      "text/plain": [
       "np.float64(2000.0)"
      ]
     },
     "execution_count": 4,
     "metadata": {},
     "output_type": "execute_result"
    }
   ],
   "source": [
    "#Найдем частоту дискретизации\n",
    "header_rho = segy_header_scan(filepath['rho'])\n",
    "header_rho.loc[\"TRACE_SAMPLE_INTERVAL\", \"mean\"]"
   ]
  },
  {
   "cell_type": "code",
   "execution_count": 5,
   "id": "db9a87ec-b7a4-4ca4-8240-a1738788d171",
   "metadata": {},
   "outputs": [
    {
     "data": {
      "application/vnd.jupyter.widget-view+json": {
       "model_id": "",
       "version_major": 2,
       "version_minor": 0
      },
      "text/plain": [
       "  0%|          | 0.00/1.00 [00:00<?, ? trace-chunks/s]"
      ]
     },
     "metadata": {},
     "output_type": "display_data"
    },
    {
     "data": {
      "application/vnd.jupyter.widget-view+json": {
       "model_id": "",
       "version_major": 2,
       "version_minor": 0
      },
      "text/plain": [
       "  0%|          | 0.00/10.2k [00:00<?, ? traces/s]"
      ]
     },
     "metadata": {},
     "output_type": "display_data"
    },
    {
     "data": {
      "text/plain": [
       "0        2000\n",
       "1        2000\n",
       "2        2000\n",
       "3        2000\n",
       "4        2000\n",
       "         ... \n",
       "10196    2000\n",
       "10197    2000\n",
       "10198    2000\n",
       "10199    2000\n",
       "10200    2000\n",
       "Name: TRACE_SAMPLE_INTERVAL, Length: 10201, dtype: int16"
      ]
     },
     "execution_count": 5,
     "metadata": {},
     "output_type": "execute_result"
    }
   ],
   "source": [
    "segy_header_scrape(filepath['rho'])[\"TRACE_SAMPLE_INTERVAL\"]"
   ]
  },
  {
   "cell_type": "code",
   "execution_count": 6,
   "id": "1521e1db-3972-4de1-a01c-cce9cc569053",
   "metadata": {},
   "outputs": [],
   "source": [
    "rho_data = (cube_rho.data[:,:,:]/1000).to_numpy()\n",
    "vp_data = (cube_vp.data[:,:,:]/1000).to_numpy()\n",
    "vs_data = (cube_vs.data[:,:,:]/1000).to_numpy()"
   ]
  },
  {
   "cell_type": "markdown",
   "id": "55669e9c-d374-463b-a7f6-3b68f117baf7",
   "metadata": {},
   "source": []
  },
  {
   "cell_type": "markdown",
   "id": "676f774e-925c-4382-8948-616ef69322c3",
   "metadata": {},
   "source": [
    "# Как это выглядит"
   ]
  },
  {
   "cell_type": "code",
   "execution_count": 7,
   "id": "c9190f8d-a596-4221-9c79-56c7fb014941",
   "metadata": {},
   "outputs": [],
   "source": [
    "# Rho\n",
    "# grid_rho = pv.ImageData()\n",
    "# grid_rho.dimensions = np.array(rho_data.shape) + 1\n",
    "# grid_rho.cell_data['Values'] = rho_data.flatten(order='F')\n",
    "# grid_rho.plot()"
   ]
  },
  {
   "cell_type": "code",
   "execution_count": 8,
   "id": "af39b7c8-6b8b-443d-863d-88f6aa48a42c",
   "metadata": {},
   "outputs": [],
   "source": [
    "#Vp\n",
    "# grid_vp = pv.ImageData()\n",
    "# grid_vp.dimensions = np.array(vp_data.shape) + 1\n",
    "# grid_vp.cell_data['Values'] = vp_data.flatten(order='F')\n",
    "# grid_vp.plot()"
   ]
  },
  {
   "cell_type": "code",
   "execution_count": 9,
   "id": "cdbfeeba-41bf-47a3-bf34-e37719677799",
   "metadata": {},
   "outputs": [],
   "source": [
    "#Vs\n",
    "# grid_vs = pv.ImageData()\n",
    "# grid_vs.dimensions = np.array(vs_data.shape) + 1\n",
    "# grid_vs.cell_data['Values'] = vs_data.flatten(order='F')\n",
    "# grid_vs.plot()"
   ]
  },
  {
   "cell_type": "code",
   "execution_count": 10,
   "id": "54a070aa-e213-4f9d-9a39-2ef13b17fe3e",
   "metadata": {},
   "outputs": [],
   "source": [
    "# plt.plot(cube_rho.cdp_x.data, cube_rho.cdp_y.data)"
   ]
  },
  {
   "cell_type": "markdown",
   "id": "a4bf52f6-b732-4a2e-9d68-5c873bd95a0d",
   "metadata": {},
   "source": [
    "# Моделирование"
   ]
  },
  {
   "cell_type": "code",
   "execution_count": 11,
   "id": "feea7be9-10f1-4a48-b407-c35b5c8df034",
   "metadata": {},
   "outputs": [],
   "source": [
    "shape = rho_data.shape\n",
    "spacing = (25., 25., 2) # z из header_rho.loc[\"TRACE_SAMPLE_INTERVAL\", \"mean\"]\n",
    "origin = (0, 0, 0)\n",
    "nbl = 10\n",
    "so = 2\n"
   ]
  },
  {
   "cell_type": "code",
   "execution_count": 12,
   "id": "a4acd913-03ae-4777-8f70-5dd8cf20599f",
   "metadata": {},
   "outputs": [],
   "source": [
    "def CreateSeismicModel(vp,vs,rho, origin, spacing, shape, so, nbl, bcs='damp'):\n",
    "\n",
    "    model = demo_model(preset='layers-elastic', nlayers=3, shape=shape, spacing=spacing,\n",
    "                   space_order=so, origin = origin)\n",
    "\n",
    "    rho_data_nozero = np.where(rho_data == 0, 1, rho_data)\n",
    "    \n",
    "    # model.update('vp', vp)\n",
    "    # model.update('vs', vs)\n",
    "    model.update('b', 1/rho_data_nozero)\n",
    "\n",
    "    model._initialize_physics(vp=vp,\n",
    "                              vs=vs,\n",
    "                              b=model.b.data[nbl:-nbl, nbl:-nbl, nbl:-nbl],\n",
    "                              space_order=so\n",
    "                             )\n",
    "    return model\n",
    "    "
   ]
  },
  {
   "cell_type": "code",
   "execution_count": 13,
   "id": "adfe9fee-5fc4-4917-bb96-910961446a2b",
   "metadata": {},
   "outputs": [
    {
     "name": "stderr",
     "output_type": "stream",
     "text": [
      "Operator `initdamp` ran in 0.01 s\n"
     ]
    }
   ],
   "source": [
    "model = CreateSeismicModel(origin=origin,\n",
    "                   spacing=spacing,\n",
    "                   shape=shape,\n",
    "                   vp=vp_data,\n",
    "                   vs=vs_data,\n",
    "                   rho=rho_data,\n",
    "                   so=so,\n",
    "                   nbl=nbl,\n",
    "                   bcs='damn'\n",
    "                  )"
   ]
  },
  {
   "cell_type": "markdown",
   "id": "bc5cf117-ba4a-4bd4-9686-14b901f4b24b",
   "metadata": {},
   "source": [
    "Проверим загрузку данных по коэфф ламе"
   ]
  },
  {
   "cell_type": "code",
   "execution_count": 14,
   "id": "0e904195-453a-4e8d-a5f9-3817cfb2cf7b",
   "metadata": {},
   "outputs": [],
   "source": [
    "#функция для поиска индекса поверхности\n",
    "def surface_indecies(arr, axis=2, invalid_val=-1):\n",
    "    mask = arr!=0\n",
    "    return np.where(mask.any(axis=axis), mask.argmax(axis=axis), invalid_val)\n",
    "\n",
    "surface_index = surface_indecies(model.lam.data[nbl:-nbl, nbl:-nbl, nbl:-nbl])"
   ]
  },
  {
   "cell_type": "code",
   "execution_count": 15,
   "id": "02c200a0-127d-496f-96bd-c5af80cd110f",
   "metadata": {},
   "outputs": [
    {
     "data": {
      "text/plain": [
       "np.float32(0.3721)"
      ]
     },
     "execution_count": 15,
     "metadata": {},
     "output_type": "execute_result"
    }
   ],
   "source": [
    "model.critical_dt"
   ]
  },
  {
   "cell_type": "code",
   "execution_count": 16,
   "id": "662fc8b0-7924-4342-92f5-4721ca99777a",
   "metadata": {},
   "outputs": [],
   "source": [
    "#наша поверхность\n",
    "# plt.imshow(surface_index)"
   ]
  },
  {
   "cell_type": "code",
   "execution_count": 17,
   "id": "bb688281-1cbc-43e3-8090-782e9266aba8",
   "metadata": {},
   "outputs": [],
   "source": [
    "# grid_lam = pv.ImageData()\n",
    "# grid_lam.dimensions = np.array(model.shape)+1\n",
    "# grid_lam.cell_data['Values'] = np.flip(model.mu.data[nbl:-nbl, nbl:-nbl, nbl:-nbl].flatten(order='F'))\n",
    "# grid_lam.plot()"
   ]
  },
  {
   "cell_type": "code",
   "execution_count": 18,
   "id": "f7c76f0c-6338-4028-b272-226216650599",
   "metadata": {},
   "outputs": [],
   "source": [
    "# plt.imshow(model.b.data[:,60,:])"
   ]
  },
  {
   "cell_type": "code",
   "execution_count": 19,
   "id": "f941e171-23c4-4210-b61b-5bcb360e92c9",
   "metadata": {},
   "outputs": [],
   "source": [
    "t0, tn = 0., 1000.\n",
    "dt = model.critical_dt \n",
    "time_range = TimeAxis(start=t0, stop=tn, step=dt)\n",
    "\n",
    "src = RickerSource(name='src', grid = model.grid, f0=0.015, time_range=time_range)\n",
    "src.coordinates.data[:] = [1250, 1250, surface_index[50,50]*2]"
   ]
  },
  {
   "cell_type": "code",
   "execution_count": 20,
   "id": "ea8281d9-c4bf-47b3-bf6d-98f7d3bab6ae",
   "metadata": {},
   "outputs": [
    {
     "data": {
      "image/png": "[encoded data removed]",
      "text/plain": [
       "<Figure size 800x600 with 1 Axes>"
      ]
     },
     "metadata": {},
     "output_type": "display_data"
    }
   ],
   "source": [
    "src.show()"
   ]
  },
  {
   "cell_type": "markdown",
   "id": "6892fa11-59ec-4251-b447-bc88a4c19c42",
   "metadata": {},
   "source": [
    "## Зададим оператор"
   ]
  },
  {
   "cell_type": "code",
   "execution_count": 21,
   "id": "40997587-d773-4d74-af5b-315fdc6faa3a",
   "metadata": {},
   "outputs": [],
   "source": [
    "#create velocity and pressure fields\n",
    "s = model.grid.time_dim.spacing\n",
    "\n",
    "v = VectorTimeFunction(name='v', grid=model.grid, space_order=so, time_order=2)\n",
    "tau = TensorTimeFunction(name='t', grid=model.grid, space_order=so, time_order=2)"
   ]
  },
  {
   "cell_type": "code",
   "execution_count": 22,
   "id": "254f5533-9165-4f85-982e-da6d3c2bb7ca",
   "metadata": {},
   "outputs": [
    {
     "data": {
      "text/latex": [
       "$\\displaystyle \\left[\\begin{matrix}\\operatorname{FieldFromPointer}\\left(size[0], v_{x vec}, \\left( \\right)\\right) \\operatorname{FieldFromPointer}\\left(size[1], v_{x vec}, \\left( \\right)\\right) \\operatorname{FieldFromPointer}\\left(size[2], v_{x vec}, \\left( \\right)\\right) \\operatorname{FieldFromPointer}\\left(size[3], v_{x vec}, \\left( \\right)\\right) \\operatorname{_rebuild}{\\left(\\text{Keyword},\\left( \\text{ReservedWord},\\right) \\right)}\\\\\\operatorname{FieldFromPointer}\\left(size[0], v_{y vec}, \\left( \\right)\\right) \\operatorname{FieldFromPointer}\\left(size[1], v_{y vec}, \\left( \\right)\\right) \\operatorname{FieldFromPointer}\\left(size[2], v_{y vec}, \\left( \\right)\\right) \\operatorname{FieldFromPointer}\\left(size[3], v_{y vec}, \\left( \\right)\\right) \\operatorname{_rebuild}{\\left(\\text{Keyword},\\left( \\text{ReservedWord},\\right) \\right)}\\\\\\operatorname{FieldFromPointer}\\left(size[0], v_{z vec}, \\left( \\right)\\right) \\operatorname{FieldFromPointer}\\left(size[1], v_{z vec}, \\left( \\right)\\right) \\operatorname{FieldFromPointer}\\left(size[2], v_{z vec}, \\left( \\right)\\right) \\operatorname{FieldFromPointer}\\left(size[3], v_{z vec}, \\left( \\right)\\right) \\operatorname{_rebuild}{\\left(\\text{Keyword},\\left( \\text{ReservedWord},\\right) \\right)}\\end{matrix}\\right]$"
      ],
      "text/plain": [
       "Vector(v_x_vec->size[0]*v_x_vec->size[1]*v_x_vec->size[2]*v_x_vec->size[3]*sizeof(float), v_y_vec->size[0]*v_y_vec->size[1]*v_y_vec->size[2]*v_y_vec->size[3]*sizeof(float), v_z_vec->size[0]*v_z_vec->size[1]*v_z_vec->size[2]*v_z_vec->size[3]*sizeof(float))"
      ]
     },
     "execution_count": 22,
     "metadata": {},
     "output_type": "execute_result"
    }
   ],
   "source": [
    "v.symbolic_nbytes"
   ]
  },
  {
   "cell_type": "code",
   "execution_count": 23,
   "id": "a12f209b-b5f2-4883-8aea-f93948324104",
   "metadata": {},
   "outputs": [],
   "source": [
    "#transform from mxn array to 3xm*n. Also convert from indicies to meters\n",
    "def coord_transform(arr):\n",
    "    value = arr.flatten()\n",
    "    y, x = np.indices(arr.shape).reshape(-1, len(value))\n",
    "    return np.vstack((x,y,value)).T*np.array([25,25,2])\n",
    "surface_depth = coord_transform(surface_index)"
   ]
  },
  {
   "cell_type": "code",
   "execution_count": 24,
   "id": "ddd71d84-46e1-4a02-9cd4-7cb1770c11bc",
   "metadata": {},
   "outputs": [
    {
     "data": {
      "text/plain": [
       "array([[   0, 1250,   70],\n",
       "       [  25, 1250,   70],\n",
       "       [  50, 1250,   70],\n",
       "       [  75, 1250,   70],\n",
       "       [ 100, 1250,   70],\n",
       "       [ 125, 1250,   70],\n",
       "       [ 150, 1250,   70],\n",
       "       [ 175, 1250,   68],\n",
       "       [ 200, 1250,   68],\n",
       "       [ 225, 1250,   68],\n",
       "       [ 250, 1250,   68],\n",
       "       [ 275, 1250,   68],\n",
       "       [ 300, 1250,   68],\n",
       "       [ 325, 1250,   68],\n",
       "       [ 350, 1250,   68],\n",
       "       [ 375, 1250,   68],\n",
       "       [ 400, 1250,   68],\n",
       "       [ 425, 1250,   68],\n",
       "       [ 450, 1250,   68],\n",
       "       [ 475, 1250,   68],\n",
       "       [ 500, 1250,   68],\n",
       "       [ 525, 1250,   68],\n",
       "       [ 550, 1250,   68],\n",
       "       [ 575, 1250,   68],\n",
       "       [ 600, 1250,   68],\n",
       "       [ 625, 1250,   68],\n",
       "       [ 650, 1250,   68],\n",
       "       [ 675, 1250,   68],\n",
       "       [ 700, 1250,   68],\n",
       "       [ 725, 1250,   68],\n",
       "       [ 750, 1250,   68],\n",
       "       [ 775, 1250,   68],\n",
       "       [ 800, 1250,   68],\n",
       "       [ 825, 1250,   68],\n",
       "       [ 850, 1250,   68],\n",
       "       [ 875, 1250,   68],\n",
       "       [ 900, 1250,   68],\n",
       "       [ 925, 1250,   68],\n",
       "       [ 950, 1250,   68],\n",
       "       [ 975, 1250,   68],\n",
       "       [1000, 1250,   70],\n",
       "       [1025, 1250,   70],\n",
       "       [1050, 1250,   70],\n",
       "       [1075, 1250,   70],\n",
       "       [1100, 1250,   70],\n",
       "       [1125, 1250,   70],\n",
       "       [1150, 1250,   70],\n",
       "       [1175, 1250,   70],\n",
       "       [1200, 1250,   70],\n",
       "       [1225, 1250,   70],\n",
       "       [1250, 1250,   70],\n",
       "       [1275, 1250,   70],\n",
       "       [1300, 1250,   70],\n",
       "       [1325, 1250,   70],\n",
       "       [1350, 1250,   70],\n",
       "       [1375, 1250,   70],\n",
       "       [1400, 1250,   70],\n",
       "       [1425, 1250,   70],\n",
       "       [1450, 1250,   70],\n",
       "       [1475, 1250,   70],\n",
       "       [1500, 1250,   70],\n",
       "       [1525, 1250,   70],\n",
       "       [1550, 1250,   70],\n",
       "       [1575, 1250,   68],\n",
       "       [1600, 1250,   68],\n",
       "       [1625, 1250,   68],\n",
       "       [1650, 1250,   68],\n",
       "       [1675, 1250,   68],\n",
       "       [1700, 1250,   66],\n",
       "       [1725, 1250,   66],\n",
       "       [1750, 1250,   66],\n",
       "       [1775, 1250,   66],\n",
       "       [1800, 1250,   64],\n",
       "       [1825, 1250,   64],\n",
       "       [1850, 1250,   64],\n",
       "       [1875, 1250,   62],\n",
       "       [1900, 1250,   62],\n",
       "       [1925, 1250,   62],\n",
       "       [1950, 1250,   62],\n",
       "       [1975, 1250,   60],\n",
       "       [2000, 1250,   60],\n",
       "       [2025, 1250,   60],\n",
       "       [2050, 1250,   60],\n",
       "       [2075, 1250,   60],\n",
       "       [2100, 1250,   60],\n",
       "       [2125, 1250,   58],\n",
       "       [2150, 1250,   58],\n",
       "       [2175, 1250,   58],\n",
       "       [2200, 1250,   58],\n",
       "       [2225, 1250,   58],\n",
       "       [2250, 1250,   58],\n",
       "       [2275, 1250,   58],\n",
       "       [2300, 1250,   58],\n",
       "       [2325, 1250,   58],\n",
       "       [2350, 1250,   58],\n",
       "       [2375, 1250,   58],\n",
       "       [2400, 1250,   58],\n",
       "       [2425, 1250,   58],\n",
       "       [2450, 1250,   58],\n",
       "       [2475, 1250,   56],\n",
       "       [2500, 1250,   56]])"
      ]
     },
     "execution_count": 24,
     "metadata": {},
     "output_type": "execute_result"
    }
   ],
   "source": [
    "surface_depth[5050:5151,:]"
   ]
  },
  {
   "cell_type": "code",
   "execution_count": 25,
   "id": "ccf6ac3b-7287-4162-8dc6-271cd7c610de",
   "metadata": {},
   "outputs": [],
   "source": [
    "# The source injection term\n",
    "src_xx = src.inject(field=tau.forward[0, 0], expr=s*src)\n",
    "src_yy = src.inject(field=tau.forward[1, 1], expr=s*src)\n",
    "src_zz = src.inject(field=tau.forward[2, 2], expr=s*src)\n",
    "\n",
    "# The receiver\n",
    "nrec = 101 #model.shape[0]*model.shape[1]\n",
    "\n",
    "#По линии\n",
    "rec = Receiver(name=\"rec\", grid=model.grid, npoint=nrec, time_range=time_range)\n",
    "rec.coordinates.data[:,0] = np.linspace(0., model.domain_size[0], num=nrec)\n",
    "rec.coordinates.data[:,1] = 1250\n",
    "rec.coordinates.data[:,2] = surface_depth[5050:5151,2]\n",
    "\n",
    "# rec = Receiver(name=\"rec\", grid=model.grid, npoint=nrec, time_range=time_range)\n",
    "# rec.coordinates.data[:,0] = surface_depth[:,0]\n",
    "# rec.coordinates.data[:,1] = surface_depth[:,1]\n",
    "# rec.coordinates.data[:,2] = surface_depth[:,2]\n",
    "\n",
    "rec2 = Receiver(name=\"rec\", grid=model.grid, npoint=nrec, time_range=time_range)\n",
    "rec2.coordinates.data[:,0] = surface_depth[:,0]\n",
    "rec2.coordinates.data[:,1] = surface_depth[:,1]\n",
    "rec2.coordinates.data[:,2] = surface_depth[:,2]\n",
    "\n",
    "rec3 = Receiver(name=\"rec\", grid=model.grid, npoint=nrec, time_range=time_range)\n",
    "rec3.coordinates.data[:,0] = surface_depth[:,0]\n",
    "rec3.coordinates.data[:,1] = surface_depth[:,1]\n",
    "rec3.coordinates.data[:,2] = surface_depth[:,2]\n",
    "\n",
    "rec_term = rec.interpolate(expr=v[2])\n",
    "# rec_term += rec2.interpolate(expr=v[1])\n",
    "# rec_term += rec3.interpolate(expr=v[0])"
   ]
  },
  {
   "cell_type": "code",
   "execution_count": 26,
   "id": "d6a3f279-0f12-46f7-b70d-3ab07fa406f4",
   "metadata": {},
   "outputs": [
    {
     "data": {
      "text/plain": [
       "(101, 3)"
      ]
     },
     "execution_count": 26,
     "metadata": {},
     "output_type": "execute_result"
    }
   ],
   "source": [
    "rec.coordinates.data.shape"
   ]
  },
  {
   "cell_type": "code",
   "execution_count": 27,
   "id": "5844bf5a-720f-4323-90b2-2d5e0da0a752",
   "metadata": {},
   "outputs": [],
   "source": [
    "# pv.set_jupyter_backend('client')\n",
    "# point_cloud = pv.PolyData(np.vstack((rec.coordinates.data, src.coordinates.data)))\n",
    "# scalars = np.append(np.zeros(101), 1)\n",
    "# point_cloud.plot(scalars=scalars)"
   ]
  },
  {
   "cell_type": "code",
   "execution_count": 28,
   "id": "94b77aa2-dc47-499d-bc0f-58713bc08cae",
   "metadata": {},
   "outputs": [],
   "source": [
    "# Now let's try and create the staggered updates\n",
    "# Lame parameters\n",
    "l, mu, ro = model.lam, model.mu, model.b\n",
    "\n",
    "# First order elastic wave equation\n",
    "pde_v = v.dt - ro * div(tau)\n",
    "pde_tau = tau.dt - l * diag(div(v.forward)) - mu * (grad(v.forward) + grad(v.forward).transpose(inner=False))\n",
    "# Time update\n",
    "u_v = Eq(v.forward, model.damp * solve(pde_v, v.forward))\n",
    "u_t = Eq(tau.forward,  model.damp * solve(pde_tau, tau.forward))\n",
    "\n",
    "op = Operator([u_v] + [u_t] + src_xx + src_yy + src_zz + rec_term)"
   ]
  },
  {
   "cell_type": "code",
   "execution_count": 29,
   "id": "d5d267dd-32ea-4563-ab94-642ec78ee76d",
   "metadata": {},
   "outputs": [
    {
     "data": {
      "text/latex": [
       "$\\displaystyle \\left[\\begin{matrix}v_x(t + dt, x + h_x/2, y, z)\\\\v_y(t + dt, x, y + h_y/2, z)\\\\v_z(t + dt, x, y, z + h_z/2)\\end{matrix}\\right] = \\left[\\begin{matrix}dt \\left(\\left(\\frac{\\partial}{\\partial x} t_xx(t, x, y, z) + \\frac{\\partial}{\\partial y} t_xy(t, x + h_x/2, y + h_y/2, z) + \\frac{\\partial}{\\partial z} t_xz(t, x + h_x/2, y, z + h_z/2)\\right) b(x, y, z) + \\frac{v_x(t, x + h_x/2, y, z)}{dt}\\right) damp(x, y, z)\\\\dt \\left(\\left(\\frac{\\partial}{\\partial x} t_xy(t, x + h_x/2, y + h_y/2, z) + \\frac{\\partial}{\\partial y} t_yy(t, x, y, z) + \\frac{\\partial}{\\partial z} t_yz(t, x, y + h_y/2, z + h_z/2)\\right) b(x, y, z) + \\frac{v_y(t, x, y + h_y/2, z)}{dt}\\right) damp(x, y, z)\\\\dt \\left(\\left(\\frac{\\partial}{\\partial x} t_xz(t, x + h_x/2, y, z + h_z/2) + \\frac{\\partial}{\\partial y} t_yz(t, x, y + h_y/2, z + h_z/2) + \\frac{\\partial}{\\partial z} t_zz(t, x, y, z)\\right) b(x, y, z) + \\frac{v_z(t, x, y, z + h_z/2)}{dt}\\right) damp(x, y, z)\\end{matrix}\\right]$"
      ],
      "text/plain": [
       "Eq(Vector(v_x(t + dt, x + h_x/2, y, z), v_y(t + dt, x, y + h_y/2, z), v_z(t + dt, x, y, z + h_z/2)), Vector(dt*((Derivative(t_xx(t, x, y, z), x) + Derivative(t_xy(t, x + h_x/2, y + h_y/2, z), y) + Derivative(t_xz(t, x + h_x/2, y, z + h_z/2), z))*b(x, y, z) + v_x(t, x + h_x/2, y, z)/dt)*damp(x, y, z), dt*((Derivative(t_xy(t, x + h_x/2, y + h_y/2, z), x) + Derivative(t_yy(t, x, y, z), y) + Derivative(t_yz(t, x, y + h_y/2, z + h_z/2), z))*b(x, y, z) + v_y(t, x, y + h_y/2, z)/dt)*damp(x, y, z), dt*((Derivative(t_xz(t, x + h_x/2, y, z + h_z/2), x) + Derivative(t_yz(t, x, y + h_y/2, z + h_z/2), y) + Derivative(t_zz(t, x, y, z), z))*b(x, y, z) + v_z(t, x, y, z + h_z/2)/dt)*damp(x, y, z)))"
      ]
     },
     "execution_count": 29,
     "metadata": {},
     "output_type": "execute_result"
    }
   ],
   "source": [
    "u_v"
   ]
  },
  {
   "cell_type": "code",
   "execution_count": 30,
   "id": "50c4169a-c700-4818-94cf-999276db142a",
   "metadata": {},
   "outputs": [
    {
     "data": {
      "text/latex": [
       "$\\displaystyle \\left[\\begin{matrix}t_xx(t + dt, x, y, z) & t_xy(t + dt, x + h_x/2, y + h_y/2, z) & t_xz(t + dt, x + h_x/2, y, z + h_z/2)\\\\t_xy(t + dt, x + h_x/2, y + h_y/2, z) & t_yy(t + dt, x, y, z) & t_yz(t + dt, x, y + h_y/2, z + h_z/2)\\\\t_xz(t + dt, x + h_x/2, y, z + h_z/2) & t_yz(t + dt, x, y + h_y/2, z + h_z/2) & t_zz(t + dt, x, y, z)\\end{matrix}\\right] = \\left[\\begin{matrix}dt \\left(\\left(\\frac{\\partial}{\\partial x} v_x(t + dt, x + h_x/2, y, z) + \\frac{\\partial}{\\partial y} v_y(t + dt, x, y + h_y/2, z) + \\frac{\\partial}{\\partial z} v_z(t + dt, x, y, z + h_z/2)\\right) lam(x, y, z) + 2 mu(x, y, z) \\frac{\\partial}{\\partial x} v_x(t + dt, x + h_x/2, y, z) + \\frac{t_xx(t, x, y, z)}{dt}\\right) damp(x, y, z) & dt \\left(\\left(\\frac{\\partial}{\\partial y} v_x(t + dt, x + h_x/2, y, z) + \\frac{\\partial}{\\partial x} v_y(t + dt, x, y + h_y/2, z)\\right) mu(x, y, z) + \\frac{t_xy(t, x + h_x/2, y + h_y/2, z)}{dt}\\right) damp(x, y, z) & dt \\left(\\left(\\frac{\\partial}{\\partial z} v_x(t + dt, x + h_x/2, y, z) + \\frac{\\partial}{\\partial x} v_z(t + dt, x, y, z + h_z/2)\\right) mu(x, y, z) + \\frac{t_xz(t, x + h_x/2, y, z + h_z/2)}{dt}\\right) damp(x, y, z)\\\\dt \\left(\\left(\\frac{\\partial}{\\partial y} v_x(t + dt, x + h_x/2, y, z) + \\frac{\\partial}{\\partial x} v_y(t + dt, x, y + h_y/2, z)\\right) mu(x, y, z) + \\frac{t_xy(t, x + h_x/2, y + h_y/2, z)}{dt}\\right) damp(x, y, z) & dt \\left(\\left(\\frac{\\partial}{\\partial x} v_x(t + dt, x + h_x/2, y, z) + \\frac{\\partial}{\\partial y} v_y(t + dt, x, y + h_y/2, z) + \\frac{\\partial}{\\partial z} v_z(t + dt, x, y, z + h_z/2)\\right) lam(x, y, z) + 2 mu(x, y, z) \\frac{\\partial}{\\partial y} v_y(t + dt, x, y + h_y/2, z) + \\frac{t_yy(t, x, y, z)}{dt}\\right) damp(x, y, z) & dt \\left(\\left(\\frac{\\partial}{\\partial z} v_y(t + dt, x, y + h_y/2, z) + \\frac{\\partial}{\\partial y} v_z(t + dt, x, y, z + h_z/2)\\right) mu(x, y, z) + \\frac{t_yz(t, x, y + h_y/2, z + h_z/2)}{dt}\\right) damp(x, y, z)\\\\dt \\left(\\left(\\frac{\\partial}{\\partial z} v_x(t + dt, x + h_x/2, y, z) + \\frac{\\partial}{\\partial x} v_z(t + dt, x, y, z + h_z/2)\\right) mu(x, y, z) + \\frac{t_xz(t, x + h_x/2, y, z + h_z/2)}{dt}\\right) damp(x, y, z) & dt \\left(\\left(\\frac{\\partial}{\\partial z} v_y(t + dt, x, y + h_y/2, z) + \\frac{\\partial}{\\partial y} v_z(t + dt, x, y, z + h_z/2)\\right) mu(x, y, z) + \\frac{t_yz(t, x, y + h_y/2, z + h_z/2)}{dt}\\right) damp(x, y, z) & dt \\left(\\left(\\frac{\\partial}{\\partial x} v_x(t + dt, x + h_x/2, y, z) + \\frac{\\partial}{\\partial y} v_y(t + dt, x, y + h_y/2, z) + \\frac{\\partial}{\\partial z} v_z(t + dt, x, y, z + h_z/2)\\right) lam(x, y, z) + 2 mu(x, y, z) \\frac{\\partial}{\\partial z} v_z(t + dt, x, y, z + h_z/2) + \\frac{t_zz(t, x, y, z)}{dt}\\right) damp(x, y, z)\\end{matrix}\\right]$"
      ],
      "text/plain": [
       "Eq(Matrix([[t_xx(t + dt, x, y, z), t_xy(t + dt, x + h_x/2, y + h_y/2, z), t_xz(t + dt, x + h_x/2, y, z + h_z/2)], [t_xy(t + dt, x + h_x/2, y + h_y/2, z), t_yy(t + dt, x, y, z), t_yz(t + dt, x, y + h_y/2, z + h_z/2)], [t_xz(t + dt, x + h_x/2, y, z + h_z/2), t_yz(t + dt, x, y + h_y/2, z + h_z/2), t_zz(t + dt, x, y, z)]]), Matrix([[dt*((Derivative(v_x(t + dt, x + h_x/2, y, z), x) + Derivative(v_y(t + dt, x, y + h_y/2, z), y) + Derivative(v_z(t + dt, x, y, z + h_z/2), z))*lam(x, y, z) + 2*mu(x, y, z)*Derivative(v_x(t + dt, x + h_x/2, y, z), x) + t_xx(t, x, y, z)/dt)*damp(x, y, z), dt*((Derivative(v_x(t + dt, x + h_x/2, y, z), y) + Derivative(v_y(t + dt, x, y + h_y/2, z), x))*mu(x, y, z) + t_xy(t, x + h_x/2, y + h_y/2, z)/dt)*damp(x, y, z), dt*((Derivative(v_x(t + dt, x + h_x/2, y, z), z) + Derivative(v_z(t + dt, x, y, z + h_z/2), x))*mu(x, y, z) + t_xz(t, x + h_x/2, y, z + h_z/2)/dt)*damp(x, y, z)], [dt*((Derivative(v_x(t + dt, x + h_x/2, y, z), y) + Derivative(v_y(t + dt, x, y + h_y/2, z), x))*mu(x, y, z) + t_xy(t, x + h_x/2, y + h_y/2, z)/dt)*damp(x, y, z), dt*((Derivative(v_x(t + dt, x + h_x/2, y, z), x) + Derivative(v_y(t + dt, x, y + h_y/2, z), y) + Derivative(v_z(t + dt, x, y, z + h_z/2), z))*lam(x, y, z) + 2*mu(x, y, z)*Derivative(v_y(t + dt, x, y + h_y/2, z), y) + t_yy(t, x, y, z)/dt)*damp(x, y, z), dt*((Derivative(v_y(t + dt, x, y + h_y/2, z), z) + Derivative(v_z(t + dt, x, y, z + h_z/2), y))*mu(x, y, z) + t_yz(t, x, y + h_y/2, z + h_z/2)/dt)*damp(x, y, z)], [dt*((Derivative(v_x(t + dt, x + h_x/2, y, z), z) + Derivative(v_z(t + dt, x, y, z + h_z/2), x))*mu(x, y, z) + t_xz(t, x + h_x/2, y, z + h_z/2)/dt)*damp(x, y, z), dt*((Derivative(v_y(t + dt, x, y + h_y/2, z), z) + Derivative(v_z(t + dt, x, y, z + h_z/2), y))*mu(x, y, z) + t_yz(t, x, y + h_y/2, z + h_z/2)/dt)*damp(x, y, z), dt*((Derivative(v_x(t + dt, x + h_x/2, y, z), x) + Derivative(v_y(t + dt, x, y + h_y/2, z), y) + Derivative(v_z(t + dt, x, y, z + h_z/2), z))*lam(x, y, z) + 2*mu(x, y, z)*Derivative(v_z(t + dt, x, y, z + h_z/2), z) + t_zz(t, x, y, z)/dt)*damp(x, y, z)]]))"
      ]
     },
     "execution_count": 30,
     "metadata": {},
     "output_type": "execute_result"
    }
   ],
   "source": [
    "u_t"
   ]
  },
  {
   "cell_type": "markdown",
   "id": "e5d8696e-0bbe-4040-a3d0-636ff4e26b00",
   "metadata": {},
   "source": [
    "# Подсчет Алокаций"
   ]
  },
  {
   "cell_type": "code",
   "execution_count": 31,
   "id": "f37d8b04-c90c-459c-a8a3-9be6625fc59e",
   "metadata": {},
   "outputs": [],
   "source": [
    "tau_size = len(tau)*np.prod(tau[0].data.shape)*(tau[0].data.dtype.itemsize)/1024/1024"
   ]
  },
  {
   "cell_type": "code",
   "execution_count": 32,
   "id": "54db5a72-a961-4521-882e-a1a46a9aa427",
   "metadata": {},
   "outputs": [],
   "source": [
    "v_size = len(v)*np.prod(v[0].data.shape)*(v[0].data.dtype.itemsize)/1024/1024"
   ]
  },
  {
   "cell_type": "code",
   "execution_count": 33,
   "id": "74b22d20-1575-4165-a9d7-0ba3a2f213a4",
   "metadata": {},
   "outputs": [],
   "source": [
    "rec_size = np.prod(rec.data.shape)*(rec.data.dtype.itemsize)/1024/1024"
   ]
  },
  {
   "cell_type": "code",
   "execution_count": 34,
   "id": "643b9672-a222-4e9b-8fa7-72230fa5e7c1",
   "metadata": {},
   "outputs": [
    {
     "data": {
      "text/plain": [
       "np.float64(1048.577060699463)"
      ]
     },
     "execution_count": 34,
     "metadata": {},
     "output_type": "execute_result"
    }
   ],
   "source": [
    "tau_size + v_size + rec_size"
   ]
  },
  {
   "cell_type": "code",
   "execution_count": 35,
   "id": "9a9e00e5-9181-4dd6-8c6b-6d268def5a23",
   "metadata": {},
   "outputs": [
    {
     "data": {
      "text/plain": [
       "(3, 121, 121, 521)"
      ]
     },
     "execution_count": 35,
     "metadata": {},
     "output_type": "execute_result"
    }
   ],
   "source": [
    "tau[0].data.shape"
   ]
  },
  {
   "cell_type": "markdown",
   "id": "f70c40cd-4495-4386-a15b-4279af6a1343",
   "metadata": {},
   "source": [
    "# Запуск оператора"
   ]
  },
  {
   "cell_type": "code",
   "execution_count": 37,
   "id": "87b79ad8-6188-4c67-bcba-7cab1875d5a2",
   "metadata": {},
   "outputs": [
    {
     "name": "stderr",
     "output_type": "stream",
     "text": [
      "Operator `Kernel` ran in 160.70 s\n"
     ]
    },
    {
     "data": {
      "text/plain": [
       "PerformanceSummary([(PerfKey(name='section0', rank=None),\n",
       "                     PerfEntry(time=160.64564800000005, gflopss=0.0, gpointss=0.0, oi=0.0, ops=0, itershapes=[])),\n",
       "                    (PerfKey(name='section1', rank=None),\n",
       "                     PerfEntry(time=0.0023359999999999874, gflopss=0.0, gpointss=0.0, oi=0.0, ops=0, itershapes=[])),\n",
       "                    (PerfKey(name='section2', rank=None),\n",
       "                     PerfEntry(time=0.04212300000000104, gflopss=0.0, gpointss=0.0, oi=0.0, ops=0, itershapes=[]))])"
      ]
     },
     "execution_count": 37,
     "metadata": {},
     "output_type": "execute_result"
    }
   ],
   "source": [
    "#NBVAL_IGNORE_OUTPUT\n",
    "op(dt=model.critical_dt) "
   ]
  },
  {
   "cell_type": "code",
   "execution_count": 54,
   "id": "ef5ca0a7-7466-4bad-b088-0e585fb118c8",
   "metadata": {},
   "outputs": [
    {
     "data": {
      "text/plain": [
       "2689"
      ]
     },
     "execution_count": 54,
     "metadata": {},
     "output_type": "execute_result"
    }
   ],
   "source": [
    "len((rec.data[:,70])[rec.data[:,70]==0])"
   ]
  },
  {
   "cell_type": "code",
   "execution_count": 69,
   "id": "52294c39-567a-49fb-b481-a6fee8c5e634",
   "metadata": {},
   "outputs": [
    {
     "data": {
      "text/latex": [
       "$\\displaystyle rec(time, p_rec)$"
      ],
      "text/plain": [
       "rec(time, p_rec)"
      ]
     },
     "execution_count": 69,
     "metadata": {},
     "output_type": "execute_result"
    }
   ],
   "source": [
    "rec"
   ]
  },
  {
   "cell_type": "code",
   "execution_count": 66,
   "id": "cc460f4e-6978-4dad-b25d-3c704ed9ef45",
   "metadata": {},
   "outputs": [
    {
     "data": {
      "text/plain": [
       "(np.float32(2500.0), np.float32(2500.0), np.float32(1000.0))"
      ]
     },
     "execution_count": 66,
     "metadata": {},
     "output_type": "execute_result"
    }
   ],
   "source": [
    "model.domain_size"
   ]
  },
  {
   "cell_type": "code",
   "execution_count": 62,
   "id": "06f81f32-d9fc-4288-8938-889939e879a3",
   "metadata": {},
   "outputs": [
    {
     "data": {
      "text/plain": [
       "Data([[   0., 1250.,   70.],\n",
       "      [  25., 1250.,   70.],\n",
       "      [  50., 1250.,   70.],\n",
       "      [  75., 1250.,   70.],\n",
       "      [ 100., 1250.,   70.],\n",
       "      [ 125., 1250.,   70.],\n",
       "      [ 150., 1250.,   70.],\n",
       "      [ 175., 1250.,   68.],\n",
       "      [ 200., 1250.,   68.],\n",
       "      [ 225., 1250.,   68.],\n",
       "      [ 250., 1250.,   68.],\n",
       "      [ 275., 1250.,   68.],\n",
       "      [ 300., 1250.,   68.],\n",
       "      [ 325., 1250.,   68.],\n",
       "      [ 350., 1250.,   68.],\n",
       "      [ 375., 1250.,   68.],\n",
       "      [ 400., 1250.,   68.],\n",
       "      [ 425., 1250.,   68.],\n",
       "      [ 450., 1250.,   68.],\n",
       "      [ 475., 1250.,   68.],\n",
       "      [ 500., 1250.,   68.],\n",
       "      [ 525., 1250.,   68.],\n",
       "      [ 550., 1250.,   68.],\n",
       "      [ 575., 1250.,   68.],\n",
       "      [ 600., 1250.,   68.],\n",
       "      [ 625., 1250.,   68.],\n",
       "      [ 650., 1250.,   68.],\n",
       "      [ 675., 1250.,   68.],\n",
       "      [ 700., 1250.,   68.],\n",
       "      [ 725., 1250.,   68.],\n",
       "      [ 750., 1250.,   68.],\n",
       "      [ 775., 1250.,   68.],\n",
       "      [ 800., 1250.,   68.],\n",
       "      [ 825., 1250.,   68.],\n",
       "      [ 850., 1250.,   68.],\n",
       "      [ 875., 1250.,   68.],\n",
       "      [ 900., 1250.,   68.],\n",
       "      [ 925., 1250.,   68.],\n",
       "      [ 950., 1250.,   68.],\n",
       "      [ 975., 1250.,   68.],\n",
       "      [1000., 1250.,   70.],\n",
       "      [1025., 1250.,   70.],\n",
       "      [1050., 1250.,   70.],\n",
       "      [1075., 1250.,   70.],\n",
       "      [1100., 1250.,   70.],\n",
       "      [1125., 1250.,   70.],\n",
       "      [1150., 1250.,   70.],\n",
       "      [1175., 1250.,   70.],\n",
       "      [1200., 1250.,   70.],\n",
       "      [1225., 1250.,   70.],\n",
       "      [1250., 1250.,   70.],\n",
       "      [1275., 1250.,   70.],\n",
       "      [1300., 1250.,   70.],\n",
       "      [1325., 1250.,   70.],\n",
       "      [1350., 1250.,   70.],\n",
       "      [1375., 1250.,   70.],\n",
       "      [1400., 1250.,   70.],\n",
       "      [1425., 1250.,   70.],\n",
       "      [1450., 1250.,   70.],\n",
       "      [1475., 1250.,   70.],\n",
       "      [1500., 1250.,   70.],\n",
       "      [1525., 1250.,   70.],\n",
       "      [1550., 1250.,   70.],\n",
       "      [1575., 1250.,   68.],\n",
       "      [1600., 1250.,   68.],\n",
       "      [1625., 1250.,   68.],\n",
       "      [1650., 1250.,   68.],\n",
       "      [1675., 1250.,   68.],\n",
       "      [1700., 1250.,   66.],\n",
       "      [1725., 1250.,   66.],\n",
       "      [1750., 1250.,   66.],\n",
       "      [1775., 1250.,   66.],\n",
       "      [1800., 1250.,   64.],\n",
       "      [1825., 1250.,   64.],\n",
       "      [1850., 1250.,   64.],\n",
       "      [1875., 1250.,   62.],\n",
       "      [1900., 1250.,   62.],\n",
       "      [1925., 1250.,   62.],\n",
       "      [1950., 1250.,   62.],\n",
       "      [1975., 1250.,   60.],\n",
       "      [2000., 1250.,   60.],\n",
       "      [2025., 1250.,   60.],\n",
       "      [2050., 1250.,   60.],\n",
       "      [2075., 1250.,   60.],\n",
       "      [2100., 1250.,   60.],\n",
       "      [2125., 1250.,   58.],\n",
       "      [2150., 1250.,   58.],\n",
       "      [2175., 1250.,   58.],\n",
       "      [2200., 1250.,   58.],\n",
       "      [2225., 1250.,   58.],\n",
       "      [2250., 1250.,   58.],\n",
       "      [2275., 1250.,   58.],\n",
       "      [2300., 1250.,   58.],\n",
       "      [2325., 1250.,   58.],\n",
       "      [2350., 1250.,   58.],\n",
       "      [2375., 1250.,   58.],\n",
       "      [2400., 1250.,   58.],\n",
       "      [2425., 1250.,   58.],\n",
       "      [2450., 1250.,   58.],\n",
       "      [2475., 1250.,   56.],\n",
       "      [2500., 1250.,   56.]], dtype=float32)"
      ]
     },
     "execution_count": 62,
     "metadata": {},
     "output_type": "execute_result"
    }
   ],
   "source": [
    "rec.coordinates.data"
   ]
  },
  {
   "cell_type": "markdown",
   "id": "8619dfff-0410-4efe-8bdb-63ece52b47d7",
   "metadata": {},
   "source": [
    "# сейсмограммы"
   ]
  },
  {
   "cell_type": "code",
   "execution_count": null,
   "id": "17521c84-6a68-470d-a03b-0eae861e6cd5",
   "metadata": {},
   "outputs": [],
   "source": [
    "rec_max = rec.data.max(axis=0)\n",
    "rec_max[rec_max == 0] = 1\n",
    "rec_trace_norm = rec.data / rec_max"
   ]
  },
  {
   "cell_type": "code",
   "execution_count": null,
   "id": "06babcf8-0d13-4c07-9ecb-5d4eafc80efa",
   "metadata": {},
   "outputs": [],
   "source": [
    "rec.data.shape"
   ]
  },
  {
   "cell_type": "code",
   "execution_count": null,
   "id": "c4aefab3-d5ca-4aeb-aa4f-51d00841a18c",
   "metadata": {},
   "outputs": [],
   "source": [
    "scale_for_plot = np.diag(np.linspace(1.0, 2.5, rec_trace_norm.shape[0])**2.0)\n",
    "extent = [rec.coordinates.data[0, 0], rec.coordinates.data[-1, 0], 1e-3*tn, t0]\n",
    "aspect = rec.coordinates.data[-1, 0]/(1e-3*tn)/.5\n",
    "\n",
    "plt.figure(figsize = (15,15))\n",
    "plt.imshow(np.dot(scale_for_plot, rec_trace_norm[:, :]), vmin=-2, vmax=2, cmap=\"seismic\",\n",
    "           interpolation='lanczos', extent=extent, aspect=aspect)\n",
    "plt.ylabel(\"Time (s)\", fontsize=20)\n",
    "plt.xlabel(\"Receiver position (m)\", fontsize=20)"
   ]
  },
  {
   "cell_type": "code",
   "execution_count": null,
   "id": "49be0543-95a8-4bd3-b83c-413bdb82e2e6",
   "metadata": {},
   "outputs": [],
   "source": [
    "scale_for_plot = np.diag(np.linspace(1.0, 2.5, rec_trace_norm.shape[0])**2.0)\n",
    "extent = [rec.coordinates.data[0, 0], rec.coordinates.data[-1, 0], 1e-3*tn, t0]\n",
    "aspect = rec.coordinates.data[-1, 0]/(1e-3*tn)/.5\n",
    "\n",
    "plt.figure(figsize = (15,15))\n",
    "plt.imshow(np.dot(scale_for_plot, rec_trace_norm[:, 5050:5151]), vmin=-2, vmax=2, cmap=\"seismic\",\n",
    "           interpolation='lanczos', extent=extent, aspect=aspect)\n",
    "plt.ylabel(\"Time (s)\", fontsize=20)\n",
    "plt.xlabel(\"Receiver position (m)\", fontsize=20)"
   ]
  },
  {
   "cell_type": "code",
   "execution_count": null,
   "id": "e5184535-9f32-41d0-a622-4a16c5ff57ce",
   "metadata": {},
   "outputs": [],
   "source": []
  }
 ],
 "metadata": {
  "kernelspec": {
   "display_name": "Python 3 (ipykernel)",
   "language": "python",
   "name": "python3"
  },
  "language_info": {
   "codemirror_mode": {
    "name": "ipython",
    "version": 3
   },
   "file_extension": ".py",
   "mimetype": "text/x-python",
   "name": "python",
   "nbconvert_exporter": "python",
   "pygments_lexer": "ipython3",
   "version": "3.12.3"
  }
 },
 "nbformat": 4,
 "nbformat_minor": 5
}
