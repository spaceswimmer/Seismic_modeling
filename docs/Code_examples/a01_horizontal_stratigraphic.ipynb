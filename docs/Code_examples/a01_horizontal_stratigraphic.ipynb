{
 "cells": [
  {
   "cell_type": "code",
   "execution_count": 5,
   "metadata": {
    "collapsed": false,
    "jupyter": {
     "outputs_hidden": false
    }
   },
   "outputs": [],
   "source": [
    "%matplotlib inline\n",
    "from pyvista import set_plot_theme\n",
    "set_plot_theme('document')"
   ]
  },
  {
   "cell_type": "markdown",
   "metadata": {},
   "source": [
    "\n",
    "# Model 1 - Horizontal stratigraphic\n",
    "\n",
    "This script demonstrates how to create a basic model of horizontally stacked layers using GemPy,\n",
    "a Python-based, open-source library for implicit geological modeling.\n"
   ]
  },
  {
   "cell_type": "code",
   "execution_count": 2,
   "metadata": {
    "collapsed": false,
    "jupyter": {
     "outputs_hidden": false
    }
   },
   "outputs": [
    {
     "name": "stdout",
     "output_type": "stream",
     "text": [
      "Setting Backend To: AvailableBackends.numpy\n"
     ]
    }
   ],
   "source": [
    "# Import necessary libraries\n",
    "import gempy as gp\n",
    "import gempy_viewer as gpv\n",
    "\n",
    "\n",
    "# sphinx_gallery_thumbnail_number = 2"
   ]
  },
  {
   "cell_type": "markdown",
   "metadata": {},
   "source": [
    "Generate the model\n",
    "Define the path to data\n",
    "\n"
   ]
  },
  {
   "cell_type": "code",
   "execution_count": 3,
   "metadata": {
    "collapsed": false,
    "jupyter": {
     "outputs_hidden": false
    }
   },
   "outputs": [
    {
     "name": "stdout",
     "output_type": "stream",
     "text": [
      "Surface points hash:  6f1a39ed77e87a4057f03629c946b1876b87e24409cadfe0e1cf7ab1488f69e4\n",
      "Orientations hash:  04c307ae23f70252fe54144a2fb95ca7d96584a2d497ea539ed32dfd23e7cd5d\n",
      "Setting Backend To: AvailableBackends.numpy\n"
     ]
    }
   ],
   "source": [
    "data_path = 'https://raw.githubusercontent.com/cgre-aachen/gempy_data/master/'\n",
    "# Create a GeoModel instance\n",
    "data = gp.create_geomodel(\n",
    "    project_name='horizontal',\n",
    "    extent=[0, 1000, 0, 1000, 0, 1000],\n",
    "    refinement=6,\n",
    "    importer_helper=gp.data.ImporterHelper(\n",
    "        path_to_orientations=data_path + \"/data/input_data/jan_models/model1_orientations.csv\",\n",
    "        path_to_surface_points=data_path + \"/data/input_data/jan_models/model1_surface_points.csv\"\n",
    "    )\n",
    ")\n",
    "# Map geological series to surfaces\n",
    "gp.map_stack_to_surfaces(\n",
    "    gempy_model=data,\n",
    "    mapping_object={\"Strat_Series\": ('rock2', 'rock1')}\n",
    ")\n",
    "# Compute the geological model\n",
    "gp.compute_model(data)\n",
    "geo_data = data"
   ]
  },
  {
   "cell_type": "markdown",
   "metadata": {},
   "source": [
    "Plot the initial geological model in the y direction without results\n",
    "\n"
   ]
  },
  {
   "cell_type": "code",
   "execution_count": 7,
   "metadata": {
    "collapsed": false,
    "jupyter": {
     "outputs_hidden": false
    }
   },
   "outputs": [
    {
     "data": {
      "text/plain": [
       "<gempy_viewer.modules.plot_3d.vista.GemPyToVista at 0x7bf3ce20bad0>"
      ]
     },
     "execution_count": 7,
     "metadata": {},
     "output_type": "execute_result"
    }
   ],
   "source": [
    "# gpv.plot_2d(geo_data, direction=['y'], show_results=False)\n",
    "\n",
    "# Plot the result of the model in the x and y direction with data and without boundaries\n",
    "# gpv.plot_2d(geo_data, direction=['x'], show_data=True, show_boundaries=False)\n",
    "# gpv.plot_2d(geo_data, direction=['y'], show_data=True, show_boundaries=False)\n",
    "gpv.plot_3d(geo_data, Image=False)"
   ]
  },
  {
   "cell_type": "code",
   "execution_count": null,
   "metadata": {},
   "outputs": [],
   "source": []
  }
 ],
 "metadata": {
  "kernelspec": {
   "display_name": "Python 3 (ipykernel)",
   "language": "python",
   "name": "python3"
  },
  "language_info": {
   "codemirror_mode": {
    "name": "ipython",
    "version": 3
   },
   "file_extension": ".py",
   "mimetype": "text/x-python",
   "name": "python",
   "nbconvert_exporter": "python",
   "pygments_lexer": "ipython3",
   "version": "3.12.3"
  }
 },
 "nbformat": 4,
 "nbformat_minor": 4
}
