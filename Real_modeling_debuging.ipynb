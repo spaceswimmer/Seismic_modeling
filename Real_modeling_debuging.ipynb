{
 "cells": [
  {
   "cell_type": "code",
   "execution_count": 1,
   "id": "db1e9ae1-531e-44e0-8c43-bb6ac8878b34",
   "metadata": {},
   "outputs": [],
   "source": [
    "from devito import *\n",
    "import pyvista as pv\n",
    "import numpy as np\n",
    "import matplotlib.pyplot as plt\n",
    "from segysak.segy import (\n",
    "    segy_loader,\n",
    "    get_segy_texthead,\n",
    "    segy_header_scan,\n",
    "    segy_header_scrape,\n",
    "    well_known_byte_locs,\n",
    ")\n",
    "import xarray as xr\n",
    "from examples.seismic import SeismicModel, plot_velocity, demo_model\n",
    "from examples.seismic.source import RickerSource, Receiver, TimeAxis\n",
    "\n",
    "# Some ploting setup\n",
    "plt.rc('text', usetex=True)\n",
    "plt.rc('font', family='serif')\n",
    "plt.rc('xtick', labelsize=20) \n",
    "plt.rc('ytick', labelsize=20)"
   ]
  },
  {
   "cell_type": "code",
   "execution_count": 2,
   "id": "f25676cd-5368-4402-ab74-1405e252d18e",
   "metadata": {
    "editable": true,
    "slideshow": {
     "slide_type": ""
    },
    "tags": []
   },
   "outputs": [],
   "source": [
    "filepath = {'rho' : 'Modeling_data/Rho_model3D-cut.sgy',\n",
    "            'vp' : 'Modeling_data/Vp_model3D-cut.sgy', \n",
    "            'vs' : 'Modeling_data/Vs_model3D-cut.sgy'}"
   ]
  },
  {
   "cell_type": "code",
   "execution_count": 3,
   "id": "a55b5e53-d9d9-4aa8-8b78-c91151f39cf2",
   "metadata": {},
   "outputs": [
    {
     "name": "stderr",
     "output_type": "stream",
     "text": [
      "/tmp/ipykernel_56605/3294394779.py:2: DeprecationWarning: segy_loader will be removed in v0.6, please use the Xarray engine ds = xr.open_dataset(segy_file) method instead.\n",
      "  cube_rho = segy_loader(filepath['rho'], **well_known_byte_locs('petrel_3d'))\n"
     ]
    },
    {
     "data": {
      "application/vnd.jupyter.widget-view+json": {
       "model_id": "",
       "version_major": 2,
       "version_minor": 0
      },
      "text/plain": [
       "  0%|          | 0.00/1.00 [00:00<?, ? trace-chunks/s]"
      ]
     },
     "metadata": {},
     "output_type": "display_data"
    },
    {
     "data": {
      "application/vnd.jupyter.widget-view+json": {
       "model_id": "",
       "version_major": 2,
       "version_minor": 0
      },
      "text/plain": [
       "  0%|          | 0.00/10.2k [00:00<?, ? traces/s]"
      ]
     },
     "metadata": {},
     "output_type": "display_data"
    },
    {
     "name": "stdout",
     "output_type": "stream",
     "text": [
      "Loading as 3D\n",
      "Fast direction is CDP\n"
     ]
    },
    {
     "data": {
      "application/vnd.jupyter.widget-view+json": {
       "model_id": "88bb0410eee44ec5ae4e696cce6df2e0",
       "version_major": 2,
       "version_minor": 0
      },
      "text/plain": [
       "Converting SEGY:   0%|          | 0.00/10.2k [00:00<?, ? traces/s]"
      ]
     },
     "metadata": {},
     "output_type": "display_data"
    },
    {
     "name": "stderr",
     "output_type": "stream",
     "text": [
      "/tmp/ipykernel_56605/3294394779.py:3: DeprecationWarning: segy_loader will be removed in v0.6, please use the Xarray engine ds = xr.open_dataset(segy_file) method instead.\n",
      "  cube_vp = segy_loader(filepath['vp'], **well_known_byte_locs('petrel_3d'))\n"
     ]
    },
    {
     "data": {
      "application/vnd.jupyter.widget-view+json": {
       "model_id": "",
       "version_major": 2,
       "version_minor": 0
      },
      "text/plain": [
       "  0%|          | 0.00/1.00 [00:00<?, ? trace-chunks/s]"
      ]
     },
     "metadata": {},
     "output_type": "display_data"
    },
    {
     "data": {
      "application/vnd.jupyter.widget-view+json": {
       "model_id": "",
       "version_major": 2,
       "version_minor": 0
      },
      "text/plain": [
       "  0%|          | 0.00/10.2k [00:00<?, ? traces/s]"
      ]
     },
     "metadata": {},
     "output_type": "display_data"
    },
    {
     "name": "stdout",
     "output_type": "stream",
     "text": [
      "Loading as 3D\n",
      "Fast direction is CDP\n"
     ]
    },
    {
     "data": {
      "application/vnd.jupyter.widget-view+json": {
       "model_id": "731ad1d29af4400eb9a639401a787e4a",
       "version_major": 2,
       "version_minor": 0
      },
      "text/plain": [
       "Converting SEGY:   0%|          | 0.00/10.2k [00:00<?, ? traces/s]"
      ]
     },
     "metadata": {},
     "output_type": "display_data"
    },
    {
     "name": "stderr",
     "output_type": "stream",
     "text": [
      "/tmp/ipykernel_56605/3294394779.py:4: DeprecationWarning: segy_loader will be removed in v0.6, please use the Xarray engine ds = xr.open_dataset(segy_file) method instead.\n",
      "  cube_vs = segy_loader(filepath['vs'], **well_known_byte_locs('petrel_3d'))\n"
     ]
    },
    {
     "data": {
      "application/vnd.jupyter.widget-view+json": {
       "model_id": "",
       "version_major": 2,
       "version_minor": 0
      },
      "text/plain": [
       "  0%|          | 0.00/1.00 [00:00<?, ? trace-chunks/s]"
      ]
     },
     "metadata": {},
     "output_type": "display_data"
    },
    {
     "data": {
      "application/vnd.jupyter.widget-view+json": {
       "model_id": "",
       "version_major": 2,
       "version_minor": 0
      },
      "text/plain": [
       "  0%|          | 0.00/10.2k [00:00<?, ? traces/s]"
      ]
     },
     "metadata": {},
     "output_type": "display_data"
    },
    {
     "name": "stdout",
     "output_type": "stream",
     "text": [
      "Loading as 3D\n",
      "Fast direction is CDP\n"
     ]
    },
    {
     "data": {
      "application/vnd.jupyter.widget-view+json": {
       "model_id": "6880ad62a03a4c47b129441f5dc1b55c",
       "version_major": 2,
       "version_minor": 0
      },
      "text/plain": [
       "Converting SEGY:   0%|          | 0.00/10.2k [00:00<?, ? traces/s]"
      ]
     },
     "metadata": {},
     "output_type": "display_data"
    }
   ],
   "source": [
    "#сегваи\n",
    "cube_rho = segy_loader(filepath['rho'], **well_known_byte_locs('petrel_3d'))\n",
    "cube_vp = segy_loader(filepath['vp'], **well_known_byte_locs('petrel_3d'))\n",
    "cube_vs = segy_loader(filepath['vs'], **well_known_byte_locs('petrel_3d'))"
   ]
  },
  {
   "cell_type": "code",
   "execution_count": 4,
   "id": "22d943b7-ffa4-497d-ae0b-ad6034eddc4a",
   "metadata": {},
   "outputs": [
    {
     "data": {
      "application/vnd.jupyter.widget-view+json": {
       "model_id": "",
       "version_major": 2,
       "version_minor": 0
      },
      "text/plain": [
       "  0%|          | 0.00/1.00 [00:00<?, ? trace-chunks/s]"
      ]
     },
     "metadata": {},
     "output_type": "display_data"
    },
    {
     "data": {
      "application/vnd.jupyter.widget-view+json": {
       "model_id": "",
       "version_major": 2,
       "version_minor": 0
      },
      "text/plain": [
       "  0%|          | 0.00/1.00k [00:00<?, ? traces/s]"
      ]
     },
     "metadata": {},
     "output_type": "display_data"
    },
    {
     "data": {
      "text/plain": [
       "np.float64(2000.0)"
      ]
     },
     "execution_count": 4,
     "metadata": {},
     "output_type": "execute_result"
    }
   ],
   "source": [
    "#Найдем частоту дискретизации\n",
    "header_rho = segy_header_scan(filepath['rho'])\n",
    "header_rho.loc[\"TRACE_SAMPLE_INTERVAL\", \"mean\"]"
   ]
  },
  {
   "cell_type": "code",
   "execution_count": 5,
   "id": "db9a87ec-b7a4-4ca4-8240-a1738788d171",
   "metadata": {},
   "outputs": [
    {
     "data": {
      "application/vnd.jupyter.widget-view+json": {
       "model_id": "",
       "version_major": 2,
       "version_minor": 0
      },
      "text/plain": [
       "  0%|          | 0.00/1.00 [00:00<?, ? trace-chunks/s]"
      ]
     },
     "metadata": {},
     "output_type": "display_data"
    },
    {
     "data": {
      "application/vnd.jupyter.widget-view+json": {
       "model_id": "",
       "version_major": 2,
       "version_minor": 0
      },
      "text/plain": [
       "  0%|          | 0.00/10.2k [00:00<?, ? traces/s]"
      ]
     },
     "metadata": {},
     "output_type": "display_data"
    },
    {
     "data": {
      "text/plain": [
       "0        2000\n",
       "1        2000\n",
       "2        2000\n",
       "3        2000\n",
       "4        2000\n",
       "         ... \n",
       "10196    2000\n",
       "10197    2000\n",
       "10198    2000\n",
       "10199    2000\n",
       "10200    2000\n",
       "Name: TRACE_SAMPLE_INTERVAL, Length: 10201, dtype: int16"
      ]
     },
     "execution_count": 5,
     "metadata": {},
     "output_type": "execute_result"
    }
   ],
   "source": [
    "segy_header_scrape(filepath['rho'])[\"TRACE_SAMPLE_INTERVAL\"]"
   ]
  },
  {
   "cell_type": "code",
   "execution_count": 6,
   "id": "1521e1db-3972-4de1-a01c-cce9cc569053",
   "metadata": {},
   "outputs": [],
   "source": [
    "rho_data = (cube_rho.data/1000).to_numpy()\n",
    "vp_data = (cube_vp.data/1000).to_numpy()\n",
    "vs_data = (cube_vs.data/1000).to_numpy()"
   ]
  },
  {
   "cell_type": "markdown",
   "id": "55669e9c-d374-463b-a7f6-3b68f117baf7",
   "metadata": {},
   "source": []
  },
  {
   "cell_type": "markdown",
   "id": "676f774e-925c-4382-8948-616ef69322c3",
   "metadata": {},
   "source": [
    "# Как это выглядит"
   ]
  },
  {
   "cell_type": "code",
   "execution_count": 7,
   "id": "c9190f8d-a596-4221-9c79-56c7fb014941",
   "metadata": {},
   "outputs": [],
   "source": [
    "#Rho\n",
    "# grid_rho = pv.ImageData()\n",
    "# grid_rho.dimensions = np.array(rho_data.shape) + 1\n",
    "# grid_rho.cell_data['Values'] = rho_data.flatten(order='F')\n",
    "# grid_rho.plot()"
   ]
  },
  {
   "cell_type": "code",
   "execution_count": 8,
   "id": "af39b7c8-6b8b-443d-863d-88f6aa48a42c",
   "metadata": {},
   "outputs": [],
   "source": [
    "#Vp\n",
    "# grid_vp = pv.ImageData()\n",
    "# grid_vp.dimensions = np.array(vp_data.shape) + 1\n",
    "# grid_vp.cell_data['Values'] = vp_data.flatten(order='F')\n",
    "# grid_vp.plot()"
   ]
  },
  {
   "cell_type": "code",
   "execution_count": 9,
   "id": "cdbfeeba-41bf-47a3-bf34-e37719677799",
   "metadata": {},
   "outputs": [],
   "source": [
    "#Vs\n",
    "# grid_vs = pv.ImageData()\n",
    "# grid_vs.dimensions = np.array(vs_data.shape) + 1\n",
    "# grid_vs.cell_data['Values'] = vs_data.flatten(order='F')\n",
    "# grid_vs.plot()"
   ]
  },
  {
   "cell_type": "code",
   "execution_count": 10,
   "id": "54a070aa-e213-4f9d-9a39-2ef13b17fe3e",
   "metadata": {},
   "outputs": [],
   "source": [
    "# plt.plot(cube_rho.cdp_x.data, cube_rho.cdp_y.data)"
   ]
  },
  {
   "cell_type": "markdown",
   "id": "a4bf52f6-b732-4a2e-9d68-5c873bd95a0d",
   "metadata": {},
   "source": [
    "# Моделирование"
   ]
  },
  {
   "cell_type": "code",
   "execution_count": 11,
   "id": "feea7be9-10f1-4a48-b407-c35b5c8df034",
   "metadata": {},
   "outputs": [],
   "source": [
    "shape = rho_data.shape\n",
    "spacing = (25., 25., 2) # z из header_rho.loc[\"TRACE_SAMPLE_INTERVAL\", \"mean\"]\n",
    "origin = (0, 0, 0)\n",
    "nbl = 10\n",
    "so = 8\n",
    "\n",
    "rho_data_nozero = np.where(rho_data == 0, 1, rho_data)"
   ]
  },
  {
   "cell_type": "code",
   "execution_count": 12,
   "id": "adfe9fee-5fc4-4917-bb96-910961446a2b",
   "metadata": {},
   "outputs": [
    {
     "name": "stderr",
     "output_type": "stream",
     "text": [
      "Operator `initdamp` ran in 0.01 s\n"
     ]
    }
   ],
   "source": [
    "# model = demo_model(preset='layers-elastic', nlayers=5, shape=shape, spacing=spacing,\n",
    "#                    space_order=so)\n",
    "\n",
    "\n",
    "model = SeismicModel(origin = origin, \n",
    "                     spacing = spacing, \n",
    "                     shape = shape, \n",
    "                     vp = vp_data,\n",
    "                     vs = vs_data,\n",
    "                     b = 1/rho_data_nozero,\n",
    "                     space_order = so,\n",
    "                     nbl=nbl,\n",
    "                     bcs=\"damp\"\n",
    "                    )\n"
   ]
  },
  {
   "cell_type": "code",
   "execution_count": 13,
   "id": "15eb0ce1-43fa-4560-94ad-e812f0af80d5",
   "metadata": {},
   "outputs": [
    {
     "data": {
      "text/plain": [
       "(101, 101, 501)"
      ]
     },
     "execution_count": 13,
     "metadata": {},
     "output_type": "execute_result"
    }
   ],
   "source": [
    "model.shape"
   ]
  },
  {
   "cell_type": "markdown",
   "id": "bc5cf117-ba4a-4bd4-9686-14b901f4b24b",
   "metadata": {},
   "source": [
    "Проверим загрузку данных по коэфф ламе"
   ]
  },
  {
   "cell_type": "code",
   "execution_count": 14,
   "id": "0e904195-453a-4e8d-a5f9-3817cfb2cf7b",
   "metadata": {},
   "outputs": [],
   "source": [
    "#функция для поиска индекса поверхности\n",
    "def surface_indecies(arr, axis=2, invalid_val=-1):\n",
    "    mask = arr!=0\n",
    "    return np.where(mask.any(axis=axis), mask.argmax(axis=axis), invalid_val)\n",
    "\n",
    "surface_index = surface_indecies(model.lam.data[nbl:-nbl, nbl:-nbl, nbl:-nbl])"
   ]
  },
  {
   "cell_type": "code",
   "execution_count": 15,
   "id": "02c200a0-127d-496f-96bd-c5af80cd110f",
   "metadata": {},
   "outputs": [
    {
     "data": {
      "text/plain": [
       "np.float32(0.2893)"
      ]
     },
     "execution_count": 15,
     "metadata": {},
     "output_type": "execute_result"
    }
   ],
   "source": [
    "model.critical_dt"
   ]
  },
  {
   "cell_type": "code",
   "execution_count": null,
   "id": "662fc8b0-7924-4342-92f5-4721ca99777a",
   "metadata": {},
   "outputs": [],
   "source": [
    "#наша поверхность\n",
    "plt.imshow(surface_index)"
   ]
  },
  {
   "cell_type": "code",
   "execution_count": 17,
   "id": "bb688281-1cbc-43e3-8090-782e9266aba8",
   "metadata": {},
   "outputs": [],
   "source": [
    "# grid_lam = pv.ImageData()\n",
    "# grid_lam.dimensions = np.array(model.shape)+1\n",
    "# grid_lam.cell_data['Values'] = np.flip(model.lam.data[nbl:-nbl, nbl:-nbl, nbl:-nbl].flatten(order='F'))\n",
    "# grid_lam.plot()"
   ]
  },
  {
   "cell_type": "code",
   "execution_count": 18,
   "id": "f941e171-23c4-4210-b61b-5bcb360e92c9",
   "metadata": {},
   "outputs": [],
   "source": [
    "t0, tn = 0., 1000.\n",
    "dt = model.critical_dt \n",
    "time_range = TimeAxis(start=t0, stop=tn, step=dt)\n",
    "\n",
    "src = RickerSource(name='src', grid = model.grid, f0=0.015, time_range=time_range)\n",
    "src.coordinates.data[:] = [1250, 1250, surface_index[50,50]*2]"
   ]
  },
  {
   "cell_type": "code",
   "execution_count": 19,
   "id": "ea8281d9-c4bf-47b3-bf6d-98f7d3bab6ae",
   "metadata": {},
   "outputs": [
    {
     "data": {
      "image/png": "[encoded data removed]",
      "text/plain": [
       "<Figure size 800x600 with 1 Axes>"
      ]
     },
     "metadata": {},
     "output_type": "display_data"
    }
   ],
   "source": [
    "src.show()"
   ]
  },
  {
   "cell_type": "markdown",
   "id": "6892fa11-59ec-4251-b447-bc88a4c19c42",
   "metadata": {},
   "source": [
    "## Зададим оператор"
   ]
  },
  {
   "cell_type": "code",
   "execution_count": 20,
   "id": "40997587-d773-4d74-af5b-315fdc6faa3a",
   "metadata": {},
   "outputs": [],
   "source": [
    "#create velocity and pressure fields\n",
    "s = model.grid.time_dim.spacing\n",
    "\n",
    "v = VectorTimeFunction(name='v', grid=model.grid, space_order=so, time_order=2)\n",
    "tau = TensorTimeFunction(name='t', grid=model.grid, space_order=so, time_order=2)"
   ]
  },
  {
   "cell_type": "code",
   "execution_count": 21,
   "id": "a12f209b-b5f2-4883-8aea-f93948324104",
   "metadata": {},
   "outputs": [],
   "source": [
    "#transform from mxn array to 3xm*n. Also convert from indicies to meters\n",
    "def coord_transform(arr):\n",
    "    value = arr.flatten()\n",
    "    y, x = np.indices(arr.shape).reshape(-1, len(value))\n",
    "    return np.vstack((x,y,value)).T*np.array([25,25,2])\n",
    "surface_depth = coord_transform(surface_index)"
   ]
  },
  {
   "cell_type": "code",
   "execution_count": 22,
   "id": "ddd71d84-46e1-4a02-9cd4-7cb1770c11bc",
   "metadata": {},
   "outputs": [
    {
     "data": {
      "text/plain": [
       "(101, 101)"
      ]
     },
     "execution_count": 22,
     "metadata": {},
     "output_type": "execute_result"
    }
   ],
   "source": [
    "surface_index.shape"
   ]
  },
  {
   "cell_type": "code",
   "execution_count": 23,
   "id": "ccf6ac3b-7287-4162-8dc6-271cd7c610de",
   "metadata": {},
   "outputs": [],
   "source": [
    "# The source injection term\n",
    "src_xx = src.inject(field=tau.forward[0, 0], expr=s*src)\n",
    "src_yy = src.inject(field=tau.forward[1, 1], expr=s*src)\n",
    "src_zz = src.inject(field=tau.forward[2, 2], expr=s*src)\n",
    "\n",
    "# The receiver\n",
    "nrec = model.shape[0]*model.shape[1]\n",
    "\n",
    "rec = Receiver(name=\"rec\", grid=model.grid, npoint=nrec, time_range=time_range)\n",
    "rec.coordinates.data[:,0] = surface_depth[:,0]\n",
    "rec.coordinates.data[:,1] = surface_depth[:,1]\n",
    "rec.coordinates.data[:,2] = surface_depth[:,2] \n",
    "\n",
    "rec2 = Receiver(name=\"rec\", grid=model.grid, npoint=nrec, time_range=time_range)\n",
    "rec2.coordinates.data[:,0] = surface_depth[:,0]\n",
    "rec2.coordinates.data[:,1] = surface_depth[:,1]\n",
    "rec2.coordinates.data[:,2] = surface_depth[:,2]\n",
    "\n",
    "rec3 = Receiver(name=\"rec\", grid=model.grid, npoint=nrec, time_range=time_range)\n",
    "rec3.coordinates.data[:,0] = surface_depth[:,0]\n",
    "rec3.coordinates.data[:,1] = surface_depth[:,1]\n",
    "rec3.coordinates.data[:,2] = surface_depth[:,2]\n",
    "\n",
    "rec_term = rec.interpolate(expr=v[2])\n",
    "# rec_term += rec2.interpolate(expr=v[1])\n",
    "# rec_term += rec3.interpolate(expr=v[0])"
   ]
  },
  {
   "cell_type": "code",
   "execution_count": 24,
   "id": "6252fa85-6fac-40d4-831f-8fce3ad0667a",
   "metadata": {},
   "outputs": [
    {
     "data": {
      "text/plain": [
       "array([25, 26, 27, 28, 29, 30, 31, 32, 33, 34, 35, 36])"
      ]
     },
     "execution_count": 24,
     "metadata": {},
     "output_type": "execute_result"
    }
   ],
   "source": [
    "np.unique(surface_index)"
   ]
  },
  {
   "cell_type": "code",
   "execution_count": 25,
   "id": "5844bf5a-720f-4323-90b2-2d5e0da0a752",
   "metadata": {},
   "outputs": [
    {
     "data": {
      "application/vnd.jupyter.widget-view+json": {
       "model_id": "b53f6d48911c4f889a8054fafa64a5f8",
       "version_major": 2,
       "version_minor": 0
      },
      "text/plain": [
       "Widget(value='<iframe src=\"http://localhost:43493/index.html?ui=P_0x7d8148a82840_0&reconnect=auto\" class=\"pyvi…"
      ]
     },
     "metadata": {},
     "output_type": "display_data"
    }
   ],
   "source": [
    "pv.set_jupyter_backend('client')\n",
    "point_cloud = pv.PolyData(np.vstack((rec.coordinates.data, src.coordinates.data)))\n",
    "scalars = np.append(np.zeros(10201), 1)\n",
    "point_cloud.plot(scalars=scalars)"
   ]
  },
  {
   "cell_type": "code",
   "execution_count": 26,
   "id": "94b77aa2-dc47-499d-bc0f-58713bc08cae",
   "metadata": {},
   "outputs": [],
   "source": [
    "# Now let's try and create the staggered updates\n",
    "# Lame parameters\n",
    "l, mu, ro = model.lam, model.mu, model.b\n",
    "\n",
    "# First order elastic wave equation\n",
    "pde_v = v.dt - ro * div(tau)\n",
    "pde_tau = tau.dt - l * diag(div(v.forward)) - mu * (grad(v.forward) + grad(v.forward).transpose(inner=False))\n",
    "# Time update\n",
    "u_v = Eq(v.forward, model.damp * solve(pde_v, v.forward))\n",
    "u_t = Eq(tau.forward,  model.damp * solve(pde_tau, tau.forward))\n",
    "\n",
    "op = Operator([u_v] + [u_t] + src_xx + src_yy + src_zz + rec_term)"
   ]
  },
  {
   "cell_type": "code",
   "execution_count": 27,
   "id": "d5d267dd-32ea-4563-ab94-642ec78ee76d",
   "metadata": {},
   "outputs": [
    {
     "data": {
      "text/latex": [
       "$\\displaystyle \\left[\\begin{matrix}v_x(t + dt, x + h_x/2, y, z)\\\\v_y(t + dt, x, y + h_y/2, z)\\\\v_z(t + dt, x, y, z + h_z/2)\\end{matrix}\\right] = \\left[\\begin{matrix}dt \\left(\\left(\\frac{\\partial}{\\partial x} t_xx(t, x, y, z) + \\frac{\\partial}{\\partial y} t_xy(t, x + h_x/2, y + h_y/2, z) + \\frac{\\partial}{\\partial z} t_xz(t, x + h_x/2, y, z + h_z/2)\\right) b(x, y, z) + \\frac{v_x(t, x + h_x/2, y, z)}{dt}\\right) damp(x, y, z)\\\\dt \\left(\\left(\\frac{\\partial}{\\partial x} t_xy(t, x + h_x/2, y + h_y/2, z) + \\frac{\\partial}{\\partial y} t_yy(t, x, y, z) + \\frac{\\partial}{\\partial z} t_yz(t, x, y + h_y/2, z + h_z/2)\\right) b(x, y, z) + \\frac{v_y(t, x, y + h_y/2, z)}{dt}\\right) damp(x, y, z)\\\\dt \\left(\\left(\\frac{\\partial}{\\partial x} t_xz(t, x + h_x/2, y, z + h_z/2) + \\frac{\\partial}{\\partial y} t_yz(t, x, y + h_y/2, z + h_z/2) + \\frac{\\partial}{\\partial z} t_zz(t, x, y, z)\\right) b(x, y, z) + \\frac{v_z(t, x, y, z + h_z/2)}{dt}\\right) damp(x, y, z)\\end{matrix}\\right]$"
      ],
      "text/plain": [
       "Eq(Vector(v_x(t + dt, x + h_x/2, y, z), v_y(t + dt, x, y + h_y/2, z), v_z(t + dt, x, y, z + h_z/2)), Vector(dt*((Derivative(t_xx(t, x, y, z), x) + Derivative(t_xy(t, x + h_x/2, y + h_y/2, z), y) + Derivative(t_xz(t, x + h_x/2, y, z + h_z/2), z))*b(x, y, z) + v_x(t, x + h_x/2, y, z)/dt)*damp(x, y, z), dt*((Derivative(t_xy(t, x + h_x/2, y + h_y/2, z), x) + Derivative(t_yy(t, x, y, z), y) + Derivative(t_yz(t, x, y + h_y/2, z + h_z/2), z))*b(x, y, z) + v_y(t, x, y + h_y/2, z)/dt)*damp(x, y, z), dt*((Derivative(t_xz(t, x + h_x/2, y, z + h_z/2), x) + Derivative(t_yz(t, x, y + h_y/2, z + h_z/2), y) + Derivative(t_zz(t, x, y, z), z))*b(x, y, z) + v_z(t, x, y, z + h_z/2)/dt)*damp(x, y, z)))"
      ]
     },
     "execution_count": 27,
     "metadata": {},
     "output_type": "execute_result"
    }
   ],
   "source": [
    "u_v"
   ]
  },
  {
   "cell_type": "code",
   "execution_count": 28,
   "id": "50c4169a-c700-4818-94cf-999276db142a",
   "metadata": {},
   "outputs": [
    {
     "data": {
      "text/latex": [
       "$\\displaystyle \\left[\\begin{matrix}t_xx(t + dt, x, y, z) & t_xy(t + dt, x + h_x/2, y + h_y/2, z) & t_xz(t + dt, x + h_x/2, y, z + h_z/2)\\\\t_xy(t + dt, x + h_x/2, y + h_y/2, z) & t_yy(t + dt, x, y, z) & t_yz(t + dt, x, y + h_y/2, z + h_z/2)\\\\t_xz(t + dt, x + h_x/2, y, z + h_z/2) & t_yz(t + dt, x, y + h_y/2, z + h_z/2) & t_zz(t + dt, x, y, z)\\end{matrix}\\right] = \\left[\\begin{matrix}dt \\left(\\left(\\frac{\\partial}{\\partial x} v_x(t + dt, x + h_x/2, y, z) + \\frac{\\partial}{\\partial y} v_y(t + dt, x, y + h_y/2, z) + \\frac{\\partial}{\\partial z} v_z(t + dt, x, y, z + h_z/2)\\right) lam(x, y, z) + 2 mu(x, y, z) \\frac{\\partial}{\\partial x} v_x(t + dt, x + h_x/2, y, z) + \\frac{t_xx(t, x, y, z)}{dt}\\right) damp(x, y, z) & dt \\left(\\left(\\frac{\\partial}{\\partial y} v_x(t + dt, x + h_x/2, y, z) + \\frac{\\partial}{\\partial x} v_y(t + dt, x, y + h_y/2, z)\\right) mu(x, y, z) + \\frac{t_xy(t, x + h_x/2, y + h_y/2, z)}{dt}\\right) damp(x, y, z) & dt \\left(\\left(\\frac{\\partial}{\\partial z} v_x(t + dt, x + h_x/2, y, z) + \\frac{\\partial}{\\partial x} v_z(t + dt, x, y, z + h_z/2)\\right) mu(x, y, z) + \\frac{t_xz(t, x + h_x/2, y, z + h_z/2)}{dt}\\right) damp(x, y, z)\\\\dt \\left(\\left(\\frac{\\partial}{\\partial y} v_x(t + dt, x + h_x/2, y, z) + \\frac{\\partial}{\\partial x} v_y(t + dt, x, y + h_y/2, z)\\right) mu(x, y, z) + \\frac{t_xy(t, x + h_x/2, y + h_y/2, z)}{dt}\\right) damp(x, y, z) & dt \\left(\\left(\\frac{\\partial}{\\partial x} v_x(t + dt, x + h_x/2, y, z) + \\frac{\\partial}{\\partial y} v_y(t + dt, x, y + h_y/2, z) + \\frac{\\partial}{\\partial z} v_z(t + dt, x, y, z + h_z/2)\\right) lam(x, y, z) + 2 mu(x, y, z) \\frac{\\partial}{\\partial y} v_y(t + dt, x, y + h_y/2, z) + \\frac{t_yy(t, x, y, z)}{dt}\\right) damp(x, y, z) & dt \\left(\\left(\\frac{\\partial}{\\partial z} v_y(t + dt, x, y + h_y/2, z) + \\frac{\\partial}{\\partial y} v_z(t + dt, x, y, z + h_z/2)\\right) mu(x, y, z) + \\frac{t_yz(t, x, y + h_y/2, z + h_z/2)}{dt}\\right) damp(x, y, z)\\\\dt \\left(\\left(\\frac{\\partial}{\\partial z} v_x(t + dt, x + h_x/2, y, z) + \\frac{\\partial}{\\partial x} v_z(t + dt, x, y, z + h_z/2)\\right) mu(x, y, z) + \\frac{t_xz(t, x + h_x/2, y, z + h_z/2)}{dt}\\right) damp(x, y, z) & dt \\left(\\left(\\frac{\\partial}{\\partial z} v_y(t + dt, x, y + h_y/2, z) + \\frac{\\partial}{\\partial y} v_z(t + dt, x, y, z + h_z/2)\\right) mu(x, y, z) + \\frac{t_yz(t, x, y + h_y/2, z + h_z/2)}{dt}\\right) damp(x, y, z) & dt \\left(\\left(\\frac{\\partial}{\\partial x} v_x(t + dt, x + h_x/2, y, z) + \\frac{\\partial}{\\partial y} v_y(t + dt, x, y + h_y/2, z) + \\frac{\\partial}{\\partial z} v_z(t + dt, x, y, z + h_z/2)\\right) lam(x, y, z) + 2 mu(x, y, z) \\frac{\\partial}{\\partial z} v_z(t + dt, x, y, z + h_z/2) + \\frac{t_zz(t, x, y, z)}{dt}\\right) damp(x, y, z)\\end{matrix}\\right]$"
      ],
      "text/plain": [
       "Eq(Matrix([[t_xx(t + dt, x, y, z), t_xy(t + dt, x + h_x/2, y + h_y/2, z), t_xz(t + dt, x + h_x/2, y, z + h_z/2)], [t_xy(t + dt, x + h_x/2, y + h_y/2, z), t_yy(t + dt, x, y, z), t_yz(t + dt, x, y + h_y/2, z + h_z/2)], [t_xz(t + dt, x + h_x/2, y, z + h_z/2), t_yz(t + dt, x, y + h_y/2, z + h_z/2), t_zz(t + dt, x, y, z)]]), Matrix([[dt*((Derivative(v_x(t + dt, x + h_x/2, y, z), x) + Derivative(v_y(t + dt, x, y + h_y/2, z), y) + Derivative(v_z(t + dt, x, y, z + h_z/2), z))*lam(x, y, z) + 2*mu(x, y, z)*Derivative(v_x(t + dt, x + h_x/2, y, z), x) + t_xx(t, x, y, z)/dt)*damp(x, y, z), dt*((Derivative(v_x(t + dt, x + h_x/2, y, z), y) + Derivative(v_y(t + dt, x, y + h_y/2, z), x))*mu(x, y, z) + t_xy(t, x + h_x/2, y + h_y/2, z)/dt)*damp(x, y, z), dt*((Derivative(v_x(t + dt, x + h_x/2, y, z), z) + Derivative(v_z(t + dt, x, y, z + h_z/2), x))*mu(x, y, z) + t_xz(t, x + h_x/2, y, z + h_z/2)/dt)*damp(x, y, z)], [dt*((Derivative(v_x(t + dt, x + h_x/2, y, z), y) + Derivative(v_y(t + dt, x, y + h_y/2, z), x))*mu(x, y, z) + t_xy(t, x + h_x/2, y + h_y/2, z)/dt)*damp(x, y, z), dt*((Derivative(v_x(t + dt, x + h_x/2, y, z), x) + Derivative(v_y(t + dt, x, y + h_y/2, z), y) + Derivative(v_z(t + dt, x, y, z + h_z/2), z))*lam(x, y, z) + 2*mu(x, y, z)*Derivative(v_y(t + dt, x, y + h_y/2, z), y) + t_yy(t, x, y, z)/dt)*damp(x, y, z), dt*((Derivative(v_y(t + dt, x, y + h_y/2, z), z) + Derivative(v_z(t + dt, x, y, z + h_z/2), y))*mu(x, y, z) + t_yz(t, x, y + h_y/2, z + h_z/2)/dt)*damp(x, y, z)], [dt*((Derivative(v_x(t + dt, x + h_x/2, y, z), z) + Derivative(v_z(t + dt, x, y, z + h_z/2), x))*mu(x, y, z) + t_xz(t, x + h_x/2, y, z + h_z/2)/dt)*damp(x, y, z), dt*((Derivative(v_y(t + dt, x, y + h_y/2, z), z) + Derivative(v_z(t + dt, x, y, z + h_z/2), y))*mu(x, y, z) + t_yz(t, x, y + h_y/2, z + h_z/2)/dt)*damp(x, y, z), dt*((Derivative(v_x(t + dt, x + h_x/2, y, z), x) + Derivative(v_y(t + dt, x, y + h_y/2, z), y) + Derivative(v_z(t + dt, x, y, z + h_z/2), z))*lam(x, y, z) + 2*mu(x, y, z)*Derivative(v_z(t + dt, x, y, z + h_z/2), z) + t_zz(t, x, y, z)/dt)*damp(x, y, z)]]))"
      ]
     },
     "execution_count": 28,
     "metadata": {},
     "output_type": "execute_result"
    }
   ],
   "source": [
    "u_t"
   ]
  },
  {
   "cell_type": "markdown",
   "id": "f5662712-57f6-4956-a902-4145d2e6ef99",
   "metadata": {},
   "source": [
    "# Подсчет Алокаций"
   ]
  },
  {
   "cell_type": "code",
   "execution_count": 29,
   "id": "56bb712a-cdcb-460d-afc1-e1356408396d",
   "metadata": {},
   "outputs": [],
   "source": [
    "tau_size = len(tau)*np.prod(tau[0].data.shape)*(tau[0].data.dtype.itemsize)/1024/1024"
   ]
  },
  {
   "cell_type": "code",
   "execution_count": 30,
   "id": "7bac1639-b755-47a6-825a-e8b68731a02f",
   "metadata": {},
   "outputs": [],
   "source": [
    "v_size = len(v)*np.prod(v[0].data.shape)*(v[0].data.dtype.itemsize)/1024/1024"
   ]
  },
  {
   "cell_type": "code",
   "execution_count": 31,
   "id": "2f1cf7ef-1687-45fd-b098-c1e451d67be8",
   "metadata": {},
   "outputs": [],
   "source": [
    "rec_size = np.prod(rec.data.shape)*(rec.data.dtype.itemsize)/1024/1024"
   ]
  },
  {
   "cell_type": "code",
   "execution_count": 32,
   "id": "9f3f84fe-c8e5-46ba-9fef-d13bb2c06235",
   "metadata": {},
   "outputs": [
    {
     "data": {
      "text/plain": [
       "np.float64(1182.1046981811523)"
      ]
     },
     "execution_count": 32,
     "metadata": {},
     "output_type": "execute_result"
    }
   ],
   "source": [
    "tau_size + v_size + rec_size"
   ]
  },
  {
   "cell_type": "code",
   "execution_count": 33,
   "id": "219cd7c2-7fd4-4cbf-8462-b2ad00445b3c",
   "metadata": {},
   "outputs": [
    {
     "data": {
      "text/plain": [
       "(3, 121, 121, 521)"
      ]
     },
     "execution_count": 33,
     "metadata": {},
     "output_type": "execute_result"
    }
   ],
   "source": [
    "tau[0].data.shape"
   ]
  },
  {
   "cell_type": "markdown",
   "id": "d488f8e9-f9a5-42f5-8eab-4ae3ab9de533",
   "metadata": {},
   "source": [
    "# Запуск оператора"
   ]
  },
  {
   "cell_type": "code",
   "execution_count": 34,
   "id": "87b79ad8-6188-4c67-bcba-7cab1875d5a2",
   "metadata": {},
   "outputs": [
    {
     "name": "stderr",
     "output_type": "stream",
     "text": [
      "Operator `Kernel` ran in 477.34 s\n"
     ]
    },
    {
     "data": {
      "text/plain": [
       "PerformanceSummary([(PerfKey(name='section0', rank=None),\n",
       "                     PerfEntry(time=474.3307450000004, gflopss=0.0, gpointss=0.0, oi=0.0, ops=0, itershapes=[])),\n",
       "                    (PerfKey(name='section1', rank=None),\n",
       "                     PerfEntry(time=0.002998000000000063, gflopss=0.0, gpointss=0.0, oi=0.0, ops=0, itershapes=[])),\n",
       "                    (PerfKey(name='section2', rank=None),\n",
       "                     PerfEntry(time=3.0019529999999945, gflopss=0.0, gpointss=0.0, oi=0.0, ops=0, itershapes=[]))])"
      ]
     },
     "execution_count": 34,
     "metadata": {},
     "output_type": "execute_result"
    }
   ],
   "source": [
    "#NBVAL_IGNORE_OUTPUT\n",
    "op(dt=model.critical_dt) "
   ]
  },
  {
   "cell_type": "code",
   "execution_count": 40,
   "id": "a66b3fec-714d-4a7b-8b06-8af676cf884f",
   "metadata": {},
   "outputs": [
    {
     "data": {
      "text/plain": [
       "Data([0.], dtype=float32)"
      ]
     },
     "execution_count": 40,
     "metadata": {},
     "output_type": "execute_result"
    }
   ],
   "source": [
    "np.unique(rec.data)"
   ]
  },
  {
   "cell_type": "code",
   "execution_count": 36,
   "id": "17df5aa9-eb2e-4476-91f7-3783e048678c",
   "metadata": {},
   "outputs": [
    {
     "name": "stderr",
     "output_type": "stream",
     "text": [
      "/tmp/ipykernel_56605/2966822155.py:1: RuntimeWarning: invalid value encountered in divide\n",
      "  rec_trace_norm = rec.data / rec.data.max(axis=0)\n"
     ]
    }
   ],
   "source": [
    "#rec_trace_norm = rec.data / rec.data.max(axis=0)"
   ]
  },
  {
   "cell_type": "code",
   "execution_count": 38,
   "id": "0a790e5a-5e22-4169-9ca9-267dc955ad93",
   "metadata": {},
   "outputs": [
    {
     "data": {
      "text/plain": [
       "Text(0.5, 0, 'Receiver position (m)')"
      ]
     },
     "execution_count": 38,
     "metadata": {},
     "output_type": "execute_result"
    },
    {
     "data": {
      "image/png": "[encoded data removed]",
      "text/plain": [
       "<Figure size 1500x1500 with 1 Axes>"
      ]
     },
     "metadata": {},
     "output_type": "display_data"
    }
   ],
   "source": [
    "scale_for_plot = np.diag(np.linspace(1.0, 2.5, rec_trace_norm.shape[0])**2.0)\n",
    "extent = [rec.coordinates.data[0, 0], rec.coordinates.data[-1, 0], 1e-3*tn, t0]\n",
    "aspect = rec.coordinates.data[-1, 0]/(1e-3*tn)/.5\n",
    "\n",
    "plt.figure(figsize = (15,15))\n",
    "plt.imshow(np.dot(scale_for_plot, rec_trace_norm[:, 4949:5252]), vmin=-1, vmax=1, cmap=\"seismic\",\n",
    "           interpolation='lanczos', extent=extent, aspect=aspect)\n",
    "plt.ylabel(\"Time (s)\", fontsize=20)\n",
    "plt.xlabel(\"Receiver position (m)\", fontsize=20)"
   ]
  },
  {
   "cell_type": "code",
   "execution_count": null,
   "id": "d998613d-5c84-4ca4-b42b-c9104945f29e",
   "metadata": {},
   "outputs": [],
   "source": [
    "scale_for_plot = np.diag(np.linspace(1.0, 2.5, 3900)**2.0)\n",
    "extent = [rec.coordinates.data[0, 0], rec.coordinates.data[-1, 0], 1e-3*tn, t0]\n",
    "aspect = rec.coordinates.data[-1, 0]/(1e-3*tn)/.5\n",
    "\n",
    "plt.figure(figsize = (15,15))\n",
    "plt.imshow(np.dot(scale_for_plot, rec_trace_norm[:, 5050:5151]), vmin=-2, vmax=2, cmap=\"seismic\",\n",
    "           interpolation='lanczos', extent=extent, aspect=aspect)\n",
    "plt.ylabel(\"Time (s)\", fontsize=20)\n",
    "plt.xlabel(\"Receiver position (m)\", fontsize=20)"
   ]
  },
  {
   "cell_type": "code",
   "execution_count": null,
   "id": "ff738247-342b-4826-8b03-8e6fc372bd7d",
   "metadata": {},
   "outputs": [],
   "source": [
    "model.critical_dt"
   ]
  },
  {
   "cell_type": "code",
   "execution_count": null,
   "id": "f75e7420-b626-4dd3-85ec-9881e5851dab",
   "metadata": {},
   "outputs": [],
   "source": []
  }
 ],
 "metadata": {
  "kernelspec": {
   "display_name": "Python 3 (ipykernel)",
   "language": "python",
   "name": "python3"
  },
  "language_info": {
   "codemirror_mode": {
    "name": "ipython",
    "version": 3
   },
   "file_extension": ".py",
   "mimetype": "text/x-python",
   "name": "python",
   "nbconvert_exporter": "python",
   "pygments_lexer": "ipython3",
   "version": "3.12.3"
  }
 },
 "nbformat": 4,
 "nbformat_minor": 5
}
