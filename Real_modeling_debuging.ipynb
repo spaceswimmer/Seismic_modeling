{
 "cells": [
  {
   "cell_type": "code",
   "execution_count": 14,
   "id": "db1e9ae1-531e-44e0-8c43-bb6ac8878b34",
   "metadata": {},
   "outputs": [],
   "source": [
    "from devito import *\n",
    "import pyvista as pv\n",
    "import numpy as np\n",
    "import matplotlib.pyplot as plt\n",
    "from segysak.segy import (\n",
    "    segy_loader,\n",
    "    get_segy_texthead,\n",
    "    segy_header_scan,\n",
    "    segy_header_scrape,\n",
    "    well_known_byte_locs,\n",
    ")\n",
    "import xarray as xr\n",
    "from examples.seismic import SeismicModel, plot_velocity, demo_model\n",
    "from examples.seismic.source import RickerSource, Receiver, TimeAxis\n",
    "\n",
    "# Some ploting setup\n",
    "plt.rc('text', usetex=True)\n",
    "plt.rc('font', family='serif')\n",
    "plt.rc('xtick', labelsize=20) \n",
    "plt.rc('ytick', labelsize=20)"
   ]
  },
  {
   "cell_type": "code",
   "execution_count": 2,
   "id": "f25676cd-5368-4402-ab74-1405e252d18e",
   "metadata": {
    "editable": true,
    "slideshow": {
     "slide_type": ""
    },
    "tags": []
   },
   "outputs": [],
   "source": [
    "filepath = {'rho' : 'Modeling_data/Rho_model3D-cut.sgy',\n",
    "            'vp' : 'Modeling_data/Vp_model3D-cut.sgy', \n",
    "            'vs' : 'Modeling_data/Vs_model3D-cut.sgy'}"
   ]
  },
  {
   "cell_type": "code",
   "execution_count": 3,
   "id": "a55b5e53-d9d9-4aa8-8b78-c91151f39cf2",
   "metadata": {},
   "outputs": [
    {
     "name": "stderr",
     "output_type": "stream",
     "text": [
      "/tmp/ipykernel_10716/3294394779.py:2: DeprecationWarning: segy_loader will be removed in v0.6, please use the Xarray engine ds = xr.open_dataset(segy_file) method instead.\n",
      "  cube_rho = segy_loader(filepath['rho'], **well_known_byte_locs('petrel_3d'))\n"
     ]
    },
    {
     "data": {
      "application/vnd.jupyter.widget-view+json": {
       "model_id": "",
       "version_major": 2,
       "version_minor": 0
      },
      "text/plain": [
       "  0%|          | 0.00/1.00 [00:00<?, ? trace-chunks/s]"
      ]
     },
     "metadata": {},
     "output_type": "display_data"
    },
    {
     "data": {
      "application/vnd.jupyter.widget-view+json": {
       "model_id": "",
       "version_major": 2,
       "version_minor": 0
      },
      "text/plain": [
       "  0%|          | 0.00/10.2k [00:00<?, ? traces/s]"
      ]
     },
     "metadata": {},
     "output_type": "display_data"
    },
    {
     "name": "stdout",
     "output_type": "stream",
     "text": [
      "Loading as 3D\n",
      "Fast direction is CDP\n"
     ]
    },
    {
     "data": {
      "application/vnd.jupyter.widget-view+json": {
       "model_id": "a66ca76a393c4e09b28925844ba6d008",
       "version_major": 2,
       "version_minor": 0
      },
      "text/plain": [
       "Converting SEGY:   0%|          | 0.00/10.2k [00:00<?, ? traces/s]"
      ]
     },
     "metadata": {},
     "output_type": "display_data"
    },
    {
     "name": "stderr",
     "output_type": "stream",
     "text": [
      "/tmp/ipykernel_10716/3294394779.py:3: DeprecationWarning: segy_loader will be removed in v0.6, please use the Xarray engine ds = xr.open_dataset(segy_file) method instead.\n",
      "  cube_vp = segy_loader(filepath['vp'], **well_known_byte_locs('petrel_3d'))\n"
     ]
    },
    {
     "data": {
      "application/vnd.jupyter.widget-view+json": {
       "model_id": "",
       "version_major": 2,
       "version_minor": 0
      },
      "text/plain": [
       "  0%|          | 0.00/1.00 [00:00<?, ? trace-chunks/s]"
      ]
     },
     "metadata": {},
     "output_type": "display_data"
    },
    {
     "data": {
      "application/vnd.jupyter.widget-view+json": {
       "model_id": "",
       "version_major": 2,
       "version_minor": 0
      },
      "text/plain": [
       "  0%|          | 0.00/10.2k [00:00<?, ? traces/s]"
      ]
     },
     "metadata": {},
     "output_type": "display_data"
    },
    {
     "name": "stdout",
     "output_type": "stream",
     "text": [
      "Loading as 3D\n",
      "Fast direction is CDP\n"
     ]
    },
    {
     "data": {
      "application/vnd.jupyter.widget-view+json": {
       "model_id": "f4229ab311c24c11917c430a74790a90",
       "version_major": 2,
       "version_minor": 0
      },
      "text/plain": [
       "Converting SEGY:   0%|          | 0.00/10.2k [00:00<?, ? traces/s]"
      ]
     },
     "metadata": {},
     "output_type": "display_data"
    },
    {
     "name": "stderr",
     "output_type": "stream",
     "text": [
      "/tmp/ipykernel_10716/3294394779.py:4: DeprecationWarning: segy_loader will be removed in v0.6, please use the Xarray engine ds = xr.open_dataset(segy_file) method instead.\n",
      "  cube_vs = segy_loader(filepath['vs'], **well_known_byte_locs('petrel_3d'))\n"
     ]
    },
    {
     "data": {
      "application/vnd.jupyter.widget-view+json": {
       "model_id": "",
       "version_major": 2,
       "version_minor": 0
      },
      "text/plain": [
       "  0%|          | 0.00/1.00 [00:00<?, ? trace-chunks/s]"
      ]
     },
     "metadata": {},
     "output_type": "display_data"
    },
    {
     "data": {
      "application/vnd.jupyter.widget-view+json": {
       "model_id": "",
       "version_major": 2,
       "version_minor": 0
      },
      "text/plain": [
       "  0%|          | 0.00/10.2k [00:00<?, ? traces/s]"
      ]
     },
     "metadata": {},
     "output_type": "display_data"
    },
    {
     "name": "stdout",
     "output_type": "stream",
     "text": [
      "Loading as 3D\n",
      "Fast direction is CDP\n"
     ]
    },
    {
     "data": {
      "application/vnd.jupyter.widget-view+json": {
       "model_id": "680c78655c3641b294b6317283cfa5bb",
       "version_major": 2,
       "version_minor": 0
      },
      "text/plain": [
       "Converting SEGY:   0%|          | 0.00/10.2k [00:00<?, ? traces/s]"
      ]
     },
     "metadata": {},
     "output_type": "display_data"
    }
   ],
   "source": [
    "#сегваи\n",
    "cube_rho = segy_loader(filepath['rho'], **well_known_byte_locs('petrel_3d'))\n",
    "cube_vp = segy_loader(filepath['vp'], **well_known_byte_locs('petrel_3d'))\n",
    "cube_vs = segy_loader(filepath['vs'], **well_known_byte_locs('petrel_3d'))"
   ]
  },
  {
   "cell_type": "code",
   "execution_count": 4,
   "id": "22d943b7-ffa4-497d-ae0b-ad6034eddc4a",
   "metadata": {},
   "outputs": [
    {
     "data": {
      "application/vnd.jupyter.widget-view+json": {
       "model_id": "",
       "version_major": 2,
       "version_minor": 0
      },
      "text/plain": [
       "  0%|          | 0.00/1.00 [00:00<?, ? trace-chunks/s]"
      ]
     },
     "metadata": {},
     "output_type": "display_data"
    },
    {
     "data": {
      "application/vnd.jupyter.widget-view+json": {
       "model_id": "",
       "version_major": 2,
       "version_minor": 0
      },
      "text/plain": [
       "  0%|          | 0.00/1.00k [00:00<?, ? traces/s]"
      ]
     },
     "metadata": {},
     "output_type": "display_data"
    },
    {
     "data": {
      "text/plain": [
       "np.float64(2000.0)"
      ]
     },
     "execution_count": 4,
     "metadata": {},
     "output_type": "execute_result"
    }
   ],
   "source": [
    "#Найдем частоту дискретизации\n",
    "header_rho = segy_header_scan(filepath['rho'])\n",
    "header_rho.loc[\"TRACE_SAMPLE_INTERVAL\", \"mean\"]"
   ]
  },
  {
   "cell_type": "code",
   "execution_count": 5,
   "id": "db9a87ec-b7a4-4ca4-8240-a1738788d171",
   "metadata": {},
   "outputs": [
    {
     "data": {
      "application/vnd.jupyter.widget-view+json": {
       "model_id": "",
       "version_major": 2,
       "version_minor": 0
      },
      "text/plain": [
       "  0%|          | 0.00/1.00 [00:00<?, ? trace-chunks/s]"
      ]
     },
     "metadata": {},
     "output_type": "display_data"
    },
    {
     "data": {
      "application/vnd.jupyter.widget-view+json": {
       "model_id": "",
       "version_major": 2,
       "version_minor": 0
      },
      "text/plain": [
       "  0%|          | 0.00/10.2k [00:00<?, ? traces/s]"
      ]
     },
     "metadata": {},
     "output_type": "display_data"
    },
    {
     "data": {
      "text/plain": [
       "0        2000\n",
       "1        2000\n",
       "2        2000\n",
       "3        2000\n",
       "4        2000\n",
       "         ... \n",
       "10196    2000\n",
       "10197    2000\n",
       "10198    2000\n",
       "10199    2000\n",
       "10200    2000\n",
       "Name: TRACE_SAMPLE_INTERVAL, Length: 10201, dtype: int16"
      ]
     },
     "execution_count": 5,
     "metadata": {},
     "output_type": "execute_result"
    }
   ],
   "source": [
    "segy_header_scrape(filepath['rho'])[\"TRACE_SAMPLE_INTERVAL\"]"
   ]
  },
  {
   "cell_type": "code",
   "execution_count": 6,
   "id": "1521e1db-3972-4de1-a01c-cce9cc569053",
   "metadata": {},
   "outputs": [],
   "source": [
    "rho_data = (cube_rho.data[:,:,:250]/1000).to_numpy()\n",
    "vp_data = (cube_vp.data[:,:,:250]/1000).to_numpy()\n",
    "vs_data = (cube_vs.data[:,:,:250]/1000).to_numpy()"
   ]
  },
  {
   "cell_type": "markdown",
   "id": "55669e9c-d374-463b-a7f6-3b68f117baf7",
   "metadata": {},
   "source": []
  },
  {
   "cell_type": "markdown",
   "id": "676f774e-925c-4382-8948-616ef69322c3",
   "metadata": {},
   "source": [
    "# Как это выглядит"
   ]
  },
  {
   "cell_type": "code",
   "execution_count": 7,
   "id": "c9190f8d-a596-4221-9c79-56c7fb014941",
   "metadata": {},
   "outputs": [],
   "source": [
    "#Rho\n",
    "# grid_rho = pv.ImageData()\n",
    "# grid_rho.dimensions = np.array(rho_data.shape) + 1\n",
    "# grid_rho.cell_data['Values'] = rho_data.flatten(order='F')\n",
    "# grid_rho.plot()"
   ]
  },
  {
   "cell_type": "code",
   "execution_count": 8,
   "id": "af39b7c8-6b8b-443d-863d-88f6aa48a42c",
   "metadata": {},
   "outputs": [],
   "source": [
    "#Vp\n",
    "# grid_vp = pv.ImageData()\n",
    "# grid_vp.dimensions = np.array(vp_data.shape) + 1\n",
    "# grid_vp.cell_data['Values'] = vp_data.flatten(order='F')\n",
    "# grid_vp.plot()"
   ]
  },
  {
   "cell_type": "code",
   "execution_count": 9,
   "id": "cdbfeeba-41bf-47a3-bf34-e37719677799",
   "metadata": {},
   "outputs": [],
   "source": [
    "#Vs\n",
    "# grid_vs = pv.ImageData()\n",
    "# grid_vs.dimensions = np.array(vs_data.shape) + 1\n",
    "# grid_vs.cell_data['Values'] = vs_data.flatten(order='F')\n",
    "# grid_vs.plot()"
   ]
  },
  {
   "cell_type": "code",
   "execution_count": 10,
   "id": "54a070aa-e213-4f9d-9a39-2ef13b17fe3e",
   "metadata": {},
   "outputs": [],
   "source": [
    "# plt.plot(cube_rho.cdp_x.data, cube_rho.cdp_y.data)"
   ]
  },
  {
   "cell_type": "markdown",
   "id": "a4bf52f6-b732-4a2e-9d68-5c873bd95a0d",
   "metadata": {},
   "source": [
    "# Моделирование"
   ]
  },
  {
   "cell_type": "code",
   "execution_count": 11,
   "id": "feea7be9-10f1-4a48-b407-c35b5c8df034",
   "metadata": {},
   "outputs": [],
   "source": [
    "shape = rho_data.shape\n",
    "spacing = (25., 25., 2) # z из header_rho.loc[\"TRACE_SAMPLE_INTERVAL\", \"mean\"]\n",
    "origin = (0, 0, 0)\n",
    "nbl = 10\n",
    "so = 2\n",
    "\n",
    "rho_data_nozero = np.where(rho_data == 0, 1, rho_data)"
   ]
  },
  {
   "cell_type": "code",
   "execution_count": 16,
   "id": "adfe9fee-5fc4-4917-bb96-910961446a2b",
   "metadata": {},
   "outputs": [
    {
     "name": "stderr",
     "output_type": "stream",
     "text": [
      "Operator `initdamp` ran in 0.01 s\n"
     ]
    }
   ],
   "source": [
    "model = demo_model(preset='layers-elastic', nlayers=5, shape=shape, spacing=spacing,\n",
    "                   space_order=so)\n",
    "\n",
    "\n",
    "# model = SeismicModel(origin = origin, \n",
    "#                      spacing = spacing, \n",
    "#                      shape = shape, \n",
    "#                      vp = vp_data,\n",
    "#                      vs = vs_data,\n",
    "#                      b = 1/rho_data_nozero,\n",
    "#                      space_order = so,\n",
    "#                      nbl=nbl,\n",
    "#                      bcs=\"damp\"\n",
    "#                     )\n"
   ]
  },
  {
   "cell_type": "code",
   "execution_count": 17,
   "id": "15eb0ce1-43fa-4560-94ad-e812f0af80d5",
   "metadata": {},
   "outputs": [
    {
     "data": {
      "text/plain": [
       "(101, 101, 250)"
      ]
     },
     "execution_count": 17,
     "metadata": {},
     "output_type": "execute_result"
    }
   ],
   "source": [
    "model.shape"
   ]
  },
  {
   "cell_type": "markdown",
   "id": "bc5cf117-ba4a-4bd4-9686-14b901f4b24b",
   "metadata": {},
   "source": [
    "Проверим загрузку данных по коэфф ламе"
   ]
  },
  {
   "cell_type": "code",
   "execution_count": 18,
   "id": "0e904195-453a-4e8d-a5f9-3817cfb2cf7b",
   "metadata": {},
   "outputs": [],
   "source": [
    "#функция для поиска индекса поверхности\n",
    "def surface_indecies(arr, axis=2, invalid_val=-1):\n",
    "    mask = arr!=0\n",
    "    return np.where(mask.any(axis=axis), mask.argmax(axis=axis), invalid_val)\n",
    "\n",
    "surface_index = surface_indecies(model.lam.data[nbl:-nbl, nbl:-nbl, nbl:-nbl])"
   ]
  },
  {
   "cell_type": "code",
   "execution_count": 19,
   "id": "02c200a0-127d-496f-96bd-c5af80cd110f",
   "metadata": {},
   "outputs": [
    {
     "data": {
      "text/plain": [
       "np.float32(0.3299)"
      ]
     },
     "execution_count": 19,
     "metadata": {},
     "output_type": "execute_result"
    }
   ],
   "source": [
    "model.critical_dt"
   ]
  },
  {
   "cell_type": "code",
   "execution_count": 20,
   "id": "662fc8b0-7924-4342-92f5-4721ca99777a",
   "metadata": {},
   "outputs": [],
   "source": [
    "#наша поверхность\n",
    "# plt.imshow(surface_index)"
   ]
  },
  {
   "cell_type": "code",
   "execution_count": 21,
   "id": "bb688281-1cbc-43e3-8090-782e9266aba8",
   "metadata": {},
   "outputs": [],
   "source": [
    "# grid_lam = pv.ImageData()\n",
    "# grid_lam.dimensions = np.array(model.shape)+1\n",
    "# grid_lam.cell_data['Values'] = np.flip(model.lam.data[nbl:-nbl, nbl:-nbl, nbl:-nbl].flatten(order='F'))\n",
    "# grid_lam.plot()"
   ]
  },
  {
   "cell_type": "code",
   "execution_count": 22,
   "id": "f941e171-23c4-4210-b61b-5bcb360e92c9",
   "metadata": {},
   "outputs": [],
   "source": [
    "t0, tn = 0., 1000.\n",
    "dt = model.critical_dt \n",
    "time_range = TimeAxis(start=t0, stop=tn, step=dt)\n",
    "\n",
    "src = RickerSource(name='src', grid = model.grid, f0=0.015, time_range=time_range)\n",
    "src.coordinates.data[:] = [1250, 1250, surface_index[50,50]*2]"
   ]
  },
  {
   "cell_type": "code",
   "execution_count": 23,
   "id": "ea8281d9-c4bf-47b3-bf6d-98f7d3bab6ae",
   "metadata": {},
   "outputs": [
    {
     "data": {
      "image/png": "[encoded data removed]",
      "text/plain": [
       "<Figure size 800x600 with 1 Axes>"
      ]
     },
     "metadata": {},
     "output_type": "display_data"
    }
   ],
   "source": [
    "src.show()"
   ]
  },
  {
   "cell_type": "markdown",
   "id": "6892fa11-59ec-4251-b447-bc88a4c19c42",
   "metadata": {},
   "source": [
    "## Зададим оператор"
   ]
  },
  {
   "cell_type": "code",
   "execution_count": 24,
   "id": "40997587-d773-4d74-af5b-315fdc6faa3a",
   "metadata": {},
   "outputs": [],
   "source": [
    "#create velocity and pressure fields\n",
    "s = model.grid.time_dim.spacing\n",
    "\n",
    "v = VectorTimeFunction(name='v', grid=model.grid, space_order=so, time_order=1)\n",
    "tau = TensorTimeFunction(name='t', grid=model.grid, space_order=so, time_order=1)"
   ]
  },
  {
   "cell_type": "code",
   "execution_count": 25,
   "id": "254f5533-9165-4f85-982e-da6d3c2bb7ca",
   "metadata": {},
   "outputs": [
    {
     "data": {
      "text/latex": [
       "$\\displaystyle \\left[\\begin{matrix}\\operatorname{FieldFromPointer}\\left(size[0], v_{x vec}, \\left( \\right)\\right) \\operatorname{FieldFromPointer}\\left(size[1], v_{x vec}, \\left( \\right)\\right) \\operatorname{FieldFromPointer}\\left(size[2], v_{x vec}, \\left( \\right)\\right) \\operatorname{FieldFromPointer}\\left(size[3], v_{x vec}, \\left( \\right)\\right) \\operatorname{_rebuild}{\\left(\\text{Keyword},\\left( \\text{ReservedWord},\\right) \\right)}\\\\\\operatorname{FieldFromPointer}\\left(size[0], v_{y vec}, \\left( \\right)\\right) \\operatorname{FieldFromPointer}\\left(size[1], v_{y vec}, \\left( \\right)\\right) \\operatorname{FieldFromPointer}\\left(size[2], v_{y vec}, \\left( \\right)\\right) \\operatorname{FieldFromPointer}\\left(size[3], v_{y vec}, \\left( \\right)\\right) \\operatorname{_rebuild}{\\left(\\text{Keyword},\\left( \\text{ReservedWord},\\right) \\right)}\\\\\\operatorname{FieldFromPointer}\\left(size[0], v_{z vec}, \\left( \\right)\\right) \\operatorname{FieldFromPointer}\\left(size[1], v_{z vec}, \\left( \\right)\\right) \\operatorname{FieldFromPointer}\\left(size[2], v_{z vec}, \\left( \\right)\\right) \\operatorname{FieldFromPointer}\\left(size[3], v_{z vec}, \\left( \\right)\\right) \\operatorname{_rebuild}{\\left(\\text{Keyword},\\left( \\text{ReservedWord},\\right) \\right)}\\end{matrix}\\right]$"
      ],
      "text/plain": [
       "Vector(v_x_vec->size[0]*v_x_vec->size[1]*v_x_vec->size[2]*v_x_vec->size[3]*sizeof(float), v_y_vec->size[0]*v_y_vec->size[1]*v_y_vec->size[2]*v_y_vec->size[3]*sizeof(float), v_z_vec->size[0]*v_z_vec->size[1]*v_z_vec->size[2]*v_z_vec->size[3]*sizeof(float))"
      ]
     },
     "execution_count": 25,
     "metadata": {},
     "output_type": "execute_result"
    }
   ],
   "source": [
    "v.symbolic_nbytes"
   ]
  },
  {
   "cell_type": "code",
   "execution_count": 26,
   "id": "a12f209b-b5f2-4883-8aea-f93948324104",
   "metadata": {},
   "outputs": [],
   "source": [
    "#transform from mxn array to 3xm*n. Also convert from indicies to meters\n",
    "def coord_transform(arr):\n",
    "    value = arr.flatten()\n",
    "    y, x = np.indices(arr.shape).reshape(-1, len(value))\n",
    "    return np.vstack((x,y,value)).T*np.array([25,25,2])\n",
    "surface_depth = coord_transform(surface_index)"
   ]
  },
  {
   "cell_type": "code",
   "execution_count": 27,
   "id": "ddd71d84-46e1-4a02-9cd4-7cb1770c11bc",
   "metadata": {},
   "outputs": [
    {
     "data": {
      "text/plain": [
       "(101, 101)"
      ]
     },
     "execution_count": 27,
     "metadata": {},
     "output_type": "execute_result"
    }
   ],
   "source": [
    "surface_index.shape"
   ]
  },
  {
   "cell_type": "code",
   "execution_count": 28,
   "id": "ccf6ac3b-7287-4162-8dc6-271cd7c610de",
   "metadata": {},
   "outputs": [],
   "source": [
    "# The source injection term\n",
    "src_xx = src.inject(field=tau.forward[0, 0], expr=s*src)\n",
    "src_yy = src.inject(field=tau.forward[1, 1], expr=s*src)\n",
    "src_zz = src.inject(field=tau.forward[2, 2], expr=s*src)\n",
    "\n",
    "# The receiver\n",
    "nrec = model.shape[0]*model.shape[1]\n",
    "\n",
    "rec = Receiver(name=\"rec\", grid=model.grid, npoint=nrec, time_range=time_range)\n",
    "rec.coordinates.data[:,0] = surface_depth[:,0]\n",
    "rec.coordinates.data[:,1] = surface_depth[:,1]\n",
    "rec.coordinates.data[:,2] = surface_depth[:,2] - 1\n",
    "\n",
    "rec2 = Receiver(name=\"rec\", grid=model.grid, npoint=nrec, time_range=time_range)\n",
    "rec2.coordinates.data[:,0] = surface_depth[:,0]\n",
    "rec2.coordinates.data[:,1] = surface_depth[:,1]\n",
    "rec2.coordinates.data[:,2] = surface_depth[:,2] - 1\n",
    "\n",
    "rec3 = Receiver(name=\"rec\", grid=model.grid, npoint=nrec, time_range=time_range)\n",
    "rec3.coordinates.data[:,0] = surface_depth[:,0]\n",
    "rec3.coordinates.data[:,1] = surface_depth[:,1]\n",
    "rec3.coordinates.data[:,2] = surface_depth[:,2] - 1\n",
    "\n",
    "rec_term = rec.interpolate(expr=v[2])\n",
    "rec_term += rec2.interpolate(expr=v[1])\n",
    "rec_term += rec3.interpolate(expr=v[0])"
   ]
  },
  {
   "cell_type": "code",
   "execution_count": 29,
   "id": "5844bf5a-720f-4323-90b2-2d5e0da0a752",
   "metadata": {},
   "outputs": [],
   "source": [
    "# pv.set_jupyter_backend('client')\n",
    "# point_cloud = pv.PolyData(np.vstack((rec.coordinates.data, src.coordinates.data)))\n",
    "# scalars = np.append(np.zeros(2500), 1)\n",
    "# point_cloud.plot(scalars=scalars)"
   ]
  },
  {
   "cell_type": "code",
   "execution_count": 30,
   "id": "94b77aa2-dc47-499d-bc0f-58713bc08cae",
   "metadata": {},
   "outputs": [],
   "source": [
    "# Now let's try and create the staggered updates\n",
    "# Lame parameters\n",
    "l, mu, ro = model.lam, model.mu, model.b\n",
    "\n",
    "# First order elastic wave equation\n",
    "pde_v = v.dt - ro * div(tau)\n",
    "pde_tau = tau.dt - l * diag(div(v.forward)) - mu * (grad(v.forward) + grad(v.forward).transpose(inner=False))\n",
    "# Time update\n",
    "u_v = Eq(v.forward, model.damp * solve(pde_v, v.forward))\n",
    "u_t = Eq(tau.forward,  model.damp * solve(pde_tau, tau.forward))\n",
    "\n",
    "op = Operator([u_v] + [u_t] + src_xx + src_yy + src_zz + rec_term)"
   ]
  },
  {
   "cell_type": "code",
   "execution_count": 31,
   "id": "d5d267dd-32ea-4563-ab94-642ec78ee76d",
   "metadata": {},
   "outputs": [
    {
     "data": {
      "text/latex": [
       "$\\displaystyle \\left[\\begin{matrix}v_x(t + dt, x + h_x/2, y, z)\\\\v_y(t + dt, x, y + h_y/2, z)\\\\v_z(t + dt, x, y, z + h_z/2)\\end{matrix}\\right] = \\left[\\begin{matrix}dt \\left(\\left(\\frac{\\partial}{\\partial x} t_xx(t, x, y, z) + \\frac{\\partial}{\\partial y} t_xy(t, x + h_x/2, y + h_y/2, z) + \\frac{\\partial}{\\partial z} t_xz(t, x + h_x/2, y, z + h_z/2)\\right) b(x, y, z) + \\frac{v_x(t, x + h_x/2, y, z)}{dt}\\right) damp(x, y, z)\\\\dt \\left(\\left(\\frac{\\partial}{\\partial x} t_xy(t, x + h_x/2, y + h_y/2, z) + \\frac{\\partial}{\\partial y} t_yy(t, x, y, z) + \\frac{\\partial}{\\partial z} t_yz(t, x, y + h_y/2, z + h_z/2)\\right) b(x, y, z) + \\frac{v_y(t, x, y + h_y/2, z)}{dt}\\right) damp(x, y, z)\\\\dt \\left(\\left(\\frac{\\partial}{\\partial x} t_xz(t, x + h_x/2, y, z + h_z/2) + \\frac{\\partial}{\\partial y} t_yz(t, x, y + h_y/2, z + h_z/2) + \\frac{\\partial}{\\partial z} t_zz(t, x, y, z)\\right) b(x, y, z) + \\frac{v_z(t, x, y, z + h_z/2)}{dt}\\right) damp(x, y, z)\\end{matrix}\\right]$"
      ],
      "text/plain": [
       "Eq(Vector(v_x(t + dt, x + h_x/2, y, z), v_y(t + dt, x, y + h_y/2, z), v_z(t + dt, x, y, z + h_z/2)), Vector(dt*((Derivative(t_xx(t, x, y, z), x) + Derivative(t_xy(t, x + h_x/2, y + h_y/2, z), y) + Derivative(t_xz(t, x + h_x/2, y, z + h_z/2), z))*b(x, y, z) + v_x(t, x + h_x/2, y, z)/dt)*damp(x, y, z), dt*((Derivative(t_xy(t, x + h_x/2, y + h_y/2, z), x) + Derivative(t_yy(t, x, y, z), y) + Derivative(t_yz(t, x, y + h_y/2, z + h_z/2), z))*b(x, y, z) + v_y(t, x, y + h_y/2, z)/dt)*damp(x, y, z), dt*((Derivative(t_xz(t, x + h_x/2, y, z + h_z/2), x) + Derivative(t_yz(t, x, y + h_y/2, z + h_z/2), y) + Derivative(t_zz(t, x, y, z), z))*b(x, y, z) + v_z(t, x, y, z + h_z/2)/dt)*damp(x, y, z)))"
      ]
     },
     "execution_count": 31,
     "metadata": {},
     "output_type": "execute_result"
    }
   ],
   "source": [
    "u_v"
   ]
  },
  {
   "cell_type": "code",
   "execution_count": 32,
   "id": "50c4169a-c700-4818-94cf-999276db142a",
   "metadata": {},
   "outputs": [
    {
     "data": {
      "text/latex": [
       "$\\displaystyle \\left[\\begin{matrix}t_xx(t + dt, x, y, z) & t_xy(t + dt, x + h_x/2, y + h_y/2, z) & t_xz(t + dt, x + h_x/2, y, z + h_z/2)\\\\t_xy(t + dt, x + h_x/2, y + h_y/2, z) & t_yy(t + dt, x, y, z) & t_yz(t + dt, x, y + h_y/2, z + h_z/2)\\\\t_xz(t + dt, x + h_x/2, y, z + h_z/2) & t_yz(t + dt, x, y + h_y/2, z + h_z/2) & t_zz(t + dt, x, y, z)\\end{matrix}\\right] = \\left[\\begin{matrix}dt \\left(\\left(\\frac{\\partial}{\\partial x} v_x(t + dt, x + h_x/2, y, z) + \\frac{\\partial}{\\partial y} v_y(t + dt, x, y + h_y/2, z) + \\frac{\\partial}{\\partial z} v_z(t + dt, x, y, z + h_z/2)\\right) lam(x, y, z) + 2 mu(x, y, z) \\frac{\\partial}{\\partial x} v_x(t + dt, x + h_x/2, y, z) + \\frac{t_xx(t, x, y, z)}{dt}\\right) damp(x, y, z) & dt \\left(\\left(\\frac{\\partial}{\\partial y} v_x(t + dt, x + h_x/2, y, z) + \\frac{\\partial}{\\partial x} v_y(t + dt, x, y + h_y/2, z)\\right) mu(x, y, z) + \\frac{t_xy(t, x + h_x/2, y + h_y/2, z)}{dt}\\right) damp(x, y, z) & dt \\left(\\left(\\frac{\\partial}{\\partial z} v_x(t + dt, x + h_x/2, y, z) + \\frac{\\partial}{\\partial x} v_z(t + dt, x, y, z + h_z/2)\\right) mu(x, y, z) + \\frac{t_xz(t, x + h_x/2, y, z + h_z/2)}{dt}\\right) damp(x, y, z)\\\\dt \\left(\\left(\\frac{\\partial}{\\partial y} v_x(t + dt, x + h_x/2, y, z) + \\frac{\\partial}{\\partial x} v_y(t + dt, x, y + h_y/2, z)\\right) mu(x, y, z) + \\frac{t_xy(t, x + h_x/2, y + h_y/2, z)}{dt}\\right) damp(x, y, z) & dt \\left(\\left(\\frac{\\partial}{\\partial x} v_x(t + dt, x + h_x/2, y, z) + \\frac{\\partial}{\\partial y} v_y(t + dt, x, y + h_y/2, z) + \\frac{\\partial}{\\partial z} v_z(t + dt, x, y, z + h_z/2)\\right) lam(x, y, z) + 2 mu(x, y, z) \\frac{\\partial}{\\partial y} v_y(t + dt, x, y + h_y/2, z) + \\frac{t_yy(t, x, y, z)}{dt}\\right) damp(x, y, z) & dt \\left(\\left(\\frac{\\partial}{\\partial z} v_y(t + dt, x, y + h_y/2, z) + \\frac{\\partial}{\\partial y} v_z(t + dt, x, y, z + h_z/2)\\right) mu(x, y, z) + \\frac{t_yz(t, x, y + h_y/2, z + h_z/2)}{dt}\\right) damp(x, y, z)\\\\dt \\left(\\left(\\frac{\\partial}{\\partial z} v_x(t + dt, x + h_x/2, y, z) + \\frac{\\partial}{\\partial x} v_z(t + dt, x, y, z + h_z/2)\\right) mu(x, y, z) + \\frac{t_xz(t, x + h_x/2, y, z + h_z/2)}{dt}\\right) damp(x, y, z) & dt \\left(\\left(\\frac{\\partial}{\\partial z} v_y(t + dt, x, y + h_y/2, z) + \\frac{\\partial}{\\partial y} v_z(t + dt, x, y, z + h_z/2)\\right) mu(x, y, z) + \\frac{t_yz(t, x, y + h_y/2, z + h_z/2)}{dt}\\right) damp(x, y, z) & dt \\left(\\left(\\frac{\\partial}{\\partial x} v_x(t + dt, x + h_x/2, y, z) + \\frac{\\partial}{\\partial y} v_y(t + dt, x, y + h_y/2, z) + \\frac{\\partial}{\\partial z} v_z(t + dt, x, y, z + h_z/2)\\right) lam(x, y, z) + 2 mu(x, y, z) \\frac{\\partial}{\\partial z} v_z(t + dt, x, y, z + h_z/2) + \\frac{t_zz(t, x, y, z)}{dt}\\right) damp(x, y, z)\\end{matrix}\\right]$"
      ],
      "text/plain": [
       "Eq(Matrix([[t_xx(t + dt, x, y, z), t_xy(t + dt, x + h_x/2, y + h_y/2, z), t_xz(t + dt, x + h_x/2, y, z + h_z/2)], [t_xy(t + dt, x + h_x/2, y + h_y/2, z), t_yy(t + dt, x, y, z), t_yz(t + dt, x, y + h_y/2, z + h_z/2)], [t_xz(t + dt, x + h_x/2, y, z + h_z/2), t_yz(t + dt, x, y + h_y/2, z + h_z/2), t_zz(t + dt, x, y, z)]]), Matrix([[dt*((Derivative(v_x(t + dt, x + h_x/2, y, z), x) + Derivative(v_y(t + dt, x, y + h_y/2, z), y) + Derivative(v_z(t + dt, x, y, z + h_z/2), z))*lam(x, y, z) + 2*mu(x, y, z)*Derivative(v_x(t + dt, x + h_x/2, y, z), x) + t_xx(t, x, y, z)/dt)*damp(x, y, z), dt*((Derivative(v_x(t + dt, x + h_x/2, y, z), y) + Derivative(v_y(t + dt, x, y + h_y/2, z), x))*mu(x, y, z) + t_xy(t, x + h_x/2, y + h_y/2, z)/dt)*damp(x, y, z), dt*((Derivative(v_x(t + dt, x + h_x/2, y, z), z) + Derivative(v_z(t + dt, x, y, z + h_z/2), x))*mu(x, y, z) + t_xz(t, x + h_x/2, y, z + h_z/2)/dt)*damp(x, y, z)], [dt*((Derivative(v_x(t + dt, x + h_x/2, y, z), y) + Derivative(v_y(t + dt, x, y + h_y/2, z), x))*mu(x, y, z) + t_xy(t, x + h_x/2, y + h_y/2, z)/dt)*damp(x, y, z), dt*((Derivative(v_x(t + dt, x + h_x/2, y, z), x) + Derivative(v_y(t + dt, x, y + h_y/2, z), y) + Derivative(v_z(t + dt, x, y, z + h_z/2), z))*lam(x, y, z) + 2*mu(x, y, z)*Derivative(v_y(t + dt, x, y + h_y/2, z), y) + t_yy(t, x, y, z)/dt)*damp(x, y, z), dt*((Derivative(v_y(t + dt, x, y + h_y/2, z), z) + Derivative(v_z(t + dt, x, y, z + h_z/2), y))*mu(x, y, z) + t_yz(t, x, y + h_y/2, z + h_z/2)/dt)*damp(x, y, z)], [dt*((Derivative(v_x(t + dt, x + h_x/2, y, z), z) + Derivative(v_z(t + dt, x, y, z + h_z/2), x))*mu(x, y, z) + t_xz(t, x + h_x/2, y, z + h_z/2)/dt)*damp(x, y, z), dt*((Derivative(v_y(t + dt, x, y + h_y/2, z), z) + Derivative(v_z(t + dt, x, y, z + h_z/2), y))*mu(x, y, z) + t_yz(t, x, y + h_y/2, z + h_z/2)/dt)*damp(x, y, z), dt*((Derivative(v_x(t + dt, x + h_x/2, y, z), x) + Derivative(v_y(t + dt, x, y + h_y/2, z), y) + Derivative(v_z(t + dt, x, y, z + h_z/2), z))*lam(x, y, z) + 2*mu(x, y, z)*Derivative(v_z(t + dt, x, y, z + h_z/2), z) + t_zz(t, x, y, z)/dt)*damp(x, y, z)]]))"
      ]
     },
     "execution_count": 32,
     "metadata": {},
     "output_type": "execute_result"
    }
   ],
   "source": [
    "u_t"
   ]
  },
  {
   "cell_type": "code",
   "execution_count": 33,
   "id": "87b79ad8-6188-4c67-bcba-7cab1875d5a2",
   "metadata": {},
   "outputs": [
    {
     "ename": "AttributeError",
     "evalue": "'_ctypes.CArgObject' object has no attribute 'ctypes'",
     "output_type": "error",
     "traceback": [
      "\u001b[0;31m---------------------------------------------------------------------------\u001b[0m",
      "\u001b[0;31mAttributeError\u001b[0m                            Traceback (most recent call last)",
      "File \u001b[0;32m~/Documents/NeoGen_Modeling/.venv/lib/python3.12/site-packages/devito/operator/operator.py:659\u001b[0m, in \u001b[0;36mOperator._prepare_arguments\u001b[0;34m(self, autotune, **kwargs)\u001b[0m\n\u001b[1;32m    658\u001b[0m \u001b[38;5;28;01mtry\u001b[39;00m:\n\u001b[0;32m--> 659\u001b[0m     args\u001b[38;5;241m.\u001b[39mupdate(\u001b[43mkwargs\u001b[49m\u001b[38;5;241;43m.\u001b[39;49m\u001b[43mget\u001b[49m\u001b[43m(\u001b[49m\u001b[43mp\u001b[49m\u001b[38;5;241;43m.\u001b[39;49m\u001b[43mname\u001b[49m\u001b[43m,\u001b[49m\u001b[43m \u001b[49m\u001b[43mp\u001b[49m\u001b[43m)\u001b[49m\u001b[38;5;241;43m.\u001b[39;49m\u001b[43m_arg_finalize\u001b[49m\u001b[43m(\u001b[49m\u001b[43margs\u001b[49m\u001b[43m,\u001b[49m\u001b[43m \u001b[49m\u001b[43malias\u001b[49m\u001b[38;5;241;43m=\u001b[39;49m\u001b[43mp\u001b[49m\u001b[43m)\u001b[49m)\n\u001b[1;32m    660\u001b[0m \u001b[38;5;28;01mexcept\u001b[39;00m \u001b[38;5;167;01mAttributeError\u001b[39;00m:\n\u001b[1;32m    661\u001b[0m     \u001b[38;5;66;03m# User-provided floats/ndarray obviously do not have `_arg_finalize`\u001b[39;00m\n",
      "File \u001b[0;32m~/Documents/NeoGen_Modeling/.venv/lib/python3.12/site-packages/devito/types/dense.py:878\u001b[0m, in \u001b[0;36mDiscreteFunction._arg_finalize\u001b[0;34m(self, args, alias)\u001b[0m\n\u001b[1;32m    877\u001b[0m key \u001b[38;5;241m=\u001b[39m alias \u001b[38;5;129;01mor\u001b[39;00m \u001b[38;5;28mself\u001b[39m\n\u001b[0;32m--> 878\u001b[0m \u001b[38;5;28;01mreturn\u001b[39;00m {key\u001b[38;5;241m.\u001b[39mname: \u001b[38;5;28;43mself\u001b[39;49m\u001b[38;5;241;43m.\u001b[39;49m\u001b[43m_C_make_dataobj\u001b[49m\u001b[43m(\u001b[49m\u001b[43malias\u001b[49m\u001b[38;5;241;43m=\u001b[39;49m\u001b[43mkey\u001b[49m\u001b[43m,\u001b[49m\u001b[43m \u001b[49m\u001b[38;5;241;43m*\u001b[39;49m\u001b[38;5;241;43m*\u001b[39;49m\u001b[43margs\u001b[49m\u001b[43m)\u001b[49m}\n",
      "File \u001b[0;32m~/Documents/NeoGen_Modeling/.venv/lib/python3.12/site-packages/devito/types/dense.py:678\u001b[0m, in \u001b[0;36mDiscreteFunction._C_make_dataobj\u001b[0;34m(self, alias, **args)\u001b[0m\n\u001b[1;32m    677\u001b[0m dataobj \u001b[38;5;241m=\u001b[39m byref(\u001b[38;5;28mself\u001b[39m\u001b[38;5;241m.\u001b[39m_C_ctype\u001b[38;5;241m.\u001b[39m_type_())\n\u001b[0;32m--> 678\u001b[0m dataobj\u001b[38;5;241m.\u001b[39m_obj\u001b[38;5;241m.\u001b[39mdata \u001b[38;5;241m=\u001b[39m \u001b[43mdata\u001b[49m\u001b[38;5;241;43m.\u001b[39;49m\u001b[43mctypes\u001b[49m\u001b[38;5;241m.\u001b[39mdata_as(c_restrict_void_p)\n\u001b[1;32m    679\u001b[0m dataobj\u001b[38;5;241m.\u001b[39m_obj\u001b[38;5;241m.\u001b[39msize \u001b[38;5;241m=\u001b[39m (c_ulong\u001b[38;5;241m*\u001b[39m\u001b[38;5;28mself\u001b[39m\u001b[38;5;241m.\u001b[39mndim)(\u001b[38;5;241m*\u001b[39mdata\u001b[38;5;241m.\u001b[39mshape)\n",
      "\u001b[0;31mAttributeError\u001b[0m: '_ctypes.CArgObject' object has no attribute 'ctypes'",
      "\nDuring handling of the above exception, another exception occurred:\n",
      "\u001b[0;31mAttributeError\u001b[0m                            Traceback (most recent call last)",
      "Cell \u001b[0;32mIn[33], line 2\u001b[0m\n\u001b[1;32m      1\u001b[0m \u001b[38;5;66;03m#NBVAL_IGNORE_OUTPUT\u001b[39;00m\n\u001b[0;32m----> 2\u001b[0m \u001b[43mop\u001b[49m\u001b[43m(\u001b[49m\u001b[43mdt\u001b[49m\u001b[38;5;241;43m=\u001b[39;49m\u001b[43mmodel\u001b[49m\u001b[38;5;241;43m.\u001b[39;49m\u001b[43mcritical_dt\u001b[49m\u001b[43m)\u001b[49m \n",
      "File \u001b[0;32m~/Documents/NeoGen_Modeling/.venv/lib/python3.12/site-packages/devito/operator/operator.py:797\u001b[0m, in \u001b[0;36mOperator.__call__\u001b[0;34m(self, **kwargs)\u001b[0m\n\u001b[1;32m    796\u001b[0m \u001b[38;5;28;01mdef\u001b[39;00m \u001b[38;5;21m__call__\u001b[39m(\u001b[38;5;28mself\u001b[39m, \u001b[38;5;241m*\u001b[39m\u001b[38;5;241m*\u001b[39mkwargs):\n\u001b[0;32m--> 797\u001b[0m     \u001b[38;5;28;01mreturn\u001b[39;00m \u001b[38;5;28;43mself\u001b[39;49m\u001b[38;5;241;43m.\u001b[39;49m\u001b[43mapply\u001b[49m\u001b[43m(\u001b[49m\u001b[38;5;241;43m*\u001b[39;49m\u001b[38;5;241;43m*\u001b[39;49m\u001b[43mkwargs\u001b[49m\u001b[43m)\u001b[49m\n",
      "File \u001b[0;32m~/Documents/NeoGen_Modeling/.venv/lib/python3.12/site-packages/devito/operator/operator.py:863\u001b[0m, in \u001b[0;36mOperator.apply\u001b[0;34m(self, **kwargs)\u001b[0m\n\u001b[1;32m    861\u001b[0m \u001b[38;5;66;03m# Build the arguments list to invoke the kernel function\u001b[39;00m\n\u001b[1;32m    862\u001b[0m \u001b[38;5;28;01mwith\u001b[39;00m \u001b[38;5;28mself\u001b[39m\u001b[38;5;241m.\u001b[39m_profiler\u001b[38;5;241m.\u001b[39mtimer_on(\u001b[38;5;124m'\u001b[39m\u001b[38;5;124marguments\u001b[39m\u001b[38;5;124m'\u001b[39m):\n\u001b[0;32m--> 863\u001b[0m     args \u001b[38;5;241m=\u001b[39m \u001b[38;5;28;43mself\u001b[39;49m\u001b[38;5;241;43m.\u001b[39;49m\u001b[43marguments\u001b[49m\u001b[43m(\u001b[49m\u001b[38;5;241;43m*\u001b[39;49m\u001b[38;5;241;43m*\u001b[39;49m\u001b[43mkwargs\u001b[49m\u001b[43m)\u001b[49m\n\u001b[1;32m    865\u001b[0m \u001b[38;5;66;03m# Invoke kernel function with args\u001b[39;00m\n\u001b[1;32m    866\u001b[0m arg_values \u001b[38;5;241m=\u001b[39m [args[p\u001b[38;5;241m.\u001b[39mname] \u001b[38;5;28;01mfor\u001b[39;00m p \u001b[38;5;129;01min\u001b[39;00m \u001b[38;5;28mself\u001b[39m\u001b[38;5;241m.\u001b[39mparameters]\n",
      "File \u001b[0;32m~/Documents/NeoGen_Modeling/.venv/lib/python3.12/site-packages/devito/operator/operator.py:705\u001b[0m, in \u001b[0;36mOperator.arguments\u001b[0;34m(self, **kwargs)\u001b[0m\n\u001b[1;32m    703\u001b[0m \u001b[38;5;28;01mdef\u001b[39;00m \u001b[38;5;21marguments\u001b[39m(\u001b[38;5;28mself\u001b[39m, \u001b[38;5;241m*\u001b[39m\u001b[38;5;241m*\u001b[39mkwargs):\n\u001b[1;32m    704\u001b[0m \u001b[38;5;250m    \u001b[39m\u001b[38;5;124;03m\"\"\"Arguments to run the Operator.\"\"\"\u001b[39;00m\n\u001b[0;32m--> 705\u001b[0m     args \u001b[38;5;241m=\u001b[39m \u001b[38;5;28;43mself\u001b[39;49m\u001b[38;5;241;43m.\u001b[39;49m\u001b[43m_prepare_arguments\u001b[49m\u001b[43m(\u001b[49m\u001b[38;5;241;43m*\u001b[39;49m\u001b[38;5;241;43m*\u001b[39;49m\u001b[43mkwargs\u001b[49m\u001b[43m)\u001b[49m\n\u001b[1;32m    706\u001b[0m     \u001b[38;5;66;03m# Check all arguments are present\u001b[39;00m\n\u001b[1;32m    707\u001b[0m     \u001b[38;5;28;01mfor\u001b[39;00m p \u001b[38;5;129;01min\u001b[39;00m \u001b[38;5;28mself\u001b[39m\u001b[38;5;241m.\u001b[39mparameters:\n",
      "File \u001b[0;32m~/Documents/NeoGen_Modeling/.venv/lib/python3.12/site-packages/devito/operator/operator.py:662\u001b[0m, in \u001b[0;36mOperator._prepare_arguments\u001b[0;34m(self, autotune, **kwargs)\u001b[0m\n\u001b[1;32m    659\u001b[0m         args\u001b[38;5;241m.\u001b[39mupdate(kwargs\u001b[38;5;241m.\u001b[39mget(p\u001b[38;5;241m.\u001b[39mname, p)\u001b[38;5;241m.\u001b[39m_arg_finalize(args, alias\u001b[38;5;241m=\u001b[39mp))\n\u001b[1;32m    660\u001b[0m     \u001b[38;5;28;01mexcept\u001b[39;00m \u001b[38;5;167;01mAttributeError\u001b[39;00m:\n\u001b[1;32m    661\u001b[0m         \u001b[38;5;66;03m# User-provided floats/ndarray obviously do not have `_arg_finalize`\u001b[39;00m\n\u001b[0;32m--> 662\u001b[0m         args\u001b[38;5;241m.\u001b[39mupdate(\u001b[43mp\u001b[49m\u001b[38;5;241;43m.\u001b[39;49m\u001b[43m_arg_finalize\u001b[49m\u001b[43m(\u001b[49m\u001b[43margs\u001b[49m\u001b[43m,\u001b[49m\u001b[43m \u001b[49m\u001b[43malias\u001b[49m\u001b[38;5;241;43m=\u001b[39;49m\u001b[43mp\u001b[49m\u001b[43m)\u001b[49m)\n\u001b[1;32m    664\u001b[0m \u001b[38;5;66;03m# Execute autotuning and adjust arguments accordingly\u001b[39;00m\n\u001b[1;32m    665\u001b[0m args\u001b[38;5;241m.\u001b[39mupdate(\u001b[38;5;28mself\u001b[39m\u001b[38;5;241m.\u001b[39m_autotune(args, autotune \u001b[38;5;129;01mor\u001b[39;00m configuration[\u001b[38;5;124m'\u001b[39m\u001b[38;5;124mautotuning\u001b[39m\u001b[38;5;124m'\u001b[39m]))\n",
      "File \u001b[0;32m~/Documents/NeoGen_Modeling/.venv/lib/python3.12/site-packages/devito/types/dense.py:878\u001b[0m, in \u001b[0;36mDiscreteFunction._arg_finalize\u001b[0;34m(self, args, alias)\u001b[0m\n\u001b[1;32m    876\u001b[0m \u001b[38;5;28;01mdef\u001b[39;00m \u001b[38;5;21m_arg_finalize\u001b[39m(\u001b[38;5;28mself\u001b[39m, args, alias\u001b[38;5;241m=\u001b[39m\u001b[38;5;28;01mNone\u001b[39;00m):\n\u001b[1;32m    877\u001b[0m     key \u001b[38;5;241m=\u001b[39m alias \u001b[38;5;129;01mor\u001b[39;00m \u001b[38;5;28mself\u001b[39m\n\u001b[0;32m--> 878\u001b[0m     \u001b[38;5;28;01mreturn\u001b[39;00m {key\u001b[38;5;241m.\u001b[39mname: \u001b[38;5;28;43mself\u001b[39;49m\u001b[38;5;241;43m.\u001b[39;49m\u001b[43m_C_make_dataobj\u001b[49m\u001b[43m(\u001b[49m\u001b[43malias\u001b[49m\u001b[38;5;241;43m=\u001b[39;49m\u001b[43mkey\u001b[49m\u001b[43m,\u001b[49m\u001b[43m \u001b[49m\u001b[38;5;241;43m*\u001b[39;49m\u001b[38;5;241;43m*\u001b[39;49m\u001b[43margs\u001b[49m\u001b[43m)\u001b[49m}\n",
      "File \u001b[0;32m~/Documents/NeoGen_Modeling/.venv/lib/python3.12/site-packages/devito/types/dense.py:678\u001b[0m, in \u001b[0;36mDiscreteFunction._C_make_dataobj\u001b[0;34m(self, alias, **args)\u001b[0m\n\u001b[1;32m    676\u001b[0m data \u001b[38;5;241m=\u001b[39m args[key\u001b[38;5;241m.\u001b[39mname]\n\u001b[1;32m    677\u001b[0m dataobj \u001b[38;5;241m=\u001b[39m byref(\u001b[38;5;28mself\u001b[39m\u001b[38;5;241m.\u001b[39m_C_ctype\u001b[38;5;241m.\u001b[39m_type_())\n\u001b[0;32m--> 678\u001b[0m dataobj\u001b[38;5;241m.\u001b[39m_obj\u001b[38;5;241m.\u001b[39mdata \u001b[38;5;241m=\u001b[39m \u001b[43mdata\u001b[49m\u001b[38;5;241;43m.\u001b[39;49m\u001b[43mctypes\u001b[49m\u001b[38;5;241m.\u001b[39mdata_as(c_restrict_void_p)\n\u001b[1;32m    679\u001b[0m dataobj\u001b[38;5;241m.\u001b[39m_obj\u001b[38;5;241m.\u001b[39msize \u001b[38;5;241m=\u001b[39m (c_ulong\u001b[38;5;241m*\u001b[39m\u001b[38;5;28mself\u001b[39m\u001b[38;5;241m.\u001b[39mndim)(\u001b[38;5;241m*\u001b[39mdata\u001b[38;5;241m.\u001b[39mshape)\n\u001b[1;32m    680\u001b[0m \u001b[38;5;66;03m# MPI-related fields\u001b[39;00m\n",
      "\u001b[0;31mAttributeError\u001b[0m: '_ctypes.CArgObject' object has no attribute 'ctypes'"
     ]
    }
   ],
   "source": [
    "#NBVAL_IGNORE_OUTPUT\n",
    "op(dt=model.critical_dt) "
   ]
  },
  {
   "cell_type": "code",
   "execution_count": null,
   "id": "a66b3fec-714d-4a7b-8b06-8af676cf884f",
   "metadata": {},
   "outputs": [],
   "source": []
  }
 ],
 "metadata": {
  "kernelspec": {
   "display_name": "Python 3 (ipykernel)",
   "language": "python",
   "name": "python3"
  },
  "language_info": {
   "codemirror_mode": {
    "name": "ipython",
    "version": 3
   },
   "file_extension": ".py",
   "mimetype": "text/x-python",
   "name": "python",
   "nbconvert_exporter": "python",
   "pygments_lexer": "ipython3",
   "version": "3.12.3"
  }
 },
 "nbformat": 4,
 "nbformat_minor": 5
}
