{
 "cells": [
  {
   "cell_type": "code",
   "execution_count": 1,
   "id": "051d3b86-4f13-4f47-abd9-1f3983da162c",
   "metadata": {},
   "outputs": [],
   "source": [
    "import numpy as np\n",
    "from segysak.segy import (\n",
    "    segy_loader,\n",
    "    get_segy_texthead,\n",
    "    segy_header_scan,\n",
    "    segy_header_scrape,\n",
    "    well_known_byte_locs,\n",
    ")\n",
    "import xarray as xr\n",
    "import segyio"
   ]
  },
  {
   "cell_type": "code",
   "execution_count": 2,
   "id": "8f0fb125-2940-4088-b394-04dc34bf895f",
   "metadata": {},
   "outputs": [],
   "source": [
    "segy_filepath = 'Modeling_data/Vp 2D 2.sgy'"
   ]
  },
  {
   "cell_type": "code",
   "execution_count": 6,
   "id": "bec0b4cb-f911-4d62-8666-44d56a39f14f",
   "metadata": {},
   "outputs": [
    {
     "data": {
      "application/vnd.jupyter.widget-view+json": {
       "model_id": "",
       "version_major": 2,
       "version_minor": 0
      },
      "text/plain": [
       "  0%|          | 0.00/1.00 [00:00<?, ? trace-chunks/s]"
      ]
     },
     "metadata": {},
     "output_type": "display_data"
    },
    {
     "data": {
      "application/vnd.jupyter.widget-view+json": {
       "model_id": "",
       "version_major": 2,
       "version_minor": 0
      },
      "text/plain": [
       "  0%|          | 0.00/319 [00:00<?, ? traces/s]"
      ]
     },
     "metadata": {},
     "output_type": "display_data"
    }
   ],
   "source": [
    "ds2d = xr.open_dataset(\n",
    "    segy_filepath,\n",
    "    dim_byte_fields={'cdp': 1},\n",
    "    # extra_byte_fields={'cdp_x':181, 'cdp_y':185},\n",
    ")"
   ]
  },
  {
   "cell_type": "code",
   "execution_count": 23,
   "id": "4c49f14d-c04d-459e-9bfb-f12ea0b9e7dd",
   "metadata": {},
   "outputs": [],
   "source": [
    "traces = ds2d.data.to_numpy()"
   ]
  },
  {
   "cell_type": "code",
   "execution_count": 39,
   "id": "fcb22ed7-58f5-4b45-ab5b-ec332a589298",
   "metadata": {},
   "outputs": [],
   "source": [
    "def surface_indecies(arr, axis=1, invalid_val=-1):\n",
    "    mask = arr!=0\n",
    "    return np.where(mask.any(axis=axis), mask.argmax(axis=axis), invalid_val)"
   ]
  },
  {
   "cell_type": "code",
   "execution_count": 42,
   "id": "927a95a0-305c-44eb-94cd-e1da019be9d1",
   "metadata": {},
   "outputs": [],
   "source": [
    "surf_ind = np.vstack((np.linspace(1,319,319), surface_indecies(traces))).T\n",
    "np.savetxt('Results/surface_indx.txt', surf_ind, delimiter = ',')"
   ]
  },
  {
   "cell_type": "code",
   "execution_count": null,
   "id": "b561b408-66a8-4649-9a27-506528aa35f8",
   "metadata": {},
   "outputs": [],
   "source": []
  }
 ],
 "metadata": {
  "kernelspec": {
   "display_name": "Python 3 (ipykernel)",
   "language": "python",
   "name": "python3"
  },
  "language_info": {
   "codemirror_mode": {
    "name": "ipython",
    "version": 3
   },
   "file_extension": ".py",
   "mimetype": "text/x-python",
   "name": "python",
   "nbconvert_exporter": "python",
   "pygments_lexer": "ipython3",
   "version": "3.12.3"
  }
 },
 "nbformat": 4,
 "nbformat_minor": 5
}
