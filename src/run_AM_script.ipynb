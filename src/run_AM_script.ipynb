{
 "cells": [
  {
   "cell_type": "code",
   "execution_count": 3,
   "metadata": {},
   "outputs": [
    {
     "name": "stdout",
     "output_type": "stream",
     "text": [
      "/usr/bin/ld: warning: /tmp/pgcudafathy_gvXFSttVA.o: missing .note.GNU-stack section implies executable stack\n",
      "/usr/bin/ld: NOTE: This behaviour is deprecated and will be removed in a future version of the linker\n",
      "Operator `initdamp` ran in 0.13 s\n",
      "/usr/bin/ld: warning: /tmp/pgcudafatS5_geKYVGSxq.o: missing .note.GNU-stack section implies executable stack\n",
      "/usr/bin/ld: NOTE: This behaviour is deprecated and will be removed in a future version of the linker\n",
      "/usr/bin/ld: warning: /tmp/pgcudafat1o-gFmskXLMM.o: missing .note.GNU-stack section implies executable stack\n",
      "/usr/bin/ld: NOTE: This behaviour is deprecated and will be removed in a future version of the linker\n",
      "/usr/bin/ld: warning: /tmp/pgcudafatAJ-go3SXgLMi.o: missing .note.GNU-stack section implies executable stack\n",
      "/usr/bin/ld: NOTE: This behaviour is deprecated and will be removed in a future version of the linker\n",
      "/usr/bin/ld: warning: /tmp/pgcudafatA4-go3wvgLKZ.o: missing .note.GNU-stack section implies executable stack\n",
      "/usr/bin/ld: NOTE: This behaviour is deprecated and will be removed in a future version of the linker\n",
      "/usr/bin/ld: warning: /tmp/pgcudafatJnahPt-bx6na.o: missing .note.GNU-stack section implies executable stack\n",
      "/usr/bin/ld: NOTE: This behaviour is deprecated and will be removed in a future version of the linker\n",
      "(59051, 1)\n",
      "/usr/bin/ld: warning: /tmp/pgcudafat-Oah9zt_BnkA.o: missing .note.GNU-stack section implies executable stack\n",
      "/usr/bin/ld: NOTE: This behaviour is deprecated and will be removed in a future version of the linker\n",
      "Operator `ForwardElastic` ran in 129.87 s\n",
      "Traceback (most recent call last):\n",
      "  File \"/home/spaceswimmer/Documents/NeoGen_Modeling/src/2d_elastic/AM_model.py\", line 112, in <module>\n",
      "    main()\n",
      "  File \"/home/spaceswimmer/Documents/NeoGen_Modeling/src/2d_elastic/AM_model.py\", line 103, in main\n",
      "    if args.r:\n",
      "       ^^^^^^\n",
      "AttributeError: 'Namespace' object has no attribute 'r'\n"
     ]
    }
   ],
   "source": [
    "!python 2d_elastic/AM_model.py 250 0 0.02 \"../data/AM_model/recorders.txt\" -r \"../results/2d_elastic\" -gpu "
   ]
  }
 ],
 "metadata": {
  "kernelspec": {
   "display_name": "devito",
   "language": "python",
   "name": "python3"
  },
  "language_info": {
   "codemirror_mode": {
    "name": "ipython",
    "version": 3
   },
   "file_extension": ".py",
   "mimetype": "text/x-python",
   "name": "python",
   "nbconvert_exporter": "python",
   "pygments_lexer": "ipython3",
   "version": "3.12.7"
  }
 },
 "nbformat": 4,
 "nbformat_minor": 2
}
