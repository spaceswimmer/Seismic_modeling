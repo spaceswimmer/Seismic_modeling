{
 "cells": [
  {
   "cell_type": "code",
   "execution_count": 6,
   "metadata": {},
   "outputs": [
    {
     "name": "stderr",
     "output_type": "stream",
     "text": [
      "Operator `initdamp` ran in 0.01 s\n"
     ]
    },
    {
     "name": "stdout",
     "output_type": "stream",
     "text": [
      "(110, 114) (np.float32(1.0), np.float32(1.0))\n",
      "(64958, 1)\n"
     ]
    },
    {
     "name": "stderr",
     "output_type": "stream",
     "text": [
      "Operator `ForwardElastic` ran in 2.96 s\n"
     ]
    }
   ],
   "source": [
    "sxz = \"50. 0.\"\n",
    "data_path = \"data/vibro_seis/\"\n",
    "%run 2d_vibro/vibro_seis_elastic.py 50. 0. \"../data/vibro_seis/recorders.txt\" -gpu"
   ]
  },
  {
   "cell_type": "code",
   "execution_count": 7,
   "metadata": {},
   "outputs": [],
   "source": [
    "import numpy as np"
   ]
  },
  {
   "cell_type": "code",
   "execution_count": null,
   "metadata": {},
   "outputs": [
    {
     "data": {
      "text/plain": [
       "array([-0.00096925, -0.00133742, -0.00183151, ..., -0.45605704,\n",
       "       -0.43818027, -0.4097744 ], shape=(64958,), dtype=float32)"
      ]
     },
     "execution_count": 8,
     "metadata": {},
     "output_type": "execute_result"
    }
   ],
   "source": [
    "with np.load(\"../results/vibro_elastic/vibro_full.npz\") as f:\n",
    "    data = f['data']\n",
    "    dt = f['dt']\n",
    "    sweep = f['sweep']"
   ]
  },
  {
   "cell_type": "code",
   "execution_count": null,
   "metadata": {},
   "outputs": [],
   "source": []
  }
 ],
 "metadata": {
  "kernelspec": {
   "display_name": "devito",
   "language": "python",
   "name": "python3"
  },
  "language_info": {
   "codemirror_mode": {
    "name": "ipython",
    "version": 3
   },
   "file_extension": ".py",
   "mimetype": "text/x-python",
   "name": "python",
   "nbconvert_exporter": "python",
   "pygments_lexer": "ipython3",
   "version": "3.12.7"
  }
 },
 "nbformat": 4,
 "nbformat_minor": 2
}
