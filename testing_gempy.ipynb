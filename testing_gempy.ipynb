{
 "cells": [
  {
   "cell_type": "markdown",
   "id": "492fb7c3-e71f-4fe2-a65d-40b17b54041d",
   "metadata": {},
   "source": [
    "# If in google Colab, use this"
   ]
  },
  {
   "cell_type": "code",
   "execution_count": 1,
   "id": "00b35924-9fdb-49c0-8547-b60781a7c9b6",
   "metadata": {},
   "outputs": [
    {
     "data": {
      "text/plain": [
       "'\\n!apt-get update\\n!apt-get -qq install xvfb\\n!pip install pyvirtualdisplay\\n'"
      ]
     },
     "execution_count": 1,
     "metadata": {},
     "output_type": "execute_result"
    }
   ],
   "source": [
    "\"\"\"\n",
    "!apt-get update\n",
    "!apt-get -qq install xvfb\n",
    "!pip install pyvirtualdisplay\n",
    "\"\"\""
   ]
  },
  {
   "cell_type": "markdown",
   "id": "6a464126-d9ed-4dec-8864-7dc0ee7fe7a9",
   "metadata": {},
   "source": [
    "\"\"\"\n",
    "from pyvirtualdisplay import Display\n",
    "display = Display(visible=0, size=(600, 400))\n",
    "display.start()\n",
    "\"\"\""
   ]
  },
  {
   "cell_type": "markdown",
   "id": "3af2f514-6c00-4f22-b8c9-3ce0c8d6c43b",
   "metadata": {},
   "source": [
    "# Gempy installation"
   ]
  },
  {
   "cell_type": "code",
   "execution_count": 1,
   "id": "7ed37599-65ff-4d0d-ac5f-1c658541723a",
   "metadata": {},
   "outputs": [
    {
     "name": "stdout",
     "output_type": "stream",
     "text": [
      "Setting Backend To: AvailableBackends.numpy\n"
     ]
    }
   ],
   "source": [
    "try:\n",
    "    #Import gempy\n",
    "    import gempy as gp\n",
    "except ModuleNotFoundError:\n",
    "    #Install gempy\n",
    "    ! pip install gempy\n",
    "    #import gempy\n",
    "    import gempy as gp\n",
    "\n",
    "#jinja2 for colour-coding of geo units\n",
    "try:\n",
    "    import jinja2\n",
    "except ModuleNotFoundError:\n",
    "    ! pip install jinja2\n",
    "    import jinja2"
   ]
  },
  {
   "cell_type": "markdown",
   "id": "062ef64b-8fa1-4fd4-aa17-e72410fd590e",
   "metadata": {},
   "source": [
    "# Creating geo model:"
   ]
  },
  {
   "cell_type": "code",
   "execution_count": 2,
   "id": "392372e7-754c-4951-a6b4-1f3fa4b9ddeb",
   "metadata": {},
   "outputs": [],
   "source": [
    "import numpy as np\n",
    "import gempy_viewer as gpv\n"
   ]
  },
  {
   "cell_type": "markdown",
   "id": "b163126d-36b8-421c-b5df-1b3fb5fad3a7",
   "metadata": {},
   "source": [
    "Модель в GemPy и в Devito строятся немного по-разному. В гемпай это квадраты размера a, а в Devito это точки посередине этих квадратов. То есть по краям у нас в гемпае будет по пол ячейки дополнительных"
   ]
  },
  {
   "cell_type": "code",
   "execution_count": 3,
   "id": "34c52e97-4743-4283-b7d7-9026666afd3d",
   "metadata": {},
   "outputs": [
    {
     "data": {
      "text/plain": [
       "{'_interpolation_options': InterpolationOptions(kernel_options={'range': 1.7, 'c_o': 10, 'uni_degree': 1, 'i_res': 4, 'gi_res': 2, 'number_dimensions': 3, 'kernel_function': <AvailableKernelFunctions.cubic: KernelFunction(base_function=<function cubic_function at 0x78376013d760>, derivative_div_r=<function cubic_function_p_div_r at 0x78376013d800>, second_derivative=<function cubic_function_a at 0x78376013d8a0>, consume_sq_distance=False)>, 'kernel_solver': <Solvers.DEFAULT: 1>, 'compute_condition_number': False, 'optimizing_condition_number': False, 'condition_number': None}, evaluation_options={'_number_octree_levels': 1, '_number_octree_levels_surface': 4, 'octree_curvature_threshold': -1, 'octree_error_threshold': 1.0, 'octree_min_level': 2, 'mesh_extraction': True, 'mesh_extraction_masking_options': <MeshExtractionMaskingOptions.INTERSECT: 3>, 'mesh_extraction_fancy': True, 'evaluation_chunk_size': 500000, 'compute_scalar_gradient': False, 'verbose': False}, temp_interpolation_values=<gempy_engine.core.data.options.temp_interpolation_values.TempInterpolationValues object at 0x78370ebe1ac0>, debug=True, cache_mode=CacheMode.IN_MEMORY_CACHE, cache_model_name=, block_solutions_type=BlockSolutionType.OCTREE, sigmoid_slope=50000, debug_water_tight=False),\n",
       " 'grid': Grid(values=array([[    0.,     0., -1000.],\n",
       "       [    0.,     0.,  -990.],\n",
       "       [    0.,     0.,  -980.],\n",
       "       ...,\n",
       "       [ 1000.,  1000.,   -20.],\n",
       "       [ 1000.,  1000.,   -10.],\n",
       "       [ 1000.,  1000.,     0.]]),\n",
       "              length=array([], dtype=float64),\n",
       "              _octree_grid=None,\n",
       "              _dense_grid=RegularGrid(resolution=array([101, 101, 101]),\n",
       "                                      extent=array([   -5.,  1005.,    -5.,  1005., -1005.,     5.]),\n",
       "                                      values=array([[    0.,     0., -1000.],\n",
       "       [    0.,     0.,  -990.],\n",
       "       [    0.,     0.,  -980.],\n",
       "       ...,\n",
       "       [ 1000.,  1000.,   -20.],\n",
       "       [ 1000.,  1000.,   -10.],\n",
       "       [ 1000.,  1000.,     0.]]),\n",
       "                                      mask_topo=array([], shape=(0, 3), dtype=bool),\n",
       "                                      _transform=None),\n",
       "              _custom_grid=None,\n",
       "              _topography=None,\n",
       "              _sections=None,\n",
       "              _centered_grid=None,\n",
       "              _transform=None,\n",
       "              _octree_levels=-1),\n",
       " 'input_transform': {'_cached_pivot': None,\n",
       " '_is_default_transform': True,\n",
       " 'position': array([0., 0., 0.]),\n",
       " 'rotation': array([0., 0., 0.]),\n",
       " 'scale': array([1., 1., 1.])},\n",
       " 'meta': GeoModelMeta(name='kimberlite_v1',\n",
       "                      creation_date=None,\n",
       "                      last_modification_date=None,\n",
       "                      owner=None),\n",
       " 'structural_frame': StructuralFrame(\n",
       "\tstructural_groups=[\n",
       "StructuralGroup(\n",
       "\tname=default_formations,\n",
       "\tstructural_relation=StackRelationType.ERODE,\n",
       "\telements=[\n",
       "Element(\n",
       "\tname=surface1,\n",
       "\tcolor=\u001b[38;2;1;84;130m#015482\u001b[0m,\n",
       "\tis_active=True\n",
       ")\n",
       "]\n",
       ")\n",
       "],\n",
       "\tfault_relations=\n",
       "[[False]],\n",
       "}"
      ]
     },
     "execution_count": 3,
     "metadata": {},
     "output_type": "execute_result"
    }
   ],
   "source": [
    "# set overarching model parameters\n",
    "extent = (-5., 1005, -5., 1005, -1005., 5.) #[x_min, x_max, y_min, y_max, z_min, z_max]\n",
    "shape = (101, 101, 101)\n",
    "\n",
    "\n",
    "geo_model = gp.create_geomodel(\n",
    "    project_name = 'kimberlite_v1',\n",
    "    extent=extent,\n",
    "    resolution = shape,\n",
    "    structural_frame = gp.data.StructuralFrame.initialize_default_structure()\n",
    ")\n",
    "geo_model"
   ]
  },
  {
   "cell_type": "markdown",
   "id": "9458c667-f34d-43b0-9959-1b43366b732a",
   "metadata": {},
   "source": [
    "# Creating surfaces"
   ]
  },
  {
   "cell_type": "markdown",
   "id": "d04a15e9-eca6-4e11-b8f9-8c300ec33b4f",
   "metadata": {},
   "source": [
    "To interpolate in gempy, the minimum data needed is:\n",
    "\n",
    "* 2 surface points per surface\n",
    "* One orientation per series\n",
    "\n",
    "Let’s add an orientation:"
   ]
  },
  {
   "cell_type": "code",
   "execution_count": 6,
   "id": "e609234e-a26b-470d-a632-980ef8deaa4d",
   "metadata": {},
   "outputs": [
    {
     "name": "stdout",
     "output_type": "stream",
     "text": [
      "Setting Backend To: AvailableBackends.numpy\n",
      "Chunking done: 21 chunks\n"
     ]
    },
    {
     "data": {
      "text/html": [
       "\n",
       "            <table>\n",
       "                <tr><td colspan='2' style='text-align:center'><b>KernelOptions</b></td></tr>\n",
       "                <tr><td>range</td><td>1.7</td></tr><tr><td>c_o</td><td>10</td></tr><tr><td>uni_degree</td><td>1</td></tr><tr><td>i_res</td><td>4</td></tr><tr><td>gi_res</td><td>2</td></tr><tr><td>number_dimensions</td><td>3</td></tr><tr><td>kernel_function</td><td>AvailableKernelFunctions.cubic</td></tr><tr><td>kernel_solver</td><td>Solvers.DEFAULT</td></tr><tr><td>compute_condition_number</td><td>False</td></tr><tr><td>optimizing_condition_number</td><td>False</td></tr><tr><td>condition_number</td><td>None</td></tr>\n",
       "            </table>\n",
       "            "
      ],
      "text/plain": [
       "KernelOptions(range=1.7, c_o=10, uni_degree=1, i_res=4, gi_res=2, number_dimensions=3, kernel_function=AvailableKernelFunctions.cubic, kernel_solver=Solvers.DEFAULT, compute_condition_number=False, optimizing_condition_number=False, condition_number=None)"
      ]
     },
     "execution_count": 6,
     "metadata": {},
     "output_type": "execute_result"
    }
   ],
   "source": [
    "#убрать анизотропию хз зачем\n",
    "geo_model.update_transform(gp.data.GlobalAnisotropy.NONE)\n",
    "\n",
    "gp.compute_model(geo_model, engine_config=gp.data.GemPyEngineConfig())\n",
    "geo_model.interpolation_options.kernel_options"
   ]
  },
  {
   "cell_type": "code",
   "execution_count": null,
   "id": "58ff7f0c-4697-4c3b-a22c-b7396be19650",
   "metadata": {},
   "outputs": [],
   "source": []
  }
 ],
 "metadata": {
  "kernelspec": {
   "display_name": "Python 3 (ipykernel)",
   "language": "python",
   "name": "python3"
  },
  "language_info": {
   "codemirror_mode": {
    "name": "ipython",
    "version": 3
   },
   "file_extension": ".py",
   "mimetype": "text/x-python",
   "name": "python",
   "nbconvert_exporter": "python",
   "pygments_lexer": "ipython3",
   "version": "3.12.3"
  }
 },
 "nbformat": 4,
 "nbformat_minor": 5
}
